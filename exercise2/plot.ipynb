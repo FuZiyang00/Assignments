{
 "cells": [
  {
   "cell_type": "code",
   "execution_count": 12,
   "metadata": {},
   "outputs": [],
   "source": [
    "import pandas as pd\n",
    "\n",
    "def txt_to_pd(input_txt): \n",
    "    mpi_processes = []\n",
    "    real_time = []\n",
    "    user_time = []\n",
    "    sys_time = []\n",
    "\n",
    "    # Open the text file\n",
    "    with open(input_txt, 'r') as file:\n",
    "        lines = file.readlines()\n",
    "\n",
    "        # Initialize variables to hold current run and process numbers\n",
    "        current_processes = None\n",
    "        real = None\n",
    "        user = None\n",
    "        sys = None\n",
    "\n",
    "        # Iterate through each line in the file\n",
    "        for line in lines:\n",
    "            if line.startswith((\"MPI processes:\", \"OpenMP threads\")):\n",
    "                current_processes = int(line.split(\":\")[1].strip())\n",
    "                mpi_processes.append(current_processes)\n",
    "                \n",
    "            elif line.startswith(\"real\"):\n",
    "                real = line.split()[-1].strip()\n",
    "                minutes, seconds = real.split('m')\n",
    "                seconds = seconds[:-1]\n",
    "                # Convert minutes and seconds to seconds\n",
    "                total_seconds = int(minutes) * 60 + float(seconds)\n",
    "                real_time.append(total_seconds)\n",
    "            \n",
    "            elif line.startswith(\"user\"):\n",
    "                user = line.split()[-1].strip()\n",
    "                minutes, seconds = user.split('m')\n",
    "                seconds = seconds[:-1]\n",
    "                # Convert minutes and seconds to seconds\n",
    "                total_seconds = int(minutes) * 60 + float(seconds)\n",
    "                user_time.append(total_seconds)\n",
    "                \n",
    "            \n",
    "            elif line.startswith(\"sys\"):\n",
    "                sys = line.split()[-1].strip()\n",
    "                minutes, seconds = sys.split('m')\n",
    "                seconds = seconds[:-1]\n",
    "                # Convert minutes and seconds to seconds\n",
    "                total_seconds = int(minutes) * 60 + float(seconds)\n",
    "                sys_time.append(total_seconds)\n",
    "\n",
    "    data = {\n",
    "    'MPI processes': mpi_processes,\n",
    "    'Real time': real_time,\n",
    "    'User time': user_time,\n",
    "    'System time': sys_time}\n",
    "\n",
    "    data = pd.DataFrame(data)\n",
    "\n",
    "    return data\n"
   ]
  },
  {
   "cell_type": "markdown",
   "metadata": {},
   "source": [
    "# MPI scaling: \n"
   ]
  },
  {
   "cell_type": "code",
   "execution_count": 13,
   "metadata": {},
   "outputs": [
    {
     "data": {
      "text/html": [
       "<div>\n",
       "<style scoped>\n",
       "    .dataframe tbody tr th:only-of-type {\n",
       "        vertical-align: middle;\n",
       "    }\n",
       "\n",
       "    .dataframe tbody tr th {\n",
       "        vertical-align: top;\n",
       "    }\n",
       "\n",
       "    .dataframe thead th {\n",
       "        text-align: right;\n",
       "    }\n",
       "</style>\n",
       "<table border=\"1\" class=\"dataframe\">\n",
       "  <thead>\n",
       "    <tr style=\"text-align: right;\">\n",
       "      <th></th>\n",
       "      <th>MPI processes</th>\n",
       "      <th>Real time</th>\n",
       "      <th>User time</th>\n",
       "      <th>System time</th>\n",
       "      <th>Speedup</th>\n",
       "      <th>theoretical_speedup</th>\n",
       "      <th>theoretical time</th>\n",
       "    </tr>\n",
       "  </thead>\n",
       "  <tbody>\n",
       "    <tr>\n",
       "      <th>0</th>\n",
       "      <td>2</td>\n",
       "      <td>1565.986</td>\n",
       "      <td>3117.178</td>\n",
       "      <td>1.431</td>\n",
       "      <td>1.000000</td>\n",
       "      <td>1.000000</td>\n",
       "      <td>1565.986000</td>\n",
       "    </tr>\n",
       "    <tr>\n",
       "      <th>1</th>\n",
       "      <td>4</td>\n",
       "      <td>733.536</td>\n",
       "      <td>2899.800</td>\n",
       "      <td>2.358</td>\n",
       "      <td>2.134845</td>\n",
       "      <td>2.994012</td>\n",
       "      <td>523.039324</td>\n",
       "    </tr>\n",
       "    <tr>\n",
       "      <th>2</th>\n",
       "      <td>6</td>\n",
       "      <td>403.249</td>\n",
       "      <td>2384.972</td>\n",
       "      <td>3.700</td>\n",
       "      <td>3.883422</td>\n",
       "      <td>4.980080</td>\n",
       "      <td>314.449989</td>\n",
       "    </tr>\n",
       "    <tr>\n",
       "      <th>3</th>\n",
       "      <td>8</td>\n",
       "      <td>477.725</td>\n",
       "      <td>3766.183</td>\n",
       "      <td>5.679</td>\n",
       "      <td>3.278007</td>\n",
       "      <td>6.958250</td>\n",
       "      <td>225.054559</td>\n",
       "    </tr>\n",
       "    <tr>\n",
       "      <th>4</th>\n",
       "      <td>10</td>\n",
       "      <td>327.489</td>\n",
       "      <td>3216.891</td>\n",
       "      <td>7.314</td>\n",
       "      <td>4.781797</td>\n",
       "      <td>8.928571</td>\n",
       "      <td>175.390432</td>\n",
       "    </tr>\n",
       "    <tr>\n",
       "      <th>...</th>\n",
       "      <td>...</td>\n",
       "      <td>...</td>\n",
       "      <td>...</td>\n",
       "      <td>...</td>\n",
       "      <td>...</td>\n",
       "      <td>...</td>\n",
       "      <td>...</td>\n",
       "    </tr>\n",
       "    <tr>\n",
       "      <th>123</th>\n",
       "      <td>248</td>\n",
       "      <td>37.150</td>\n",
       "      <td>3713.272</td>\n",
       "      <td>272.548</td>\n",
       "      <td>42.153055</td>\n",
       "      <td>198.234350</td>\n",
       "      <td>7.899670</td>\n",
       "    </tr>\n",
       "    <tr>\n",
       "      <th>124</th>\n",
       "      <td>250</td>\n",
       "      <td>36.377</td>\n",
       "      <td>3617.018</td>\n",
       "      <td>279.145</td>\n",
       "      <td>43.048795</td>\n",
       "      <td>199.519231</td>\n",
       "      <td>7.848797</td>\n",
       "    </tr>\n",
       "    <tr>\n",
       "      <th>125</th>\n",
       "      <td>252</td>\n",
       "      <td>37.071</td>\n",
       "      <td>3688.596</td>\n",
       "      <td>266.279</td>\n",
       "      <td>42.242885</td>\n",
       "      <td>200.800000</td>\n",
       "      <td>7.798735</td>\n",
       "    </tr>\n",
       "    <tr>\n",
       "      <th>126</th>\n",
       "      <td>254</td>\n",
       "      <td>36.365</td>\n",
       "      <td>3613.696</td>\n",
       "      <td>271.832</td>\n",
       "      <td>43.063000</td>\n",
       "      <td>202.076677</td>\n",
       "      <td>7.749464</td>\n",
       "    </tr>\n",
       "    <tr>\n",
       "      <th>127</th>\n",
       "      <td>256</td>\n",
       "      <td>37.098</td>\n",
       "      <td>3696.958</td>\n",
       "      <td>258.660</td>\n",
       "      <td>42.212141</td>\n",
       "      <td>203.349282</td>\n",
       "      <td>7.700966</td>\n",
       "    </tr>\n",
       "  </tbody>\n",
       "</table>\n",
       "<p>128 rows × 7 columns</p>\n",
       "</div>"
      ],
      "text/plain": [
       "     MPI processes  Real time  User time  System time    Speedup  \\\n",
       "0                2   1565.986   3117.178        1.431   1.000000   \n",
       "1                4    733.536   2899.800        2.358   2.134845   \n",
       "2                6    403.249   2384.972        3.700   3.883422   \n",
       "3                8    477.725   3766.183        5.679   3.278007   \n",
       "4               10    327.489   3216.891        7.314   4.781797   \n",
       "..             ...        ...        ...          ...        ...   \n",
       "123            248     37.150   3713.272      272.548  42.153055   \n",
       "124            250     36.377   3617.018      279.145  43.048795   \n",
       "125            252     37.071   3688.596      266.279  42.242885   \n",
       "126            254     36.365   3613.696      271.832  43.063000   \n",
       "127            256     37.098   3696.958      258.660  42.212141   \n",
       "\n",
       "     theoretical_speedup  theoretical time  \n",
       "0               1.000000       1565.986000  \n",
       "1               2.994012        523.039324  \n",
       "2               4.980080        314.449989  \n",
       "3               6.958250        225.054559  \n",
       "4               8.928571        175.390432  \n",
       "..                   ...               ...  \n",
       "123           198.234350          7.899670  \n",
       "124           199.519231          7.848797  \n",
       "125           200.800000          7.798735  \n",
       "126           202.076677          7.749464  \n",
       "127           203.349282          7.700966  \n",
       "\n",
       "[128 rows x 7 columns]"
      ]
     },
     "execution_count": 13,
     "metadata": {},
     "output_type": "execute_result"
    }
   ],
   "source": [
    "df = txt_to_pd('results/mpi_scaling.txt')\n",
    "baseline : float = 1565.986\n",
    "df['Speedup'] = baseline / df['Real time']\n",
    "df['theoretical_speedup'] = 1/ ((0.001) + (0.999 / (df['MPI processes'] - 1)))\n",
    "df['theoretical time'] = baseline / df['theoretical_speedup']\n",
    "df"
   ]
  },
  {
   "cell_type": "markdown",
   "metadata": {},
   "source": [
    "### Plotting the execution time "
   ]
  },
  {
   "cell_type": "code",
   "execution_count": 14,
   "metadata": {},
   "outputs": [
    {
     "data": {
      "application/vnd.plotly.v1+json": {
       "config": {
        "plotlyServerURL": "https://plot.ly"
       },
       "data": [
        {
         "mode": "lines",
         "name": "Measured time",
         "type": "scatter",
         "x": [
          2,
          4,
          6,
          8,
          10,
          12,
          14,
          16,
          18,
          20,
          22,
          24,
          26,
          28,
          30,
          32,
          34,
          36,
          38,
          40,
          42,
          44,
          46,
          48,
          50,
          52,
          54,
          56,
          58,
          60,
          62,
          64,
          66,
          68,
          70,
          72,
          74,
          76,
          78,
          80,
          82,
          84,
          86,
          88,
          90,
          92,
          94,
          96,
          98,
          100,
          102,
          104,
          106,
          108,
          110,
          112,
          114,
          116,
          118,
          120,
          122,
          124,
          126,
          128,
          130,
          132,
          134,
          136,
          138,
          140,
          142,
          144,
          146,
          148,
          150,
          152,
          154,
          156,
          158,
          160,
          162,
          164,
          166,
          168,
          170,
          172,
          174,
          176,
          178,
          180,
          182,
          184,
          186,
          188,
          190,
          192,
          194,
          196,
          198,
          200,
          202,
          204,
          206,
          208,
          210,
          212,
          214,
          216,
          218,
          220,
          222,
          224,
          226,
          228,
          230,
          232,
          234,
          236,
          238,
          240,
          242,
          244,
          246,
          248,
          250,
          252,
          254,
          256
         ],
         "y": [
          1565.986,
          733.536,
          403.249,
          477.725,
          327.489,
          411.891,
          302.939,
          410.078,
          283.46500000000003,
          268.375,
          213.003,
          235.446,
          192.417,
          216.548,
          191.431,
          222.525,
          176.512,
          169.856,
          148.187,
          158.24,
          140.89,
          153.191,
          139.39,
          154.118,
          131.505,
          128.1,
          115.666,
          120.868,
          109.815,
          116.378,
          108.35300000000001,
          117.59899999999999,
          105.205,
          101.785,
          93.85900000000001,
          97.38499999999999,
          90.269,
          95.223,
          90.97,
          96.318,
          87.543,
          85.773,
          80.013,
          83.124,
          78.765,
          82.04599999999999,
          77.128,
          82.283,
          75.213,
          74.974,
          71.411,
          72.326,
          69.713,
          72.109,
          68.996,
          71.622,
          67.249,
          66.853,
          65.759,
          65.666,
          63.666,
          65.276,
          63.556,
          65.32,
          61.786,
          60.939,
          58.287,
          59.407,
          58.083,
          58.801,
          57.372,
          58.941,
          55.74,
          55.624,
          53.493,
          54.015,
          52.884,
          54.932,
          52.937,
          54.571,
          52.121,
          51.073,
          49.82,
          50.134,
          48.895,
          50.115,
          48.777,
          50.251,
          48.574,
          47.278,
          46.246,
          47.14,
          46.013,
          46.448,
          45.717,
          46.277,
          44.827,
          44.927,
          43.611,
          44.853,
          42.856,
          43.478,
          43.05,
          43.42,
          42.131,
          41.555,
          41.192,
          41.903,
          40.716,
          41.461,
          40.572,
          41.455,
          39.76,
          39.633,
          38.61,
          39.251,
          38.013,
          38.685,
          37.627,
          39.288,
          37.681,
          37.796,
          36.799,
          37.15,
          36.377,
          37.071,
          36.365,
          37.098
         ]
        },
        {
         "mode": "lines",
         "name": "Theoretical time",
         "type": "scatter",
         "x": [
          2,
          4,
          6,
          8,
          10,
          12,
          14,
          16,
          18,
          20,
          22,
          24,
          26,
          28,
          30,
          32,
          34,
          36,
          38,
          40,
          42,
          44,
          46,
          48,
          50,
          52,
          54,
          56,
          58,
          60,
          62,
          64,
          66,
          68,
          70,
          72,
          74,
          76,
          78,
          80,
          82,
          84,
          86,
          88,
          90,
          92,
          94,
          96,
          98,
          100,
          102,
          104,
          106,
          108,
          110,
          112,
          114,
          116,
          118,
          120,
          122,
          124,
          126,
          128,
          130,
          132,
          134,
          136,
          138,
          140,
          142,
          144,
          146,
          148,
          150,
          152,
          154,
          156,
          158,
          160,
          162,
          164,
          166,
          168,
          170,
          172,
          174,
          176,
          178,
          180,
          182,
          184,
          186,
          188,
          190,
          192,
          194,
          196,
          198,
          200,
          202,
          204,
          206,
          208,
          210,
          212,
          214,
          216,
          218,
          220,
          222,
          224,
          226,
          228,
          230,
          232,
          234,
          236,
          238,
          240,
          242,
          244,
          246,
          248,
          250,
          252,
          254,
          256
         ],
         "y": [
          1565.986,
          523.0393240000001,
          314.4499888,
          225.05455942857142,
          175.390432,
          143.78598727272728,
          121.90598707692307,
          105.86065360000002,
          93.59069270588236,
          83.90388147368421,
          76.06217714285714,
          69.58424747826088,
          64.14278656000002,
          59.507468,
          55.51150372413794,
          52.03114774193549,
          48.97265309090909,
          46.26370068571429,
          43.847608,
          41.6793196923077,
          39.72257170731708,
          37.947846790697675,
          36.33087520000001,
          34.85151821276596,
          33.4929250612245,
          32.24088823529412,
          31.083344754716986,
          30.009986254545456,
          29.011951157894742,
          28.081579457627118,
          27.21221573770492,
          26.39804971428572,
          25.633986215384613,
          24.915538447761193,
          24.23873982608696,
          23.600070704225352,
          22.99639715068493,
          22.42491952,
          21.88312903896104,
          21.368770987341776,
          20.879813333333335,
          20.414419903614462,
          19.970927341176473,
          19.547825241379314,
          19.143738966292133,
          18.757414725274725,
          18.38770658064516,
          18.033565094736844,
          17.694027381443302,
          17.368208363636366,
          17.05529306930693,
          16.754529825242724,
          16.46522422857143,
          16.186733794392524,
          15.91846319266055,
          15.659859999999998,
          15.410410902654869,
          15.169638295652176,
          14.93709723076923,
          14.712372672268906,
          14.495077024793387,
          14.284847902439028,
          14.081346112,
          13.884253826771655,
          13.693272930232562,
          13.508123511450382,
          13.328542496240605,
          13.154282400000001,
          12.985110189781023,
          12.820806244604317,
          12.66116340425532,
          12.505986097902099,
          12.355089544827589,
          12.208299020408166,
          12.065449181208054,
          11.926383443708612,
          11.790953411764706,
          11.659018348387098,
          11.530444687898092,
          11.405105584905662,
          11.28288049689441,
          11.163654797546013,
          11.04731941818182,
          10.933770514970059,
          10.822909159763315,
          10.71464105263158,
          10.60887625433526,
          10.505528937142858,
          10.404517152542374,
          10.30576261452514,
          10.20919049723757,
          10.114729245901641,
          10.0223104,
          9.931868427807489,
          9.843340571428572,
          9.756666701570682,
          9.671789181347151,
          9.588652738461539,
          9.507204345177666,
          9.427393105527639,
          9.349170149253732,
          9.272488532019704,
          9.197303141463415,
          9.123570608695651,
          9.051249224880383,
          8.980298862559243,
          8.910680901408451,
          8.842358158139536,
          8.775294820276498,
          8.709456383561644,
          8.644809592760181,
          8.581322385650225,
          8.518963840000001,
          8.457704123348018,
          8.397514445414847,
          8.338367012987014,
          8.280234987124464,
          8.223092442553192,
          8.166914329113924,
          8.111676435146444,
          8.057355352697096,
          8.003928444444446,
          7.951373812244898,
          7.899670267206478,
          7.8487973012048196,
          7.798735059760956,
          7.749464316205535,
          7.700966447058824
         ]
        }
       ],
       "layout": {
        "annotations": [
         {
          "arrowhead": 1,
          "showarrow": true,
          "text": "1565.986",
          "x": 2,
          "y": 1665.986
         },
         {
          "arrowhead": 1,
          "showarrow": true,
          "text": "1565.986",
          "x": 2,
          "y": 1565.986
         },
         {
          "arrowhead": 1,
          "showarrow": true,
          "text": "117.59899999999999",
          "x": 64,
          "y": 217.599
         },
         {
          "arrowhead": 1,
          "showarrow": true,
          "text": "26.39804971428572",
          "x": 64,
          "y": 26.39804971428572
         },
         {
          "arrowhead": 1,
          "showarrow": true,
          "text": "65.32",
          "x": 128,
          "y": 165.32
         },
         {
          "arrowhead": 1,
          "showarrow": true,
          "text": "13.884253826771655",
          "x": 128,
          "y": 13.884253826771655
         },
         {
          "arrowhead": 1,
          "showarrow": true,
          "text": "46.277",
          "x": 192,
          "y": 146.277
         },
         {
          "arrowhead": 1,
          "showarrow": true,
          "text": "9.756666701570682",
          "x": 192,
          "y": 9.756666701570682
         },
         {
          "arrowhead": 1,
          "showarrow": true,
          "text": "37.098",
          "x": 256,
          "y": 137.098
         },
         {
          "arrowhead": 1,
          "showarrow": true,
          "text": "7.700966447058824",
          "x": 256,
          "y": 7.700966447058824
         }
        ],
        "template": {
         "data": {
          "bar": [
           {
            "error_x": {
             "color": "#2a3f5f"
            },
            "error_y": {
             "color": "#2a3f5f"
            },
            "marker": {
             "line": {
              "color": "#E5ECF6",
              "width": 0.5
             },
             "pattern": {
              "fillmode": "overlay",
              "size": 10,
              "solidity": 0.2
             }
            },
            "type": "bar"
           }
          ],
          "barpolar": [
           {
            "marker": {
             "line": {
              "color": "#E5ECF6",
              "width": 0.5
             },
             "pattern": {
              "fillmode": "overlay",
              "size": 10,
              "solidity": 0.2
             }
            },
            "type": "barpolar"
           }
          ],
          "carpet": [
           {
            "aaxis": {
             "endlinecolor": "#2a3f5f",
             "gridcolor": "white",
             "linecolor": "white",
             "minorgridcolor": "white",
             "startlinecolor": "#2a3f5f"
            },
            "baxis": {
             "endlinecolor": "#2a3f5f",
             "gridcolor": "white",
             "linecolor": "white",
             "minorgridcolor": "white",
             "startlinecolor": "#2a3f5f"
            },
            "type": "carpet"
           }
          ],
          "choropleth": [
           {
            "colorbar": {
             "outlinewidth": 0,
             "ticks": ""
            },
            "type": "choropleth"
           }
          ],
          "contour": [
           {
            "colorbar": {
             "outlinewidth": 0,
             "ticks": ""
            },
            "colorscale": [
             [
              0,
              "#0d0887"
             ],
             [
              0.1111111111111111,
              "#46039f"
             ],
             [
              0.2222222222222222,
              "#7201a8"
             ],
             [
              0.3333333333333333,
              "#9c179e"
             ],
             [
              0.4444444444444444,
              "#bd3786"
             ],
             [
              0.5555555555555556,
              "#d8576b"
             ],
             [
              0.6666666666666666,
              "#ed7953"
             ],
             [
              0.7777777777777778,
              "#fb9f3a"
             ],
             [
              0.8888888888888888,
              "#fdca26"
             ],
             [
              1,
              "#f0f921"
             ]
            ],
            "type": "contour"
           }
          ],
          "contourcarpet": [
           {
            "colorbar": {
             "outlinewidth": 0,
             "ticks": ""
            },
            "type": "contourcarpet"
           }
          ],
          "heatmap": [
           {
            "colorbar": {
             "outlinewidth": 0,
             "ticks": ""
            },
            "colorscale": [
             [
              0,
              "#0d0887"
             ],
             [
              0.1111111111111111,
              "#46039f"
             ],
             [
              0.2222222222222222,
              "#7201a8"
             ],
             [
              0.3333333333333333,
              "#9c179e"
             ],
             [
              0.4444444444444444,
              "#bd3786"
             ],
             [
              0.5555555555555556,
              "#d8576b"
             ],
             [
              0.6666666666666666,
              "#ed7953"
             ],
             [
              0.7777777777777778,
              "#fb9f3a"
             ],
             [
              0.8888888888888888,
              "#fdca26"
             ],
             [
              1,
              "#f0f921"
             ]
            ],
            "type": "heatmap"
           }
          ],
          "heatmapgl": [
           {
            "colorbar": {
             "outlinewidth": 0,
             "ticks": ""
            },
            "colorscale": [
             [
              0,
              "#0d0887"
             ],
             [
              0.1111111111111111,
              "#46039f"
             ],
             [
              0.2222222222222222,
              "#7201a8"
             ],
             [
              0.3333333333333333,
              "#9c179e"
             ],
             [
              0.4444444444444444,
              "#bd3786"
             ],
             [
              0.5555555555555556,
              "#d8576b"
             ],
             [
              0.6666666666666666,
              "#ed7953"
             ],
             [
              0.7777777777777778,
              "#fb9f3a"
             ],
             [
              0.8888888888888888,
              "#fdca26"
             ],
             [
              1,
              "#f0f921"
             ]
            ],
            "type": "heatmapgl"
           }
          ],
          "histogram": [
           {
            "marker": {
             "pattern": {
              "fillmode": "overlay",
              "size": 10,
              "solidity": 0.2
             }
            },
            "type": "histogram"
           }
          ],
          "histogram2d": [
           {
            "colorbar": {
             "outlinewidth": 0,
             "ticks": ""
            },
            "colorscale": [
             [
              0,
              "#0d0887"
             ],
             [
              0.1111111111111111,
              "#46039f"
             ],
             [
              0.2222222222222222,
              "#7201a8"
             ],
             [
              0.3333333333333333,
              "#9c179e"
             ],
             [
              0.4444444444444444,
              "#bd3786"
             ],
             [
              0.5555555555555556,
              "#d8576b"
             ],
             [
              0.6666666666666666,
              "#ed7953"
             ],
             [
              0.7777777777777778,
              "#fb9f3a"
             ],
             [
              0.8888888888888888,
              "#fdca26"
             ],
             [
              1,
              "#f0f921"
             ]
            ],
            "type": "histogram2d"
           }
          ],
          "histogram2dcontour": [
           {
            "colorbar": {
             "outlinewidth": 0,
             "ticks": ""
            },
            "colorscale": [
             [
              0,
              "#0d0887"
             ],
             [
              0.1111111111111111,
              "#46039f"
             ],
             [
              0.2222222222222222,
              "#7201a8"
             ],
             [
              0.3333333333333333,
              "#9c179e"
             ],
             [
              0.4444444444444444,
              "#bd3786"
             ],
             [
              0.5555555555555556,
              "#d8576b"
             ],
             [
              0.6666666666666666,
              "#ed7953"
             ],
             [
              0.7777777777777778,
              "#fb9f3a"
             ],
             [
              0.8888888888888888,
              "#fdca26"
             ],
             [
              1,
              "#f0f921"
             ]
            ],
            "type": "histogram2dcontour"
           }
          ],
          "mesh3d": [
           {
            "colorbar": {
             "outlinewidth": 0,
             "ticks": ""
            },
            "type": "mesh3d"
           }
          ],
          "parcoords": [
           {
            "line": {
             "colorbar": {
              "outlinewidth": 0,
              "ticks": ""
             }
            },
            "type": "parcoords"
           }
          ],
          "pie": [
           {
            "automargin": true,
            "type": "pie"
           }
          ],
          "scatter": [
           {
            "fillpattern": {
             "fillmode": "overlay",
             "size": 10,
             "solidity": 0.2
            },
            "type": "scatter"
           }
          ],
          "scatter3d": [
           {
            "line": {
             "colorbar": {
              "outlinewidth": 0,
              "ticks": ""
             }
            },
            "marker": {
             "colorbar": {
              "outlinewidth": 0,
              "ticks": ""
             }
            },
            "type": "scatter3d"
           }
          ],
          "scattercarpet": [
           {
            "marker": {
             "colorbar": {
              "outlinewidth": 0,
              "ticks": ""
             }
            },
            "type": "scattercarpet"
           }
          ],
          "scattergeo": [
           {
            "marker": {
             "colorbar": {
              "outlinewidth": 0,
              "ticks": ""
             }
            },
            "type": "scattergeo"
           }
          ],
          "scattergl": [
           {
            "marker": {
             "colorbar": {
              "outlinewidth": 0,
              "ticks": ""
             }
            },
            "type": "scattergl"
           }
          ],
          "scattermapbox": [
           {
            "marker": {
             "colorbar": {
              "outlinewidth": 0,
              "ticks": ""
             }
            },
            "type": "scattermapbox"
           }
          ],
          "scatterpolar": [
           {
            "marker": {
             "colorbar": {
              "outlinewidth": 0,
              "ticks": ""
             }
            },
            "type": "scatterpolar"
           }
          ],
          "scatterpolargl": [
           {
            "marker": {
             "colorbar": {
              "outlinewidth": 0,
              "ticks": ""
             }
            },
            "type": "scatterpolargl"
           }
          ],
          "scatterternary": [
           {
            "marker": {
             "colorbar": {
              "outlinewidth": 0,
              "ticks": ""
             }
            },
            "type": "scatterternary"
           }
          ],
          "surface": [
           {
            "colorbar": {
             "outlinewidth": 0,
             "ticks": ""
            },
            "colorscale": [
             [
              0,
              "#0d0887"
             ],
             [
              0.1111111111111111,
              "#46039f"
             ],
             [
              0.2222222222222222,
              "#7201a8"
             ],
             [
              0.3333333333333333,
              "#9c179e"
             ],
             [
              0.4444444444444444,
              "#bd3786"
             ],
             [
              0.5555555555555556,
              "#d8576b"
             ],
             [
              0.6666666666666666,
              "#ed7953"
             ],
             [
              0.7777777777777778,
              "#fb9f3a"
             ],
             [
              0.8888888888888888,
              "#fdca26"
             ],
             [
              1,
              "#f0f921"
             ]
            ],
            "type": "surface"
           }
          ],
          "table": [
           {
            "cells": {
             "fill": {
              "color": "#EBF0F8"
             },
             "line": {
              "color": "white"
             }
            },
            "header": {
             "fill": {
              "color": "#C8D4E3"
             },
             "line": {
              "color": "white"
             }
            },
            "type": "table"
           }
          ]
         },
         "layout": {
          "annotationdefaults": {
           "arrowcolor": "#2a3f5f",
           "arrowhead": 0,
           "arrowwidth": 1
          },
          "autotypenumbers": "strict",
          "coloraxis": {
           "colorbar": {
            "outlinewidth": 0,
            "ticks": ""
           }
          },
          "colorscale": {
           "diverging": [
            [
             0,
             "#8e0152"
            ],
            [
             0.1,
             "#c51b7d"
            ],
            [
             0.2,
             "#de77ae"
            ],
            [
             0.3,
             "#f1b6da"
            ],
            [
             0.4,
             "#fde0ef"
            ],
            [
             0.5,
             "#f7f7f7"
            ],
            [
             0.6,
             "#e6f5d0"
            ],
            [
             0.7,
             "#b8e186"
            ],
            [
             0.8,
             "#7fbc41"
            ],
            [
             0.9,
             "#4d9221"
            ],
            [
             1,
             "#276419"
            ]
           ],
           "sequential": [
            [
             0,
             "#0d0887"
            ],
            [
             0.1111111111111111,
             "#46039f"
            ],
            [
             0.2222222222222222,
             "#7201a8"
            ],
            [
             0.3333333333333333,
             "#9c179e"
            ],
            [
             0.4444444444444444,
             "#bd3786"
            ],
            [
             0.5555555555555556,
             "#d8576b"
            ],
            [
             0.6666666666666666,
             "#ed7953"
            ],
            [
             0.7777777777777778,
             "#fb9f3a"
            ],
            [
             0.8888888888888888,
             "#fdca26"
            ],
            [
             1,
             "#f0f921"
            ]
           ],
           "sequentialminus": [
            [
             0,
             "#0d0887"
            ],
            [
             0.1111111111111111,
             "#46039f"
            ],
            [
             0.2222222222222222,
             "#7201a8"
            ],
            [
             0.3333333333333333,
             "#9c179e"
            ],
            [
             0.4444444444444444,
             "#bd3786"
            ],
            [
             0.5555555555555556,
             "#d8576b"
            ],
            [
             0.6666666666666666,
             "#ed7953"
            ],
            [
             0.7777777777777778,
             "#fb9f3a"
            ],
            [
             0.8888888888888888,
             "#fdca26"
            ],
            [
             1,
             "#f0f921"
            ]
           ]
          },
          "colorway": [
           "#636efa",
           "#EF553B",
           "#00cc96",
           "#ab63fa",
           "#FFA15A",
           "#19d3f3",
           "#FF6692",
           "#B6E880",
           "#FF97FF",
           "#FECB52"
          ],
          "font": {
           "color": "#2a3f5f"
          },
          "geo": {
           "bgcolor": "white",
           "lakecolor": "white",
           "landcolor": "#E5ECF6",
           "showlakes": true,
           "showland": true,
           "subunitcolor": "white"
          },
          "hoverlabel": {
           "align": "left"
          },
          "hovermode": "closest",
          "mapbox": {
           "style": "light"
          },
          "paper_bgcolor": "white",
          "plot_bgcolor": "#E5ECF6",
          "polar": {
           "angularaxis": {
            "gridcolor": "white",
            "linecolor": "white",
            "ticks": ""
           },
           "bgcolor": "#E5ECF6",
           "radialaxis": {
            "gridcolor": "white",
            "linecolor": "white",
            "ticks": ""
           }
          },
          "scene": {
           "xaxis": {
            "backgroundcolor": "#E5ECF6",
            "gridcolor": "white",
            "gridwidth": 2,
            "linecolor": "white",
            "showbackground": true,
            "ticks": "",
            "zerolinecolor": "white"
           },
           "yaxis": {
            "backgroundcolor": "#E5ECF6",
            "gridcolor": "white",
            "gridwidth": 2,
            "linecolor": "white",
            "showbackground": true,
            "ticks": "",
            "zerolinecolor": "white"
           },
           "zaxis": {
            "backgroundcolor": "#E5ECF6",
            "gridcolor": "white",
            "gridwidth": 2,
            "linecolor": "white",
            "showbackground": true,
            "ticks": "",
            "zerolinecolor": "white"
           }
          },
          "shapedefaults": {
           "line": {
            "color": "#2a3f5f"
           }
          },
          "ternary": {
           "aaxis": {
            "gridcolor": "white",
            "linecolor": "white",
            "ticks": ""
           },
           "baxis": {
            "gridcolor": "white",
            "linecolor": "white",
            "ticks": ""
           },
           "bgcolor": "#E5ECF6",
           "caxis": {
            "gridcolor": "white",
            "linecolor": "white",
            "ticks": ""
           }
          },
          "title": {
           "x": 0.05
          },
          "xaxis": {
           "automargin": true,
           "gridcolor": "white",
           "linecolor": "white",
           "ticks": "",
           "title": {
            "standoff": 15
           },
           "zerolinecolor": "white",
           "zerolinewidth": 2
          },
          "yaxis": {
           "automargin": true,
           "gridcolor": "white",
           "linecolor": "white",
           "ticks": "",
           "title": {
            "standoff": 15
           },
           "zerolinecolor": "white",
           "zerolinewidth": 2
          }
         }
        },
        "title": {
         "text": "MPI Scaling in seconds"
        },
        "xaxis": {
         "ticktext": [
          "0",
          "64",
          "128",
          "192",
          "256"
         ],
         "tickvals": [
          0,
          64,
          128,
          192,
          256
         ],
         "title": {
          "text": "MPI processes"
         }
        },
        "yaxis": {
         "title": {
          "text": "Time in seconds"
         }
        }
       }
      }
     },
     "metadata": {},
     "output_type": "display_data"
    }
   ],
   "source": [
    "import plotly.graph_objects as go\n",
    "import numpy as np\n",
    "import plotly.express as px\n",
    "\n",
    "# Create a line for Real time\n",
    "fig = go.Figure()\n",
    "fig.add_trace(go.Scatter(x=df['MPI processes'], y=df['Real time'], mode='lines', name='Measured time'))\n",
    "\n",
    "# Create a line for Theoretical time\n",
    "fig.add_trace(go.Scatter(x=df['MPI processes'], y=df['theoretical time'], mode='lines', name='Theoretical time'))\n",
    "\n",
    "total_processes = df['MPI processes'].max()\n",
    "quarter_points = [int(total_processes / 4) * i for i in range(5)]  # [0, 1/4, 2/4, 3/4, 1]\n",
    "\n",
    "# Set the x-axis tick marks and labels\n",
    "fig.update_xaxes(\n",
    "    tickvals=quarter_points,\n",
    "    ticktext=[f'{int(p)}' for p in quarter_points]  # You can customize the format of the labels\n",
    ")\n",
    "\n",
    "# Annotate the quarter points with y-axis labels for both Real time and Theoretical time\n",
    "for x in quarter_points:\n",
    "    # Find the nearest MPI processes value to the quarter point for Real time\n",
    "    nearest_idx_real = np.abs(df['MPI processes'] - x).idxmin()\n",
    "    nearest_mpi_processes_real = df.loc[nearest_idx_real, 'MPI processes']\n",
    "    nearest_real_time = df.loc[nearest_idx_real, 'Real time']\n",
    "    fig.add_annotation(x=nearest_mpi_processes_real, y=nearest_real_time + 100, text=str(nearest_real_time), showarrow=True, arrowhead=1)\n",
    "\n",
    "    # Find the nearest MPI processes value to the quarter point for Theoretical time\n",
    "    nearest_idx_theoretical = np.abs(df['MPI processes'] - x).idxmin()\n",
    "    nearest_mpi_processes_theoretical = df.loc[nearest_idx_theoretical, 'MPI processes']\n",
    "    nearest_theoretical_time = df.loc[nearest_idx_theoretical, 'theoretical time']\n",
    "    fig.add_annotation(x=nearest_mpi_processes_theoretical, y=nearest_theoretical_time, text=str(nearest_theoretical_time), showarrow=True, arrowhead=1)\n",
    "\n",
    "fig.update_layout(\n",
    "    title=\"MPI Scaling in seconds\",\n",
    "    xaxis_title=\"MPI processes\",\n",
    "    yaxis_title=\"Time in seconds\"\n",
    ")\n",
    "fig.show()"
   ]
  },
  {
   "cell_type": "markdown",
   "metadata": {},
   "source": [
    "### Determining the speed up "
   ]
  },
  {
   "cell_type": "code",
   "execution_count": 15,
   "metadata": {},
   "outputs": [
    {
     "data": {
      "application/vnd.plotly.v1+json": {
       "config": {
        "plotlyServerURL": "https://plot.ly"
       },
       "data": [
        {
         "mode": "lines",
         "name": "Measured speedup",
         "type": "scatter",
         "x": [
          2,
          4,
          6,
          8,
          10,
          12,
          14,
          16,
          18,
          20,
          22,
          24,
          26,
          28,
          30,
          32,
          34,
          36,
          38,
          40,
          42,
          44,
          46,
          48,
          50,
          52,
          54,
          56,
          58,
          60,
          62,
          64,
          66,
          68,
          70,
          72,
          74,
          76,
          78,
          80,
          82,
          84,
          86,
          88,
          90,
          92,
          94,
          96,
          98,
          100,
          102,
          104,
          106,
          108,
          110,
          112,
          114,
          116,
          118,
          120,
          122,
          124,
          126,
          128,
          130,
          132,
          134,
          136,
          138,
          140,
          142,
          144,
          146,
          148,
          150,
          152,
          154,
          156,
          158,
          160,
          162,
          164,
          166,
          168,
          170,
          172,
          174,
          176,
          178,
          180,
          182,
          184,
          186,
          188,
          190,
          192,
          194,
          196,
          198,
          200,
          202,
          204,
          206,
          208,
          210,
          212,
          214,
          216,
          218,
          220,
          222,
          224,
          226,
          228,
          230,
          232,
          234,
          236,
          238,
          240,
          242,
          244,
          246,
          248,
          250,
          252,
          254,
          256
         ],
         "y": [
          1,
          2.1348454608908085,
          3.8834219055719914,
          3.2780072217279814,
          4.781797251205385,
          3.801942746988888,
          5.169311313498757,
          3.8187515545822994,
          5.5244421709911276,
          5.835066604564509,
          7.351943399858219,
          6.651147184492411,
          8.138501275874793,
          7.2315883776345204,
          8.180420099147996,
          7.037348612515448,
          8.871838741841914,
          9.21949180482291,
          10.567634137947323,
          9.896271486349848,
          11.11495492937753,
          10.222441266131822,
          11.234564889877324,
          10.160954593233757,
          11.9081860005323,
          12.224715066354412,
          13.538861895457613,
          12.956167058278455,
          14.260219460000911,
          13.456031208647683,
          14.452631676095724,
          13.316320717012902,
          14.885091012784565,
          15.385233580586531,
          16.684452210230237,
          16.08036145196899,
          17.347993220263877,
          16.445459605347448,
          17.214312410684844,
          16.2584978923981,
          17.888192088459384,
          18.257330395345857,
          19.57164460775124,
          18.839155959770945,
          19.881749508030218,
          19.086683080223292,
          20.303728866300176,
          19.031707643134062,
          20.820682594764207,
          20.887054178781977,
          21.92919858285138,
          21.65177114730526,
          22.46332821711876,
          21.716928538739968,
          22.696765029856806,
          21.864594677613024,
          23.28638344064596,
          23.42431902831586,
          23.814017853069544,
          23.84774464715378,
          24.596896302579086,
          23.990226116796375,
          24.63946755617094,
          23.974066135946117,
          25.345320946492734,
          25.697599238582846,
          26.866814212431592,
          26.360294241419364,
          26.961176247783346,
          26.631962041461883,
          27.2953008436171,
          26.568704297517858,
          28.094474345174024,
          28.153063425859344,
          29.274596676200627,
          28.99168749421457,
          29.611716209061342,
          28.507718633947427,
          29.582069252129894,
          28.696303897674593,
          30.0452025095451,
          30.661719499539878,
          31.432878362103576,
          31.236007499900268,
          32.02752837713468,
          31.24784994512621,
          32.105008508108334,
          31.163280332729702,
          32.23918145509944,
          33.122932442150685,
          33.862085369545476,
          33.21989817564701,
          34.03355573424902,
          33.71482087495694,
          34.25390992409826,
          33.83940186269637,
          34.93399067526268,
          34.85623344536693,
          35.90805072114834,
          34.91374044099614,
          36.54064775060668,
          36.01789410736465,
          36.37598141695703,
          36.06600644864118,
          37.16944767510859,
          37.68465888581398,
          38.016750825402994,
          37.37169176431282,
          38.46119461636703,
          37.77009719977811,
          38.59770284925565,
          37.77556386443131,
          39.385965794768616,
          39.51217419826912,
          40.55907795907796,
          39.89671600723549,
          41.196064504248554,
          40.48044461677653,
          41.61867807691286,
          39.859142740786,
          41.559035057456015,
          41.43258545877871,
          42.55512378053752,
          42.153055181695834,
          43.04879456799626,
          42.24288527420356,
          43.063000137494846,
          42.21214081621651
         ]
        },
        {
         "mode": "lines",
         "name": "Theoretical speedup",
         "type": "scatter",
         "x": [
          2,
          4,
          6,
          8,
          10,
          12,
          14,
          16,
          18,
          20,
          22,
          24,
          26,
          28,
          30,
          32,
          34,
          36,
          38,
          40,
          42,
          44,
          46,
          48,
          50,
          52,
          54,
          56,
          58,
          60,
          62,
          64,
          66,
          68,
          70,
          72,
          74,
          76,
          78,
          80,
          82,
          84,
          86,
          88,
          90,
          92,
          94,
          96,
          98,
          100,
          102,
          104,
          106,
          108,
          110,
          112,
          114,
          116,
          118,
          120,
          122,
          124,
          126,
          128,
          130,
          132,
          134,
          136,
          138,
          140,
          142,
          144,
          146,
          148,
          150,
          152,
          154,
          156,
          158,
          160,
          162,
          164,
          166,
          168,
          170,
          172,
          174,
          176,
          178,
          180,
          182,
          184,
          186,
          188,
          190,
          192,
          194,
          196,
          198,
          200,
          202,
          204,
          206,
          208,
          210,
          212,
          214,
          216,
          218,
          220,
          222,
          224,
          226,
          228,
          230,
          232,
          234,
          236,
          238,
          240,
          242,
          244,
          246,
          248,
          250,
          252,
          254,
          256
         ],
         "y": [
          1,
          2.994011976047904,
          4.9800796812749,
          6.958250497017893,
          8.928571428571429,
          10.891089108910892,
          12.845849802371543,
          14.792899408284022,
          16.73228346456693,
          18.664047151277014,
          20.58823529411765,
          22.504892367906066,
          24.414062499999996,
          26.315789473684212,
          28.21011673151751,
          30.097087378640776,
          31.976744186046513,
          33.849129593810446,
          35.714285714285715,
          37.57225433526011,
          39.42307692307692,
          41.26679462571977,
          43.103448275862064,
          44.93307839388145,
          46.75572519083969,
          48.57142857142857,
          50.380228136882124,
          52.182163187855785,
          53.97727272727272,
          55.765595463138,
          57.54716981132076,
          59.32203389830508,
          61.09022556390978,
          62.85178236397749,
          64.6067415730337,
          66.35514018691589,
          68.09701492537314,
          69.83240223463687,
          71.56133828996282,
          73.28385899814471,
          75,
          76.70979667282809,
          78.41328413284133,
          80.11049723756905,
          81.8014705882353,
          83.4862385321101,
          85.16483516483518,
          86.83729433272394,
          88.50364963503648,
          90.1639344262295,
          91.81818181818183,
          93.46642468239563,
          95.1086956521739,
          96.74502712477396,
          98.37545126353791,
          100.00000000000001,
          101.61870503597122,
          103.23159784560143,
          104.83870967741937,
          106.44007155635065,
          108.0357142857143,
          109.62566844919785,
          111.20996441281139,
          112.7886323268206,
          114.36170212765956,
          115.929203539823,
          117.4911660777385,
          119.04761904761904,
          120.59859154929576,
          122.14411247803164,
          123.6842105263158,
          125.21891418563924,
          126.74825174825173,
          128.2722513089005,
          129.79094076655053,
          131.30434782608694,
          132.8125,
          134.315424610052,
          135.81314878892732,
          137.30569948186528,
          138.79310344827587,
          140.27538726333907,
          141.75257731958763,
          143.22469982847343,
          144.6917808219178,
          146.15384615384616,
          147.61092150170649,
          149.06303236797274,
          150.51020408163265,
          151.95246179966045,
          153.38983050847457,
          154.8223350253807,
          156.25,
          157.67284991568295,
          159.0909090909091,
          160.50420168067225,
          161.91275167785236,
          163.31658291457288,
          164.71571906354515,
          166.110183639399,
          167.5,
          168.88519134775376,
          170.265780730897,
          171.64179104477614,
          173.01324503311258,
          174.38016528925618,
          175.74257425742576,
          177.10049423393738,
          178.45394736842104,
          179.80295566502463,
          181.14754098360658,
          182.48772504091653,
          183.8235294117647,
          185.15497553017946,
          186.48208469055376,
          187.80487804878047,
          189.12337662337663,
          190.43760129659643,
          191.747572815534,
          193.05331179321487,
          194.35483870967744,
          195.65217391304347,
          196.94533762057878,
          198.23434991974318,
          199.51923076923077,
          200.8,
          202.0766773162939,
          203.34928229665073
         ]
        }
       ],
       "layout": {
        "annotations": [
         {
          "arrowhead": 1,
          "showarrow": true,
          "text": "1.0",
          "x": 2,
          "y": 1
         },
         {
          "arrowhead": 1,
          "showarrow": true,
          "text": "1.0",
          "x": 2,
          "y": 1
         },
         {
          "arrowhead": 1,
          "showarrow": true,
          "text": "13.316320717012902",
          "x": 64,
          "y": 13.316320717012902
         },
         {
          "arrowhead": 1,
          "showarrow": true,
          "text": "59.32203389830508",
          "x": 64,
          "y": 59.32203389830508
         },
         {
          "arrowhead": 1,
          "showarrow": true,
          "text": "23.974066135946117",
          "x": 128,
          "y": 23.974066135946117
         },
         {
          "arrowhead": 1,
          "showarrow": true,
          "text": "112.7886323268206",
          "x": 128,
          "y": 112.7886323268206
         },
         {
          "arrowhead": 1,
          "showarrow": true,
          "text": "33.83940186269637",
          "x": 192,
          "y": 33.83940186269637
         },
         {
          "arrowhead": 1,
          "showarrow": true,
          "text": "160.50420168067225",
          "x": 192,
          "y": 160.50420168067225
         },
         {
          "arrowhead": 1,
          "showarrow": true,
          "text": "42.21214081621651",
          "x": 256,
          "y": 42.21214081621651
         },
         {
          "arrowhead": 1,
          "showarrow": true,
          "text": "203.34928229665073",
          "x": 256,
          "y": 203.34928229665073
         }
        ],
        "template": {
         "data": {
          "bar": [
           {
            "error_x": {
             "color": "#2a3f5f"
            },
            "error_y": {
             "color": "#2a3f5f"
            },
            "marker": {
             "line": {
              "color": "#E5ECF6",
              "width": 0.5
             },
             "pattern": {
              "fillmode": "overlay",
              "size": 10,
              "solidity": 0.2
             }
            },
            "type": "bar"
           }
          ],
          "barpolar": [
           {
            "marker": {
             "line": {
              "color": "#E5ECF6",
              "width": 0.5
             },
             "pattern": {
              "fillmode": "overlay",
              "size": 10,
              "solidity": 0.2
             }
            },
            "type": "barpolar"
           }
          ],
          "carpet": [
           {
            "aaxis": {
             "endlinecolor": "#2a3f5f",
             "gridcolor": "white",
             "linecolor": "white",
             "minorgridcolor": "white",
             "startlinecolor": "#2a3f5f"
            },
            "baxis": {
             "endlinecolor": "#2a3f5f",
             "gridcolor": "white",
             "linecolor": "white",
             "minorgridcolor": "white",
             "startlinecolor": "#2a3f5f"
            },
            "type": "carpet"
           }
          ],
          "choropleth": [
           {
            "colorbar": {
             "outlinewidth": 0,
             "ticks": ""
            },
            "type": "choropleth"
           }
          ],
          "contour": [
           {
            "colorbar": {
             "outlinewidth": 0,
             "ticks": ""
            },
            "colorscale": [
             [
              0,
              "#0d0887"
             ],
             [
              0.1111111111111111,
              "#46039f"
             ],
             [
              0.2222222222222222,
              "#7201a8"
             ],
             [
              0.3333333333333333,
              "#9c179e"
             ],
             [
              0.4444444444444444,
              "#bd3786"
             ],
             [
              0.5555555555555556,
              "#d8576b"
             ],
             [
              0.6666666666666666,
              "#ed7953"
             ],
             [
              0.7777777777777778,
              "#fb9f3a"
             ],
             [
              0.8888888888888888,
              "#fdca26"
             ],
             [
              1,
              "#f0f921"
             ]
            ],
            "type": "contour"
           }
          ],
          "contourcarpet": [
           {
            "colorbar": {
             "outlinewidth": 0,
             "ticks": ""
            },
            "type": "contourcarpet"
           }
          ],
          "heatmap": [
           {
            "colorbar": {
             "outlinewidth": 0,
             "ticks": ""
            },
            "colorscale": [
             [
              0,
              "#0d0887"
             ],
             [
              0.1111111111111111,
              "#46039f"
             ],
             [
              0.2222222222222222,
              "#7201a8"
             ],
             [
              0.3333333333333333,
              "#9c179e"
             ],
             [
              0.4444444444444444,
              "#bd3786"
             ],
             [
              0.5555555555555556,
              "#d8576b"
             ],
             [
              0.6666666666666666,
              "#ed7953"
             ],
             [
              0.7777777777777778,
              "#fb9f3a"
             ],
             [
              0.8888888888888888,
              "#fdca26"
             ],
             [
              1,
              "#f0f921"
             ]
            ],
            "type": "heatmap"
           }
          ],
          "heatmapgl": [
           {
            "colorbar": {
             "outlinewidth": 0,
             "ticks": ""
            },
            "colorscale": [
             [
              0,
              "#0d0887"
             ],
             [
              0.1111111111111111,
              "#46039f"
             ],
             [
              0.2222222222222222,
              "#7201a8"
             ],
             [
              0.3333333333333333,
              "#9c179e"
             ],
             [
              0.4444444444444444,
              "#bd3786"
             ],
             [
              0.5555555555555556,
              "#d8576b"
             ],
             [
              0.6666666666666666,
              "#ed7953"
             ],
             [
              0.7777777777777778,
              "#fb9f3a"
             ],
             [
              0.8888888888888888,
              "#fdca26"
             ],
             [
              1,
              "#f0f921"
             ]
            ],
            "type": "heatmapgl"
           }
          ],
          "histogram": [
           {
            "marker": {
             "pattern": {
              "fillmode": "overlay",
              "size": 10,
              "solidity": 0.2
             }
            },
            "type": "histogram"
           }
          ],
          "histogram2d": [
           {
            "colorbar": {
             "outlinewidth": 0,
             "ticks": ""
            },
            "colorscale": [
             [
              0,
              "#0d0887"
             ],
             [
              0.1111111111111111,
              "#46039f"
             ],
             [
              0.2222222222222222,
              "#7201a8"
             ],
             [
              0.3333333333333333,
              "#9c179e"
             ],
             [
              0.4444444444444444,
              "#bd3786"
             ],
             [
              0.5555555555555556,
              "#d8576b"
             ],
             [
              0.6666666666666666,
              "#ed7953"
             ],
             [
              0.7777777777777778,
              "#fb9f3a"
             ],
             [
              0.8888888888888888,
              "#fdca26"
             ],
             [
              1,
              "#f0f921"
             ]
            ],
            "type": "histogram2d"
           }
          ],
          "histogram2dcontour": [
           {
            "colorbar": {
             "outlinewidth": 0,
             "ticks": ""
            },
            "colorscale": [
             [
              0,
              "#0d0887"
             ],
             [
              0.1111111111111111,
              "#46039f"
             ],
             [
              0.2222222222222222,
              "#7201a8"
             ],
             [
              0.3333333333333333,
              "#9c179e"
             ],
             [
              0.4444444444444444,
              "#bd3786"
             ],
             [
              0.5555555555555556,
              "#d8576b"
             ],
             [
              0.6666666666666666,
              "#ed7953"
             ],
             [
              0.7777777777777778,
              "#fb9f3a"
             ],
             [
              0.8888888888888888,
              "#fdca26"
             ],
             [
              1,
              "#f0f921"
             ]
            ],
            "type": "histogram2dcontour"
           }
          ],
          "mesh3d": [
           {
            "colorbar": {
             "outlinewidth": 0,
             "ticks": ""
            },
            "type": "mesh3d"
           }
          ],
          "parcoords": [
           {
            "line": {
             "colorbar": {
              "outlinewidth": 0,
              "ticks": ""
             }
            },
            "type": "parcoords"
           }
          ],
          "pie": [
           {
            "automargin": true,
            "type": "pie"
           }
          ],
          "scatter": [
           {
            "fillpattern": {
             "fillmode": "overlay",
             "size": 10,
             "solidity": 0.2
            },
            "type": "scatter"
           }
          ],
          "scatter3d": [
           {
            "line": {
             "colorbar": {
              "outlinewidth": 0,
              "ticks": ""
             }
            },
            "marker": {
             "colorbar": {
              "outlinewidth": 0,
              "ticks": ""
             }
            },
            "type": "scatter3d"
           }
          ],
          "scattercarpet": [
           {
            "marker": {
             "colorbar": {
              "outlinewidth": 0,
              "ticks": ""
             }
            },
            "type": "scattercarpet"
           }
          ],
          "scattergeo": [
           {
            "marker": {
             "colorbar": {
              "outlinewidth": 0,
              "ticks": ""
             }
            },
            "type": "scattergeo"
           }
          ],
          "scattergl": [
           {
            "marker": {
             "colorbar": {
              "outlinewidth": 0,
              "ticks": ""
             }
            },
            "type": "scattergl"
           }
          ],
          "scattermapbox": [
           {
            "marker": {
             "colorbar": {
              "outlinewidth": 0,
              "ticks": ""
             }
            },
            "type": "scattermapbox"
           }
          ],
          "scatterpolar": [
           {
            "marker": {
             "colorbar": {
              "outlinewidth": 0,
              "ticks": ""
             }
            },
            "type": "scatterpolar"
           }
          ],
          "scatterpolargl": [
           {
            "marker": {
             "colorbar": {
              "outlinewidth": 0,
              "ticks": ""
             }
            },
            "type": "scatterpolargl"
           }
          ],
          "scatterternary": [
           {
            "marker": {
             "colorbar": {
              "outlinewidth": 0,
              "ticks": ""
             }
            },
            "type": "scatterternary"
           }
          ],
          "surface": [
           {
            "colorbar": {
             "outlinewidth": 0,
             "ticks": ""
            },
            "colorscale": [
             [
              0,
              "#0d0887"
             ],
             [
              0.1111111111111111,
              "#46039f"
             ],
             [
              0.2222222222222222,
              "#7201a8"
             ],
             [
              0.3333333333333333,
              "#9c179e"
             ],
             [
              0.4444444444444444,
              "#bd3786"
             ],
             [
              0.5555555555555556,
              "#d8576b"
             ],
             [
              0.6666666666666666,
              "#ed7953"
             ],
             [
              0.7777777777777778,
              "#fb9f3a"
             ],
             [
              0.8888888888888888,
              "#fdca26"
             ],
             [
              1,
              "#f0f921"
             ]
            ],
            "type": "surface"
           }
          ],
          "table": [
           {
            "cells": {
             "fill": {
              "color": "#EBF0F8"
             },
             "line": {
              "color": "white"
             }
            },
            "header": {
             "fill": {
              "color": "#C8D4E3"
             },
             "line": {
              "color": "white"
             }
            },
            "type": "table"
           }
          ]
         },
         "layout": {
          "annotationdefaults": {
           "arrowcolor": "#2a3f5f",
           "arrowhead": 0,
           "arrowwidth": 1
          },
          "autotypenumbers": "strict",
          "coloraxis": {
           "colorbar": {
            "outlinewidth": 0,
            "ticks": ""
           }
          },
          "colorscale": {
           "diverging": [
            [
             0,
             "#8e0152"
            ],
            [
             0.1,
             "#c51b7d"
            ],
            [
             0.2,
             "#de77ae"
            ],
            [
             0.3,
             "#f1b6da"
            ],
            [
             0.4,
             "#fde0ef"
            ],
            [
             0.5,
             "#f7f7f7"
            ],
            [
             0.6,
             "#e6f5d0"
            ],
            [
             0.7,
             "#b8e186"
            ],
            [
             0.8,
             "#7fbc41"
            ],
            [
             0.9,
             "#4d9221"
            ],
            [
             1,
             "#276419"
            ]
           ],
           "sequential": [
            [
             0,
             "#0d0887"
            ],
            [
             0.1111111111111111,
             "#46039f"
            ],
            [
             0.2222222222222222,
             "#7201a8"
            ],
            [
             0.3333333333333333,
             "#9c179e"
            ],
            [
             0.4444444444444444,
             "#bd3786"
            ],
            [
             0.5555555555555556,
             "#d8576b"
            ],
            [
             0.6666666666666666,
             "#ed7953"
            ],
            [
             0.7777777777777778,
             "#fb9f3a"
            ],
            [
             0.8888888888888888,
             "#fdca26"
            ],
            [
             1,
             "#f0f921"
            ]
           ],
           "sequentialminus": [
            [
             0,
             "#0d0887"
            ],
            [
             0.1111111111111111,
             "#46039f"
            ],
            [
             0.2222222222222222,
             "#7201a8"
            ],
            [
             0.3333333333333333,
             "#9c179e"
            ],
            [
             0.4444444444444444,
             "#bd3786"
            ],
            [
             0.5555555555555556,
             "#d8576b"
            ],
            [
             0.6666666666666666,
             "#ed7953"
            ],
            [
             0.7777777777777778,
             "#fb9f3a"
            ],
            [
             0.8888888888888888,
             "#fdca26"
            ],
            [
             1,
             "#f0f921"
            ]
           ]
          },
          "colorway": [
           "#636efa",
           "#EF553B",
           "#00cc96",
           "#ab63fa",
           "#FFA15A",
           "#19d3f3",
           "#FF6692",
           "#B6E880",
           "#FF97FF",
           "#FECB52"
          ],
          "font": {
           "color": "#2a3f5f"
          },
          "geo": {
           "bgcolor": "white",
           "lakecolor": "white",
           "landcolor": "#E5ECF6",
           "showlakes": true,
           "showland": true,
           "subunitcolor": "white"
          },
          "hoverlabel": {
           "align": "left"
          },
          "hovermode": "closest",
          "mapbox": {
           "style": "light"
          },
          "paper_bgcolor": "white",
          "plot_bgcolor": "#E5ECF6",
          "polar": {
           "angularaxis": {
            "gridcolor": "white",
            "linecolor": "white",
            "ticks": ""
           },
           "bgcolor": "#E5ECF6",
           "radialaxis": {
            "gridcolor": "white",
            "linecolor": "white",
            "ticks": ""
           }
          },
          "scene": {
           "xaxis": {
            "backgroundcolor": "#E5ECF6",
            "gridcolor": "white",
            "gridwidth": 2,
            "linecolor": "white",
            "showbackground": true,
            "ticks": "",
            "zerolinecolor": "white"
           },
           "yaxis": {
            "backgroundcolor": "#E5ECF6",
            "gridcolor": "white",
            "gridwidth": 2,
            "linecolor": "white",
            "showbackground": true,
            "ticks": "",
            "zerolinecolor": "white"
           },
           "zaxis": {
            "backgroundcolor": "#E5ECF6",
            "gridcolor": "white",
            "gridwidth": 2,
            "linecolor": "white",
            "showbackground": true,
            "ticks": "",
            "zerolinecolor": "white"
           }
          },
          "shapedefaults": {
           "line": {
            "color": "#2a3f5f"
           }
          },
          "ternary": {
           "aaxis": {
            "gridcolor": "white",
            "linecolor": "white",
            "ticks": ""
           },
           "baxis": {
            "gridcolor": "white",
            "linecolor": "white",
            "ticks": ""
           },
           "bgcolor": "#E5ECF6",
           "caxis": {
            "gridcolor": "white",
            "linecolor": "white",
            "ticks": ""
           }
          },
          "title": {
           "x": 0.05
          },
          "xaxis": {
           "automargin": true,
           "gridcolor": "white",
           "linecolor": "white",
           "ticks": "",
           "title": {
            "standoff": 15
           },
           "zerolinecolor": "white",
           "zerolinewidth": 2
          },
          "yaxis": {
           "automargin": true,
           "gridcolor": "white",
           "linecolor": "white",
           "ticks": "",
           "title": {
            "standoff": 15
           },
           "zerolinecolor": "white",
           "zerolinewidth": 2
          }
         }
        },
        "title": {
         "text": "MPI Speedup"
        },
        "xaxis": {
         "ticktext": [
          "0",
          "64",
          "128",
          "192",
          "256"
         ],
         "tickvals": [
          0,
          64,
          128,
          192,
          256
         ],
         "title": {
          "text": "MPI processes"
         }
        },
        "yaxis": {
         "title": {
          "text": "Speedup"
         }
        }
       }
      }
     },
     "metadata": {},
     "output_type": "display_data"
    }
   ],
   "source": [
    "# Create a line for Real time\n",
    "fig = go.Figure()\n",
    "fig.add_trace(go.Scatter(x=df['MPI processes'], y=df['Speedup'], mode='lines', name='Measured speedup'))\n",
    "\n",
    "# Create a line for Theoretical time\n",
    "fig.add_trace(go.Scatter(x=df['MPI processes'], y=df['theoretical_speedup'], mode='lines', name='Theoretical speedup'))\n",
    "\n",
    "total_processes = df['MPI processes'].max()\n",
    "quarter_points = [int(total_processes / 4) * i for i in range(5)]  # [0, 1/4, 2/4, 3/4, 1]\n",
    "\n",
    "# Set the x-axis tick marks and labels\n",
    "fig.update_xaxes(\n",
    "    tickvals=quarter_points,\n",
    "    ticktext=[f'{int(p)}' for p in quarter_points]  # You can customize the format of the labels\n",
    ")\n",
    "\n",
    "# Annotate the quarter points with y-axis labels for both Real time and Theoretical time\n",
    "for x in quarter_points:\n",
    "    # Find the nearest MPI processes value to the quarter point for Real time\n",
    "    nearest_idx_real = np.abs(df['MPI processes'] - x).idxmin()\n",
    "    nearest_mpi_processes_real = df.loc[nearest_idx_real, 'MPI processes']\n",
    "    nearest_real_time = df.loc[nearest_idx_real, 'Speedup']\n",
    "    fig.add_annotation(x=nearest_mpi_processes_real, y=nearest_real_time, text=str(nearest_real_time), showarrow=True, arrowhead=1)\n",
    "\n",
    "    # Find the nearest MPI processes value to the quarter point for Theoretical time\n",
    "    nearest_idx_theoretical = np.abs(df['MPI processes'] - x).idxmin()\n",
    "    nearest_mpi_processes_theoretical = df.loc[nearest_idx_theoretical, 'MPI processes']\n",
    "    nearest_theoretical_time = df.loc[nearest_idx_theoretical, 'theoretical_speedup']\n",
    "    fig.add_annotation(x=nearest_mpi_processes_theoretical, y=nearest_theoretical_time, text=str(nearest_theoretical_time), showarrow=True, arrowhead=1)\n",
    "\n",
    "fig.update_layout(\n",
    "    title=\"MPI Speedup\",\n",
    "    xaxis_title=\"MPI processes\",\n",
    "    yaxis_title=\"Speedup\"\n",
    ")\n",
    "# Show the plot\n",
    "fig.show()"
   ]
  },
  {
   "cell_type": "markdown",
   "metadata": {},
   "source": [
    "# OpenMP scaling"
   ]
  },
  {
   "cell_type": "code",
   "execution_count": 16,
   "metadata": {},
   "outputs": [
    {
     "data": {
      "text/html": [
       "<div>\n",
       "<style scoped>\n",
       "    .dataframe tbody tr th:only-of-type {\n",
       "        vertical-align: middle;\n",
       "    }\n",
       "\n",
       "    .dataframe tbody tr th {\n",
       "        vertical-align: top;\n",
       "    }\n",
       "\n",
       "    .dataframe thead th {\n",
       "        text-align: right;\n",
       "    }\n",
       "</style>\n",
       "<table border=\"1\" class=\"dataframe\">\n",
       "  <thead>\n",
       "    <tr style=\"text-align: right;\">\n",
       "      <th></th>\n",
       "      <th>OpenMP threads</th>\n",
       "      <th>Real time</th>\n",
       "      <th>User time</th>\n",
       "      <th>System time</th>\n",
       "      <th>Speedup</th>\n",
       "    </tr>\n",
       "  </thead>\n",
       "  <tbody>\n",
       "    <tr>\n",
       "      <th>0</th>\n",
       "      <td>2</td>\n",
       "      <td>926.609</td>\n",
       "      <td>1834.458</td>\n",
       "      <td>3.466</td>\n",
       "      <td>0.591710</td>\n",
       "    </tr>\n",
       "    <tr>\n",
       "      <th>1</th>\n",
       "      <td>4</td>\n",
       "      <td>856.403</td>\n",
       "      <td>3384.166</td>\n",
       "      <td>3.898</td>\n",
       "      <td>1.263209</td>\n",
       "    </tr>\n",
       "    <tr>\n",
       "      <th>2</th>\n",
       "      <td>6</td>\n",
       "      <td>462.500</td>\n",
       "      <td>2735.666</td>\n",
       "      <td>2.575</td>\n",
       "      <td>2.297858</td>\n",
       "    </tr>\n",
       "    <tr>\n",
       "      <th>3</th>\n",
       "      <td>8</td>\n",
       "      <td>553.890</td>\n",
       "      <td>4359.398</td>\n",
       "      <td>3.365</td>\n",
       "      <td>1.939628</td>\n",
       "    </tr>\n",
       "    <tr>\n",
       "      <th>4</th>\n",
       "      <td>10</td>\n",
       "      <td>367.810</td>\n",
       "      <td>3611.656</td>\n",
       "      <td>2.393</td>\n",
       "      <td>2.829435</td>\n",
       "    </tr>\n",
       "    <tr>\n",
       "      <th>5</th>\n",
       "      <td>12</td>\n",
       "      <td>459.878</td>\n",
       "      <td>5404.400</td>\n",
       "      <td>3.150</td>\n",
       "      <td>2.249646</td>\n",
       "    </tr>\n",
       "    <tr>\n",
       "      <th>6</th>\n",
       "      <td>14</td>\n",
       "      <td>339.712</td>\n",
       "      <td>4645.499</td>\n",
       "      <td>2.659</td>\n",
       "      <td>3.058731</td>\n",
       "    </tr>\n",
       "    <tr>\n",
       "      <th>7</th>\n",
       "      <td>16</td>\n",
       "      <td>476.156</td>\n",
       "      <td>7436.214</td>\n",
       "      <td>3.601</td>\n",
       "      <td>2.259592</td>\n",
       "    </tr>\n",
       "    <tr>\n",
       "      <th>8</th>\n",
       "      <td>18</td>\n",
       "      <td>310.705</td>\n",
       "      <td>5445.415</td>\n",
       "      <td>2.602</td>\n",
       "      <td>3.268866</td>\n",
       "    </tr>\n",
       "    <tr>\n",
       "      <th>9</th>\n",
       "      <td>20</td>\n",
       "      <td>302.655</td>\n",
       "      <td>5891.768</td>\n",
       "      <td>2.612</td>\n",
       "      <td>3.452665</td>\n",
       "    </tr>\n",
       "    <tr>\n",
       "      <th>10</th>\n",
       "      <td>22</td>\n",
       "      <td>228.743</td>\n",
       "      <td>4884.697</td>\n",
       "      <td>2.290</td>\n",
       "      <td>4.350216</td>\n",
       "    </tr>\n",
       "    <tr>\n",
       "      <th>11</th>\n",
       "      <td>24</td>\n",
       "      <td>255.343</td>\n",
       "      <td>5959.071</td>\n",
       "      <td>2.468</td>\n",
       "      <td>3.935548</td>\n",
       "    </tr>\n",
       "    <tr>\n",
       "      <th>12</th>\n",
       "      <td>26</td>\n",
       "      <td>206.630</td>\n",
       "      <td>5211.131</td>\n",
       "      <td>2.284</td>\n",
       "      <td>4.815630</td>\n",
       "    </tr>\n",
       "    <tr>\n",
       "      <th>13</th>\n",
       "      <td>28</td>\n",
       "      <td>236.130</td>\n",
       "      <td>6418.756</td>\n",
       "      <td>2.643</td>\n",
       "      <td>4.279000</td>\n",
       "    </tr>\n",
       "    <tr>\n",
       "      <th>14</th>\n",
       "      <td>30</td>\n",
       "      <td>201.978</td>\n",
       "      <td>5869.176</td>\n",
       "      <td>2.995</td>\n",
       "      <td>4.840433</td>\n",
       "    </tr>\n",
       "    <tr>\n",
       "      <th>15</th>\n",
       "      <td>32</td>\n",
       "      <td>242.828</td>\n",
       "      <td>7535.487</td>\n",
       "      <td>2.870</td>\n",
       "      <td>4.164067</td>\n",
       "    </tr>\n",
       "    <tr>\n",
       "      <th>16</th>\n",
       "      <td>34</td>\n",
       "      <td>189.271</td>\n",
       "      <td>6221.942</td>\n",
       "      <td>2.600</td>\n",
       "      <td>5.249552</td>\n",
       "    </tr>\n",
       "    <tr>\n",
       "      <th>17</th>\n",
       "      <td>36</td>\n",
       "      <td>182.988</td>\n",
       "      <td>6361.676</td>\n",
       "      <td>2.690</td>\n",
       "      <td>5.455262</td>\n",
       "    </tr>\n",
       "    <tr>\n",
       "      <th>18</th>\n",
       "      <td>38</td>\n",
       "      <td>156.745</td>\n",
       "      <td>5737.707</td>\n",
       "      <td>2.441</td>\n",
       "      <td>6.252971</td>\n",
       "    </tr>\n",
       "    <tr>\n",
       "      <th>19</th>\n",
       "      <td>40</td>\n",
       "      <td>165.526</td>\n",
       "      <td>6386.878</td>\n",
       "      <td>2.607</td>\n",
       "      <td>5.855719</td>\n",
       "    </tr>\n",
       "    <tr>\n",
       "      <th>20</th>\n",
       "      <td>42</td>\n",
       "      <td>146.913</td>\n",
       "      <td>5938.310</td>\n",
       "      <td>3.087</td>\n",
       "      <td>6.576826</td>\n",
       "    </tr>\n",
       "    <tr>\n",
       "      <th>21</th>\n",
       "      <td>44</td>\n",
       "      <td>158.872</td>\n",
       "      <td>6736.028</td>\n",
       "      <td>2.830</td>\n",
       "      <td>6.048717</td>\n",
       "    </tr>\n",
       "    <tr>\n",
       "      <th>22</th>\n",
       "      <td>46</td>\n",
       "      <td>142.383</td>\n",
       "      <td>6296.054</td>\n",
       "      <td>2.845</td>\n",
       "      <td>6.647600</td>\n",
       "    </tr>\n",
       "    <tr>\n",
       "      <th>23</th>\n",
       "      <td>48</td>\n",
       "      <td>159.487</td>\n",
       "      <td>7372.015</td>\n",
       "      <td>3.118</td>\n",
       "      <td>6.012335</td>\n",
       "    </tr>\n",
       "    <tr>\n",
       "      <th>24</th>\n",
       "      <td>50</td>\n",
       "      <td>140.672</td>\n",
       "      <td>6755.838</td>\n",
       "      <td>3.523</td>\n",
       "      <td>7.046188</td>\n",
       "    </tr>\n",
       "    <tr>\n",
       "      <th>25</th>\n",
       "      <td>52</td>\n",
       "      <td>134.836</td>\n",
       "      <td>6727.474</td>\n",
       "      <td>2.911</td>\n",
       "      <td>7.233482</td>\n",
       "    </tr>\n",
       "    <tr>\n",
       "      <th>26</th>\n",
       "      <td>54</td>\n",
       "      <td>120.482</td>\n",
       "      <td>6224.068</td>\n",
       "      <td>3.223</td>\n",
       "      <td>8.011075</td>\n",
       "    </tr>\n",
       "    <tr>\n",
       "      <th>27</th>\n",
       "      <td>56</td>\n",
       "      <td>124.450</td>\n",
       "      <td>6675.874</td>\n",
       "      <td>3.211</td>\n",
       "      <td>7.666289</td>\n",
       "    </tr>\n",
       "    <tr>\n",
       "      <th>28</th>\n",
       "      <td>58</td>\n",
       "      <td>113.875</td>\n",
       "      <td>6311.689</td>\n",
       "      <td>3.103</td>\n",
       "      <td>8.437909</td>\n",
       "    </tr>\n",
       "    <tr>\n",
       "      <th>29</th>\n",
       "      <td>60</td>\n",
       "      <td>120.014</td>\n",
       "      <td>6889.137</td>\n",
       "      <td>3.635</td>\n",
       "      <td>7.962063</td>\n",
       "    </tr>\n",
       "    <tr>\n",
       "      <th>30</th>\n",
       "      <td>62</td>\n",
       "      <td>112.976</td>\n",
       "      <td>6690.813</td>\n",
       "      <td>3.367</td>\n",
       "      <td>8.551761</td>\n",
       "    </tr>\n",
       "    <tr>\n",
       "      <th>31</th>\n",
       "      <td>64</td>\n",
       "      <td>119.866</td>\n",
       "      <td>7336.986</td>\n",
       "      <td>3.194</td>\n",
       "      <td>7.879395</td>\n",
       "    </tr>\n",
       "  </tbody>\n",
       "</table>\n",
       "</div>"
      ],
      "text/plain": [
       "    OpenMP threads  Real time  User time  System time   Speedup\n",
       "0                2    926.609   1834.458        3.466  0.591710\n",
       "1                4    856.403   3384.166        3.898  1.263209\n",
       "2                6    462.500   2735.666        2.575  2.297858\n",
       "3                8    553.890   4359.398        3.365  1.939628\n",
       "4               10    367.810   3611.656        2.393  2.829435\n",
       "5               12    459.878   5404.400        3.150  2.249646\n",
       "6               14    339.712   4645.499        2.659  3.058731\n",
       "7               16    476.156   7436.214        3.601  2.259592\n",
       "8               18    310.705   5445.415        2.602  3.268866\n",
       "9               20    302.655   5891.768        2.612  3.452665\n",
       "10              22    228.743   4884.697        2.290  4.350216\n",
       "11              24    255.343   5959.071        2.468  3.935548\n",
       "12              26    206.630   5211.131        2.284  4.815630\n",
       "13              28    236.130   6418.756        2.643  4.279000\n",
       "14              30    201.978   5869.176        2.995  4.840433\n",
       "15              32    242.828   7535.487        2.870  4.164067\n",
       "16              34    189.271   6221.942        2.600  5.249552\n",
       "17              36    182.988   6361.676        2.690  5.455262\n",
       "18              38    156.745   5737.707        2.441  6.252971\n",
       "19              40    165.526   6386.878        2.607  5.855719\n",
       "20              42    146.913   5938.310        3.087  6.576826\n",
       "21              44    158.872   6736.028        2.830  6.048717\n",
       "22              46    142.383   6296.054        2.845  6.647600\n",
       "23              48    159.487   7372.015        3.118  6.012335\n",
       "24              50    140.672   6755.838        3.523  7.046188\n",
       "25              52    134.836   6727.474        2.911  7.233482\n",
       "26              54    120.482   6224.068        3.223  8.011075\n",
       "27              56    124.450   6675.874        3.211  7.666289\n",
       "28              58    113.875   6311.689        3.103  8.437909\n",
       "29              60    120.014   6889.137        3.635  7.962063\n",
       "30              62    112.976   6690.813        3.367  8.551761\n",
       "31              64    119.866   7336.986        3.194  7.879395"
      ]
     },
     "execution_count": 16,
     "metadata": {},
     "output_type": "execute_result"
    }
   ],
   "source": [
    "df_omp = txt_to_pd('results/omp_scaling.txt')\n",
    "omp_df = df_omp.rename(columns={'MPI processes': 'OpenMP threads'})\n",
    "baseline : float = 926.609\n",
    "omp_df['Speedup'] = baseline / df['Real time']\n",
    "omp_df"
   ]
  },
  {
   "cell_type": "markdown",
   "metadata": {},
   "source": [
    "### Plotting the execution time"
   ]
  },
  {
   "cell_type": "code",
   "execution_count": 17,
   "metadata": {},
   "outputs": [
    {
     "data": {
      "application/vnd.plotly.v1+json": {
       "config": {
        "plotlyServerURL": "https://plot.ly"
       },
       "data": [
        {
         "hovertemplate": "OpenMP threads=%{x}<br>Real time=%{y}<extra></extra>",
         "legendgroup": "",
         "line": {
          "color": "#636efa",
          "dash": "solid"
         },
         "marker": {
          "symbol": "circle"
         },
         "mode": "lines",
         "name": "",
         "orientation": "v",
         "showlegend": false,
         "type": "scatter",
         "x": [
          2,
          4,
          6,
          8,
          10,
          12,
          14,
          16,
          18,
          20,
          22,
          24,
          26,
          28,
          30,
          32,
          34,
          36,
          38,
          40,
          42,
          44,
          46,
          48,
          50,
          52,
          54,
          56,
          58,
          60,
          62,
          64
         ],
         "xaxis": "x",
         "y": [
          926.609,
          856.403,
          462.5,
          553.89,
          367.81,
          459.878,
          339.712,
          476.156,
          310.705,
          302.655,
          228.743,
          255.343,
          206.63,
          236.13,
          201.978,
          242.828,
          189.27100000000002,
          182.988,
          156.745,
          165.526,
          146.913,
          158.872,
          142.383,
          159.487,
          140.672,
          134.836,
          120.482,
          124.45,
          113.875,
          120.014,
          112.976,
          119.866
         ],
         "yaxis": "y"
        }
       ],
       "layout": {
        "annotations": [
         {
          "arrowhead": 1,
          "showarrow": true,
          "text": "926.609",
          "x": 2,
          "y": 926.609
         },
         {
          "arrowhead": 1,
          "showarrow": true,
          "text": "476.156",
          "x": 16,
          "y": 476.156
         },
         {
          "arrowhead": 1,
          "showarrow": true,
          "text": "242.828",
          "x": 32,
          "y": 242.828
         },
         {
          "arrowhead": 1,
          "showarrow": true,
          "text": "159.487",
          "x": 48,
          "y": 159.487
         },
         {
          "arrowhead": 1,
          "showarrow": true,
          "text": "119.866",
          "x": 64,
          "y": 119.866
         }
        ],
        "legend": {
         "tracegroupgap": 0
        },
        "template": {
         "data": {
          "bar": [
           {
            "error_x": {
             "color": "#2a3f5f"
            },
            "error_y": {
             "color": "#2a3f5f"
            },
            "marker": {
             "line": {
              "color": "#E5ECF6",
              "width": 0.5
             },
             "pattern": {
              "fillmode": "overlay",
              "size": 10,
              "solidity": 0.2
             }
            },
            "type": "bar"
           }
          ],
          "barpolar": [
           {
            "marker": {
             "line": {
              "color": "#E5ECF6",
              "width": 0.5
             },
             "pattern": {
              "fillmode": "overlay",
              "size": 10,
              "solidity": 0.2
             }
            },
            "type": "barpolar"
           }
          ],
          "carpet": [
           {
            "aaxis": {
             "endlinecolor": "#2a3f5f",
             "gridcolor": "white",
             "linecolor": "white",
             "minorgridcolor": "white",
             "startlinecolor": "#2a3f5f"
            },
            "baxis": {
             "endlinecolor": "#2a3f5f",
             "gridcolor": "white",
             "linecolor": "white",
             "minorgridcolor": "white",
             "startlinecolor": "#2a3f5f"
            },
            "type": "carpet"
           }
          ],
          "choropleth": [
           {
            "colorbar": {
             "outlinewidth": 0,
             "ticks": ""
            },
            "type": "choropleth"
           }
          ],
          "contour": [
           {
            "colorbar": {
             "outlinewidth": 0,
             "ticks": ""
            },
            "colorscale": [
             [
              0,
              "#0d0887"
             ],
             [
              0.1111111111111111,
              "#46039f"
             ],
             [
              0.2222222222222222,
              "#7201a8"
             ],
             [
              0.3333333333333333,
              "#9c179e"
             ],
             [
              0.4444444444444444,
              "#bd3786"
             ],
             [
              0.5555555555555556,
              "#d8576b"
             ],
             [
              0.6666666666666666,
              "#ed7953"
             ],
             [
              0.7777777777777778,
              "#fb9f3a"
             ],
             [
              0.8888888888888888,
              "#fdca26"
             ],
             [
              1,
              "#f0f921"
             ]
            ],
            "type": "contour"
           }
          ],
          "contourcarpet": [
           {
            "colorbar": {
             "outlinewidth": 0,
             "ticks": ""
            },
            "type": "contourcarpet"
           }
          ],
          "heatmap": [
           {
            "colorbar": {
             "outlinewidth": 0,
             "ticks": ""
            },
            "colorscale": [
             [
              0,
              "#0d0887"
             ],
             [
              0.1111111111111111,
              "#46039f"
             ],
             [
              0.2222222222222222,
              "#7201a8"
             ],
             [
              0.3333333333333333,
              "#9c179e"
             ],
             [
              0.4444444444444444,
              "#bd3786"
             ],
             [
              0.5555555555555556,
              "#d8576b"
             ],
             [
              0.6666666666666666,
              "#ed7953"
             ],
             [
              0.7777777777777778,
              "#fb9f3a"
             ],
             [
              0.8888888888888888,
              "#fdca26"
             ],
             [
              1,
              "#f0f921"
             ]
            ],
            "type": "heatmap"
           }
          ],
          "heatmapgl": [
           {
            "colorbar": {
             "outlinewidth": 0,
             "ticks": ""
            },
            "colorscale": [
             [
              0,
              "#0d0887"
             ],
             [
              0.1111111111111111,
              "#46039f"
             ],
             [
              0.2222222222222222,
              "#7201a8"
             ],
             [
              0.3333333333333333,
              "#9c179e"
             ],
             [
              0.4444444444444444,
              "#bd3786"
             ],
             [
              0.5555555555555556,
              "#d8576b"
             ],
             [
              0.6666666666666666,
              "#ed7953"
             ],
             [
              0.7777777777777778,
              "#fb9f3a"
             ],
             [
              0.8888888888888888,
              "#fdca26"
             ],
             [
              1,
              "#f0f921"
             ]
            ],
            "type": "heatmapgl"
           }
          ],
          "histogram": [
           {
            "marker": {
             "pattern": {
              "fillmode": "overlay",
              "size": 10,
              "solidity": 0.2
             }
            },
            "type": "histogram"
           }
          ],
          "histogram2d": [
           {
            "colorbar": {
             "outlinewidth": 0,
             "ticks": ""
            },
            "colorscale": [
             [
              0,
              "#0d0887"
             ],
             [
              0.1111111111111111,
              "#46039f"
             ],
             [
              0.2222222222222222,
              "#7201a8"
             ],
             [
              0.3333333333333333,
              "#9c179e"
             ],
             [
              0.4444444444444444,
              "#bd3786"
             ],
             [
              0.5555555555555556,
              "#d8576b"
             ],
             [
              0.6666666666666666,
              "#ed7953"
             ],
             [
              0.7777777777777778,
              "#fb9f3a"
             ],
             [
              0.8888888888888888,
              "#fdca26"
             ],
             [
              1,
              "#f0f921"
             ]
            ],
            "type": "histogram2d"
           }
          ],
          "histogram2dcontour": [
           {
            "colorbar": {
             "outlinewidth": 0,
             "ticks": ""
            },
            "colorscale": [
             [
              0,
              "#0d0887"
             ],
             [
              0.1111111111111111,
              "#46039f"
             ],
             [
              0.2222222222222222,
              "#7201a8"
             ],
             [
              0.3333333333333333,
              "#9c179e"
             ],
             [
              0.4444444444444444,
              "#bd3786"
             ],
             [
              0.5555555555555556,
              "#d8576b"
             ],
             [
              0.6666666666666666,
              "#ed7953"
             ],
             [
              0.7777777777777778,
              "#fb9f3a"
             ],
             [
              0.8888888888888888,
              "#fdca26"
             ],
             [
              1,
              "#f0f921"
             ]
            ],
            "type": "histogram2dcontour"
           }
          ],
          "mesh3d": [
           {
            "colorbar": {
             "outlinewidth": 0,
             "ticks": ""
            },
            "type": "mesh3d"
           }
          ],
          "parcoords": [
           {
            "line": {
             "colorbar": {
              "outlinewidth": 0,
              "ticks": ""
             }
            },
            "type": "parcoords"
           }
          ],
          "pie": [
           {
            "automargin": true,
            "type": "pie"
           }
          ],
          "scatter": [
           {
            "fillpattern": {
             "fillmode": "overlay",
             "size": 10,
             "solidity": 0.2
            },
            "type": "scatter"
           }
          ],
          "scatter3d": [
           {
            "line": {
             "colorbar": {
              "outlinewidth": 0,
              "ticks": ""
             }
            },
            "marker": {
             "colorbar": {
              "outlinewidth": 0,
              "ticks": ""
             }
            },
            "type": "scatter3d"
           }
          ],
          "scattercarpet": [
           {
            "marker": {
             "colorbar": {
              "outlinewidth": 0,
              "ticks": ""
             }
            },
            "type": "scattercarpet"
           }
          ],
          "scattergeo": [
           {
            "marker": {
             "colorbar": {
              "outlinewidth": 0,
              "ticks": ""
             }
            },
            "type": "scattergeo"
           }
          ],
          "scattergl": [
           {
            "marker": {
             "colorbar": {
              "outlinewidth": 0,
              "ticks": ""
             }
            },
            "type": "scattergl"
           }
          ],
          "scattermapbox": [
           {
            "marker": {
             "colorbar": {
              "outlinewidth": 0,
              "ticks": ""
             }
            },
            "type": "scattermapbox"
           }
          ],
          "scatterpolar": [
           {
            "marker": {
             "colorbar": {
              "outlinewidth": 0,
              "ticks": ""
             }
            },
            "type": "scatterpolar"
           }
          ],
          "scatterpolargl": [
           {
            "marker": {
             "colorbar": {
              "outlinewidth": 0,
              "ticks": ""
             }
            },
            "type": "scatterpolargl"
           }
          ],
          "scatterternary": [
           {
            "marker": {
             "colorbar": {
              "outlinewidth": 0,
              "ticks": ""
             }
            },
            "type": "scatterternary"
           }
          ],
          "surface": [
           {
            "colorbar": {
             "outlinewidth": 0,
             "ticks": ""
            },
            "colorscale": [
             [
              0,
              "#0d0887"
             ],
             [
              0.1111111111111111,
              "#46039f"
             ],
             [
              0.2222222222222222,
              "#7201a8"
             ],
             [
              0.3333333333333333,
              "#9c179e"
             ],
             [
              0.4444444444444444,
              "#bd3786"
             ],
             [
              0.5555555555555556,
              "#d8576b"
             ],
             [
              0.6666666666666666,
              "#ed7953"
             ],
             [
              0.7777777777777778,
              "#fb9f3a"
             ],
             [
              0.8888888888888888,
              "#fdca26"
             ],
             [
              1,
              "#f0f921"
             ]
            ],
            "type": "surface"
           }
          ],
          "table": [
           {
            "cells": {
             "fill": {
              "color": "#EBF0F8"
             },
             "line": {
              "color": "white"
             }
            },
            "header": {
             "fill": {
              "color": "#C8D4E3"
             },
             "line": {
              "color": "white"
             }
            },
            "type": "table"
           }
          ]
         },
         "layout": {
          "annotationdefaults": {
           "arrowcolor": "#2a3f5f",
           "arrowhead": 0,
           "arrowwidth": 1
          },
          "autotypenumbers": "strict",
          "coloraxis": {
           "colorbar": {
            "outlinewidth": 0,
            "ticks": ""
           }
          },
          "colorscale": {
           "diverging": [
            [
             0,
             "#8e0152"
            ],
            [
             0.1,
             "#c51b7d"
            ],
            [
             0.2,
             "#de77ae"
            ],
            [
             0.3,
             "#f1b6da"
            ],
            [
             0.4,
             "#fde0ef"
            ],
            [
             0.5,
             "#f7f7f7"
            ],
            [
             0.6,
             "#e6f5d0"
            ],
            [
             0.7,
             "#b8e186"
            ],
            [
             0.8,
             "#7fbc41"
            ],
            [
             0.9,
             "#4d9221"
            ],
            [
             1,
             "#276419"
            ]
           ],
           "sequential": [
            [
             0,
             "#0d0887"
            ],
            [
             0.1111111111111111,
             "#46039f"
            ],
            [
             0.2222222222222222,
             "#7201a8"
            ],
            [
             0.3333333333333333,
             "#9c179e"
            ],
            [
             0.4444444444444444,
             "#bd3786"
            ],
            [
             0.5555555555555556,
             "#d8576b"
            ],
            [
             0.6666666666666666,
             "#ed7953"
            ],
            [
             0.7777777777777778,
             "#fb9f3a"
            ],
            [
             0.8888888888888888,
             "#fdca26"
            ],
            [
             1,
             "#f0f921"
            ]
           ],
           "sequentialminus": [
            [
             0,
             "#0d0887"
            ],
            [
             0.1111111111111111,
             "#46039f"
            ],
            [
             0.2222222222222222,
             "#7201a8"
            ],
            [
             0.3333333333333333,
             "#9c179e"
            ],
            [
             0.4444444444444444,
             "#bd3786"
            ],
            [
             0.5555555555555556,
             "#d8576b"
            ],
            [
             0.6666666666666666,
             "#ed7953"
            ],
            [
             0.7777777777777778,
             "#fb9f3a"
            ],
            [
             0.8888888888888888,
             "#fdca26"
            ],
            [
             1,
             "#f0f921"
            ]
           ]
          },
          "colorway": [
           "#636efa",
           "#EF553B",
           "#00cc96",
           "#ab63fa",
           "#FFA15A",
           "#19d3f3",
           "#FF6692",
           "#B6E880",
           "#FF97FF",
           "#FECB52"
          ],
          "font": {
           "color": "#2a3f5f"
          },
          "geo": {
           "bgcolor": "white",
           "lakecolor": "white",
           "landcolor": "#E5ECF6",
           "showlakes": true,
           "showland": true,
           "subunitcolor": "white"
          },
          "hoverlabel": {
           "align": "left"
          },
          "hovermode": "closest",
          "mapbox": {
           "style": "light"
          },
          "paper_bgcolor": "white",
          "plot_bgcolor": "#E5ECF6",
          "polar": {
           "angularaxis": {
            "gridcolor": "white",
            "linecolor": "white",
            "ticks": ""
           },
           "bgcolor": "#E5ECF6",
           "radialaxis": {
            "gridcolor": "white",
            "linecolor": "white",
            "ticks": ""
           }
          },
          "scene": {
           "xaxis": {
            "backgroundcolor": "#E5ECF6",
            "gridcolor": "white",
            "gridwidth": 2,
            "linecolor": "white",
            "showbackground": true,
            "ticks": "",
            "zerolinecolor": "white"
           },
           "yaxis": {
            "backgroundcolor": "#E5ECF6",
            "gridcolor": "white",
            "gridwidth": 2,
            "linecolor": "white",
            "showbackground": true,
            "ticks": "",
            "zerolinecolor": "white"
           },
           "zaxis": {
            "backgroundcolor": "#E5ECF6",
            "gridcolor": "white",
            "gridwidth": 2,
            "linecolor": "white",
            "showbackground": true,
            "ticks": "",
            "zerolinecolor": "white"
           }
          },
          "shapedefaults": {
           "line": {
            "color": "#2a3f5f"
           }
          },
          "ternary": {
           "aaxis": {
            "gridcolor": "white",
            "linecolor": "white",
            "ticks": ""
           },
           "baxis": {
            "gridcolor": "white",
            "linecolor": "white",
            "ticks": ""
           },
           "bgcolor": "#E5ECF6",
           "caxis": {
            "gridcolor": "white",
            "linecolor": "white",
            "ticks": ""
           }
          },
          "title": {
           "x": 0.05
          },
          "xaxis": {
           "automargin": true,
           "gridcolor": "white",
           "linecolor": "white",
           "ticks": "",
           "title": {
            "standoff": 15
           },
           "zerolinecolor": "white",
           "zerolinewidth": 2
          },
          "yaxis": {
           "automargin": true,
           "gridcolor": "white",
           "linecolor": "white",
           "ticks": "",
           "title": {
            "standoff": 15
           },
           "zerolinecolor": "white",
           "zerolinewidth": 2
          }
         }
        },
        "title": {
         "text": "OpenMP Scaling in seconds"
        },
        "xaxis": {
         "anchor": "y",
         "domain": [
          0,
          1
         ],
         "ticktext": [
          "0",
          "16",
          "32",
          "48",
          "64"
         ],
         "tickvals": [
          0,
          16,
          32,
          48,
          64
         ],
         "title": {
          "text": "OpenMP threads"
         }
        },
        "yaxis": {
         "anchor": "x",
         "domain": [
          0,
          1
         ],
         "title": {
          "text": "Real time"
         }
        }
       }
      }
     },
     "metadata": {},
     "output_type": "display_data"
    }
   ],
   "source": [
    "import plotly.express as px\n",
    "import plotly.graph_objects as go\n",
    "import numpy as np\n",
    "\n",
    "# Plot the execution time \n",
    "\n",
    "fig = px.line(omp_df, x='OpenMP threads', y='Real time', title=\"OpenMP Scaling in seconds\")\n",
    "total_processes = omp_df['OpenMP threads'].max()\n",
    "quarter_points = [int(total_processes / 4) * i for i in range(5)]  # [0, 1/4, 2/4, 3/4, 1]\n",
    "\n",
    "# Set the x-axis tick marks and labels\n",
    "fig.update_xaxes(\n",
    "    tickvals=quarter_points,\n",
    "    ticktext=[f'{int(p)}' for p in quarter_points]  # You can customize the format of the labels\n",
    ")\n",
    "\n",
    "# Annotate the quarter points with y-axis labels\n",
    "for x in quarter_points:\n",
    "    # Find the nearest MPI processes value to the quarter point\n",
    "    nearest_idx = np.abs(omp_df['OpenMP threads'] - x).idxmin()\n",
    "    nearest_mpi_processes = omp_df.loc[nearest_idx, 'OpenMP threads']\n",
    "    nearest_real_time = omp_df.loc[nearest_idx, 'Real time']\n",
    "    fig.add_annotation(x=nearest_mpi_processes, y=nearest_real_time, text=str(nearest_real_time), showarrow=True, arrowhead=1)\n",
    "\n",
    "# Show the plot\n",
    "fig.show()"
   ]
  },
  {
   "cell_type": "markdown",
   "metadata": {},
   "source": [
    "### Determining the speedup "
   ]
  },
  {
   "cell_type": "code",
   "execution_count": 18,
   "metadata": {},
   "outputs": [
    {
     "data": {
      "application/vnd.plotly.v1+json": {
       "config": {
        "plotlyServerURL": "https://plot.ly"
       },
       "data": [
        {
         "hovertemplate": "OpenMP threads=%{x}<br>Speedup=%{y}<extra></extra>",
         "legendgroup": "",
         "line": {
          "color": "#636efa",
          "dash": "solid"
         },
         "marker": {
          "symbol": "circle"
         },
         "mode": "lines",
         "name": "",
         "orientation": "v",
         "showlegend": false,
         "type": "scatter",
         "x": [
          2,
          4,
          6,
          8,
          10,
          12,
          14,
          16,
          18,
          20,
          22,
          24,
          26,
          28,
          30,
          32,
          34,
          36,
          38,
          40,
          42,
          44,
          46,
          48,
          50,
          52,
          54,
          56,
          58,
          60,
          62,
          64
         ],
         "xaxis": "x",
         "y": [
          0.5917096321423052,
          1.2632086223443704,
          2.297858147199373,
          1.939628447328484,
          2.8294354924898246,
          2.2496461442469005,
          3.058731295739406,
          2.2595920776047485,
          3.268865644788598,
          3.4526651141127154,
          4.3502157246611555,
          3.9355478538603332,
          4.815629596137556,
          4.279000498734692,
          4.840433367636381,
          4.164066958768678,
          5.249552438361132,
          5.455262104370761,
          6.252970908379277,
          5.8557191607684524,
          6.57682589254028,
          6.048716961179181,
          6.647600258268169,
          6.012334704577013,
          7.046188357857116,
          7.233481654957066,
          8.011074991786696,
          7.666288844028196,
          8.437909210945682,
          7.962063276564299,
          8.551761372550828,
          7.879395232952662
         ],
         "yaxis": "y"
        }
       ],
       "layout": {
        "annotations": [
         {
          "arrowhead": 1,
          "showarrow": true,
          "text": "0.5917096321423052",
          "x": 2,
          "y": 0.5917096321423052
         },
         {
          "arrowhead": 1,
          "showarrow": true,
          "text": "2.2595920776047485",
          "x": 16,
          "y": 2.2595920776047485
         },
         {
          "arrowhead": 1,
          "showarrow": true,
          "text": "4.164066958768678",
          "x": 32,
          "y": 4.164066958768678
         },
         {
          "arrowhead": 1,
          "showarrow": true,
          "text": "6.012334704577013",
          "x": 48,
          "y": 6.012334704577013
         },
         {
          "arrowhead": 1,
          "showarrow": true,
          "text": "7.879395232952662",
          "x": 64,
          "y": 7.879395232952662
         }
        ],
        "legend": {
         "tracegroupgap": 0
        },
        "template": {
         "data": {
          "bar": [
           {
            "error_x": {
             "color": "#2a3f5f"
            },
            "error_y": {
             "color": "#2a3f5f"
            },
            "marker": {
             "line": {
              "color": "#E5ECF6",
              "width": 0.5
             },
             "pattern": {
              "fillmode": "overlay",
              "size": 10,
              "solidity": 0.2
             }
            },
            "type": "bar"
           }
          ],
          "barpolar": [
           {
            "marker": {
             "line": {
              "color": "#E5ECF6",
              "width": 0.5
             },
             "pattern": {
              "fillmode": "overlay",
              "size": 10,
              "solidity": 0.2
             }
            },
            "type": "barpolar"
           }
          ],
          "carpet": [
           {
            "aaxis": {
             "endlinecolor": "#2a3f5f",
             "gridcolor": "white",
             "linecolor": "white",
             "minorgridcolor": "white",
             "startlinecolor": "#2a3f5f"
            },
            "baxis": {
             "endlinecolor": "#2a3f5f",
             "gridcolor": "white",
             "linecolor": "white",
             "minorgridcolor": "white",
             "startlinecolor": "#2a3f5f"
            },
            "type": "carpet"
           }
          ],
          "choropleth": [
           {
            "colorbar": {
             "outlinewidth": 0,
             "ticks": ""
            },
            "type": "choropleth"
           }
          ],
          "contour": [
           {
            "colorbar": {
             "outlinewidth": 0,
             "ticks": ""
            },
            "colorscale": [
             [
              0,
              "#0d0887"
             ],
             [
              0.1111111111111111,
              "#46039f"
             ],
             [
              0.2222222222222222,
              "#7201a8"
             ],
             [
              0.3333333333333333,
              "#9c179e"
             ],
             [
              0.4444444444444444,
              "#bd3786"
             ],
             [
              0.5555555555555556,
              "#d8576b"
             ],
             [
              0.6666666666666666,
              "#ed7953"
             ],
             [
              0.7777777777777778,
              "#fb9f3a"
             ],
             [
              0.8888888888888888,
              "#fdca26"
             ],
             [
              1,
              "#f0f921"
             ]
            ],
            "type": "contour"
           }
          ],
          "contourcarpet": [
           {
            "colorbar": {
             "outlinewidth": 0,
             "ticks": ""
            },
            "type": "contourcarpet"
           }
          ],
          "heatmap": [
           {
            "colorbar": {
             "outlinewidth": 0,
             "ticks": ""
            },
            "colorscale": [
             [
              0,
              "#0d0887"
             ],
             [
              0.1111111111111111,
              "#46039f"
             ],
             [
              0.2222222222222222,
              "#7201a8"
             ],
             [
              0.3333333333333333,
              "#9c179e"
             ],
             [
              0.4444444444444444,
              "#bd3786"
             ],
             [
              0.5555555555555556,
              "#d8576b"
             ],
             [
              0.6666666666666666,
              "#ed7953"
             ],
             [
              0.7777777777777778,
              "#fb9f3a"
             ],
             [
              0.8888888888888888,
              "#fdca26"
             ],
             [
              1,
              "#f0f921"
             ]
            ],
            "type": "heatmap"
           }
          ],
          "heatmapgl": [
           {
            "colorbar": {
             "outlinewidth": 0,
             "ticks": ""
            },
            "colorscale": [
             [
              0,
              "#0d0887"
             ],
             [
              0.1111111111111111,
              "#46039f"
             ],
             [
              0.2222222222222222,
              "#7201a8"
             ],
             [
              0.3333333333333333,
              "#9c179e"
             ],
             [
              0.4444444444444444,
              "#bd3786"
             ],
             [
              0.5555555555555556,
              "#d8576b"
             ],
             [
              0.6666666666666666,
              "#ed7953"
             ],
             [
              0.7777777777777778,
              "#fb9f3a"
             ],
             [
              0.8888888888888888,
              "#fdca26"
             ],
             [
              1,
              "#f0f921"
             ]
            ],
            "type": "heatmapgl"
           }
          ],
          "histogram": [
           {
            "marker": {
             "pattern": {
              "fillmode": "overlay",
              "size": 10,
              "solidity": 0.2
             }
            },
            "type": "histogram"
           }
          ],
          "histogram2d": [
           {
            "colorbar": {
             "outlinewidth": 0,
             "ticks": ""
            },
            "colorscale": [
             [
              0,
              "#0d0887"
             ],
             [
              0.1111111111111111,
              "#46039f"
             ],
             [
              0.2222222222222222,
              "#7201a8"
             ],
             [
              0.3333333333333333,
              "#9c179e"
             ],
             [
              0.4444444444444444,
              "#bd3786"
             ],
             [
              0.5555555555555556,
              "#d8576b"
             ],
             [
              0.6666666666666666,
              "#ed7953"
             ],
             [
              0.7777777777777778,
              "#fb9f3a"
             ],
             [
              0.8888888888888888,
              "#fdca26"
             ],
             [
              1,
              "#f0f921"
             ]
            ],
            "type": "histogram2d"
           }
          ],
          "histogram2dcontour": [
           {
            "colorbar": {
             "outlinewidth": 0,
             "ticks": ""
            },
            "colorscale": [
             [
              0,
              "#0d0887"
             ],
             [
              0.1111111111111111,
              "#46039f"
             ],
             [
              0.2222222222222222,
              "#7201a8"
             ],
             [
              0.3333333333333333,
              "#9c179e"
             ],
             [
              0.4444444444444444,
              "#bd3786"
             ],
             [
              0.5555555555555556,
              "#d8576b"
             ],
             [
              0.6666666666666666,
              "#ed7953"
             ],
             [
              0.7777777777777778,
              "#fb9f3a"
             ],
             [
              0.8888888888888888,
              "#fdca26"
             ],
             [
              1,
              "#f0f921"
             ]
            ],
            "type": "histogram2dcontour"
           }
          ],
          "mesh3d": [
           {
            "colorbar": {
             "outlinewidth": 0,
             "ticks": ""
            },
            "type": "mesh3d"
           }
          ],
          "parcoords": [
           {
            "line": {
             "colorbar": {
              "outlinewidth": 0,
              "ticks": ""
             }
            },
            "type": "parcoords"
           }
          ],
          "pie": [
           {
            "automargin": true,
            "type": "pie"
           }
          ],
          "scatter": [
           {
            "fillpattern": {
             "fillmode": "overlay",
             "size": 10,
             "solidity": 0.2
            },
            "type": "scatter"
           }
          ],
          "scatter3d": [
           {
            "line": {
             "colorbar": {
              "outlinewidth": 0,
              "ticks": ""
             }
            },
            "marker": {
             "colorbar": {
              "outlinewidth": 0,
              "ticks": ""
             }
            },
            "type": "scatter3d"
           }
          ],
          "scattercarpet": [
           {
            "marker": {
             "colorbar": {
              "outlinewidth": 0,
              "ticks": ""
             }
            },
            "type": "scattercarpet"
           }
          ],
          "scattergeo": [
           {
            "marker": {
             "colorbar": {
              "outlinewidth": 0,
              "ticks": ""
             }
            },
            "type": "scattergeo"
           }
          ],
          "scattergl": [
           {
            "marker": {
             "colorbar": {
              "outlinewidth": 0,
              "ticks": ""
             }
            },
            "type": "scattergl"
           }
          ],
          "scattermapbox": [
           {
            "marker": {
             "colorbar": {
              "outlinewidth": 0,
              "ticks": ""
             }
            },
            "type": "scattermapbox"
           }
          ],
          "scatterpolar": [
           {
            "marker": {
             "colorbar": {
              "outlinewidth": 0,
              "ticks": ""
             }
            },
            "type": "scatterpolar"
           }
          ],
          "scatterpolargl": [
           {
            "marker": {
             "colorbar": {
              "outlinewidth": 0,
              "ticks": ""
             }
            },
            "type": "scatterpolargl"
           }
          ],
          "scatterternary": [
           {
            "marker": {
             "colorbar": {
              "outlinewidth": 0,
              "ticks": ""
             }
            },
            "type": "scatterternary"
           }
          ],
          "surface": [
           {
            "colorbar": {
             "outlinewidth": 0,
             "ticks": ""
            },
            "colorscale": [
             [
              0,
              "#0d0887"
             ],
             [
              0.1111111111111111,
              "#46039f"
             ],
             [
              0.2222222222222222,
              "#7201a8"
             ],
             [
              0.3333333333333333,
              "#9c179e"
             ],
             [
              0.4444444444444444,
              "#bd3786"
             ],
             [
              0.5555555555555556,
              "#d8576b"
             ],
             [
              0.6666666666666666,
              "#ed7953"
             ],
             [
              0.7777777777777778,
              "#fb9f3a"
             ],
             [
              0.8888888888888888,
              "#fdca26"
             ],
             [
              1,
              "#f0f921"
             ]
            ],
            "type": "surface"
           }
          ],
          "table": [
           {
            "cells": {
             "fill": {
              "color": "#EBF0F8"
             },
             "line": {
              "color": "white"
             }
            },
            "header": {
             "fill": {
              "color": "#C8D4E3"
             },
             "line": {
              "color": "white"
             }
            },
            "type": "table"
           }
          ]
         },
         "layout": {
          "annotationdefaults": {
           "arrowcolor": "#2a3f5f",
           "arrowhead": 0,
           "arrowwidth": 1
          },
          "autotypenumbers": "strict",
          "coloraxis": {
           "colorbar": {
            "outlinewidth": 0,
            "ticks": ""
           }
          },
          "colorscale": {
           "diverging": [
            [
             0,
             "#8e0152"
            ],
            [
             0.1,
             "#c51b7d"
            ],
            [
             0.2,
             "#de77ae"
            ],
            [
             0.3,
             "#f1b6da"
            ],
            [
             0.4,
             "#fde0ef"
            ],
            [
             0.5,
             "#f7f7f7"
            ],
            [
             0.6,
             "#e6f5d0"
            ],
            [
             0.7,
             "#b8e186"
            ],
            [
             0.8,
             "#7fbc41"
            ],
            [
             0.9,
             "#4d9221"
            ],
            [
             1,
             "#276419"
            ]
           ],
           "sequential": [
            [
             0,
             "#0d0887"
            ],
            [
             0.1111111111111111,
             "#46039f"
            ],
            [
             0.2222222222222222,
             "#7201a8"
            ],
            [
             0.3333333333333333,
             "#9c179e"
            ],
            [
             0.4444444444444444,
             "#bd3786"
            ],
            [
             0.5555555555555556,
             "#d8576b"
            ],
            [
             0.6666666666666666,
             "#ed7953"
            ],
            [
             0.7777777777777778,
             "#fb9f3a"
            ],
            [
             0.8888888888888888,
             "#fdca26"
            ],
            [
             1,
             "#f0f921"
            ]
           ],
           "sequentialminus": [
            [
             0,
             "#0d0887"
            ],
            [
             0.1111111111111111,
             "#46039f"
            ],
            [
             0.2222222222222222,
             "#7201a8"
            ],
            [
             0.3333333333333333,
             "#9c179e"
            ],
            [
             0.4444444444444444,
             "#bd3786"
            ],
            [
             0.5555555555555556,
             "#d8576b"
            ],
            [
             0.6666666666666666,
             "#ed7953"
            ],
            [
             0.7777777777777778,
             "#fb9f3a"
            ],
            [
             0.8888888888888888,
             "#fdca26"
            ],
            [
             1,
             "#f0f921"
            ]
           ]
          },
          "colorway": [
           "#636efa",
           "#EF553B",
           "#00cc96",
           "#ab63fa",
           "#FFA15A",
           "#19d3f3",
           "#FF6692",
           "#B6E880",
           "#FF97FF",
           "#FECB52"
          ],
          "font": {
           "color": "#2a3f5f"
          },
          "geo": {
           "bgcolor": "white",
           "lakecolor": "white",
           "landcolor": "#E5ECF6",
           "showlakes": true,
           "showland": true,
           "subunitcolor": "white"
          },
          "hoverlabel": {
           "align": "left"
          },
          "hovermode": "closest",
          "mapbox": {
           "style": "light"
          },
          "paper_bgcolor": "white",
          "plot_bgcolor": "#E5ECF6",
          "polar": {
           "angularaxis": {
            "gridcolor": "white",
            "linecolor": "white",
            "ticks": ""
           },
           "bgcolor": "#E5ECF6",
           "radialaxis": {
            "gridcolor": "white",
            "linecolor": "white",
            "ticks": ""
           }
          },
          "scene": {
           "xaxis": {
            "backgroundcolor": "#E5ECF6",
            "gridcolor": "white",
            "gridwidth": 2,
            "linecolor": "white",
            "showbackground": true,
            "ticks": "",
            "zerolinecolor": "white"
           },
           "yaxis": {
            "backgroundcolor": "#E5ECF6",
            "gridcolor": "white",
            "gridwidth": 2,
            "linecolor": "white",
            "showbackground": true,
            "ticks": "",
            "zerolinecolor": "white"
           },
           "zaxis": {
            "backgroundcolor": "#E5ECF6",
            "gridcolor": "white",
            "gridwidth": 2,
            "linecolor": "white",
            "showbackground": true,
            "ticks": "",
            "zerolinecolor": "white"
           }
          },
          "shapedefaults": {
           "line": {
            "color": "#2a3f5f"
           }
          },
          "ternary": {
           "aaxis": {
            "gridcolor": "white",
            "linecolor": "white",
            "ticks": ""
           },
           "baxis": {
            "gridcolor": "white",
            "linecolor": "white",
            "ticks": ""
           },
           "bgcolor": "#E5ECF6",
           "caxis": {
            "gridcolor": "white",
            "linecolor": "white",
            "ticks": ""
           }
          },
          "title": {
           "x": 0.05
          },
          "xaxis": {
           "automargin": true,
           "gridcolor": "white",
           "linecolor": "white",
           "ticks": "",
           "title": {
            "standoff": 15
           },
           "zerolinecolor": "white",
           "zerolinewidth": 2
          },
          "yaxis": {
           "automargin": true,
           "gridcolor": "white",
           "linecolor": "white",
           "ticks": "",
           "title": {
            "standoff": 15
           },
           "zerolinecolor": "white",
           "zerolinewidth": 2
          }
         }
        },
        "title": {
         "text": "Speedup factor"
        },
        "xaxis": {
         "anchor": "y",
         "domain": [
          0,
          1
         ],
         "ticktext": [
          "0",
          "16",
          "32",
          "48",
          "64"
         ],
         "tickvals": [
          0,
          16,
          32,
          48,
          64
         ],
         "title": {
          "text": "OpenMP threads"
         }
        },
        "yaxis": {
         "anchor": "x",
         "domain": [
          0,
          1
         ],
         "title": {
          "text": "Speedup"
         }
        }
       }
      }
     },
     "metadata": {},
     "output_type": "display_data"
    }
   ],
   "source": [
    "# Plot the execution time \n",
    "\n",
    "fig = px.line(omp_df, x='OpenMP threads', y='Speedup', title=\"Speedup factor\")\n",
    "total_processes = omp_df['OpenMP threads'].max()\n",
    "quarter_points = [int(total_processes / 4) * i for i in range(5)]  # [0, 1/4, 2/4, 3/4, 1]\n",
    "\n",
    "# Set the x-axis tick marks and labels\n",
    "fig.update_xaxes(\n",
    "    tickvals=quarter_points,\n",
    "    ticktext=[f'{int(p)}' for p in quarter_points]  # You can customize the format of the labels\n",
    ")\n",
    "\n",
    "# Annotate the quarter points with y-axis labels\n",
    "for x in quarter_points:\n",
    "    # Find the nearest MPI processes value to the quarter point\n",
    "    nearest_idx = np.abs(omp_df['OpenMP threads'] - x).idxmin()\n",
    "    nearest_mpi_processes = omp_df.loc[nearest_idx, 'OpenMP threads']\n",
    "    nearest_real_time = omp_df.loc[nearest_idx, 'Speedup']\n",
    "    fig.add_annotation(x=nearest_mpi_processes, y=nearest_real_time, text=str(nearest_real_time), showarrow=True, arrowhead=1)\n",
    "\n",
    "# Show the plot\n",
    "fig.show()"
   ]
  }
 ],
 "metadata": {
  "kernelspec": {
   "display_name": "venv",
   "language": "python",
   "name": "python3"
  },
  "language_info": {
   "codemirror_mode": {
    "name": "ipython",
    "version": 3
   },
   "file_extension": ".py",
   "mimetype": "text/x-python",
   "name": "python",
   "nbconvert_exporter": "python",
   "pygments_lexer": "ipython3",
   "version": "3.10.12"
  }
 },
 "nbformat": 4,
 "nbformat_minor": 2
}
