{
 "cells": [
  {
   "cell_type": "markdown",
   "metadata": {},
   "source": [
    "# Broadcast: Binary Tree"
   ]
  },
  {
   "cell_type": "code",
   "execution_count": 1,
   "metadata": {},
   "outputs": [],
   "source": [
    "import pandas as pd\n",
    "\n",
    "# Initialize empty lists to store data\n",
    "def txt_to_pd(input_txt): \n",
    "    run = []\n",
    "    process = []\n",
    "    size = []\n",
    "    avg_latency = []\n",
    "\n",
    "    # Open the text file\n",
    "    with open(input_txt, 'r') as file:\n",
    "        lines = file.readlines()\n",
    "\n",
    "        # Initialize variables to hold current run and process numbers\n",
    "        current_run = None\n",
    "        current_process = None\n",
    "\n",
    "        # Iterate through each line in the file\n",
    "        for line in lines:\n",
    "            if line.startswith(\"Run number:\"):\n",
    "                current_run = int(line.split(\":\")[1].strip())\n",
    "                \n",
    "            elif line.startswith(\"Processes:\"):\n",
    "                current_process = int(line.split(\":\")[1].strip())\n",
    "                \n",
    "            \n",
    "            elif line[0].isdigit():\n",
    "                run.append(current_run)\n",
    "                process.append(current_process)\n",
    "                parts = line.split()\n",
    "                size.append(int(parts[0]))\n",
    "                avg_latency.append(float(parts[1]))\n",
    "\n",
    "    data = {\n",
    "    'Run': run,\n",
    "    'Process': process,\n",
    "    'Size': size,\n",
    "    'Avg Latency(us)': avg_latency}\n",
    "\n",
    "    data = pd.DataFrame(data)\n",
    "\n",
    "    return data \n",
    "\n",
    "df = txt_to_pd('btree_bcast.txt')\n",
    "b_cast_df = df.drop(['Run', 'Size'], axis=1)"
   ]
  },
  {
   "cell_type": "code",
   "execution_count": 14,
   "metadata": {},
   "outputs": [],
   "source": [
    "# group the entries by the number of processes\n",
    "processes = [i for i in range(2, 257)]\n",
    "\n",
    "def summary_stats(df, processes):\n",
    "    avg = []\n",
    "    proc = []\n",
    "    for process in processes: \n",
    "        subdf = df[(df['Process'] == process)]\n",
    "        avg.append(subdf['Avg Latency(us)'].mean())\n",
    "        proc.append(process)\n",
    "\n",
    "    d = {'processes': proc,\n",
    "    'avg time': avg}\n",
    "\n",
    "    data = pd.DataFrame(d)\n",
    "\n",
    "    return data\n",
    "\n",
    "binary_df = summary_stats(b_cast_df, processes)\n",
    "binary_df = binary_df.drop(binary_df.index[-1])\n"
   ]
  },
  {
   "cell_type": "code",
   "execution_count": 15,
   "metadata": {},
   "outputs": [
    {
     "data": {
      "text/html": [
       "<div>\n",
       "<style scoped>\n",
       "    .dataframe tbody tr th:only-of-type {\n",
       "        vertical-align: middle;\n",
       "    }\n",
       "\n",
       "    .dataframe tbody tr th {\n",
       "        vertical-align: top;\n",
       "    }\n",
       "\n",
       "    .dataframe thead th {\n",
       "        text-align: right;\n",
       "    }\n",
       "</style>\n",
       "<table border=\"1\" class=\"dataframe\">\n",
       "  <thead>\n",
       "    <tr style=\"text-align: right;\">\n",
       "      <th></th>\n",
       "      <th>processes</th>\n",
       "      <th>avg time</th>\n",
       "      <th>cpu latency</th>\n",
       "      <th>effective time</th>\n",
       "    </tr>\n",
       "  </thead>\n",
       "  <tbody>\n",
       "    <tr>\n",
       "      <th>0</th>\n",
       "      <td>2</td>\n",
       "      <td>0.155</td>\n",
       "      <td>0.14</td>\n",
       "      <td>0.015</td>\n",
       "    </tr>\n",
       "    <tr>\n",
       "      <th>1</th>\n",
       "      <td>3</td>\n",
       "      <td>0.275</td>\n",
       "      <td>0.14</td>\n",
       "      <td>0.135</td>\n",
       "    </tr>\n",
       "    <tr>\n",
       "      <th>2</th>\n",
       "      <td>4</td>\n",
       "      <td>0.175</td>\n",
       "      <td>0.14</td>\n",
       "      <td>0.035</td>\n",
       "    </tr>\n",
       "    <tr>\n",
       "      <th>3</th>\n",
       "      <td>5</td>\n",
       "      <td>0.315</td>\n",
       "      <td>0.31</td>\n",
       "      <td>0.005</td>\n",
       "    </tr>\n",
       "    <tr>\n",
       "      <th>4</th>\n",
       "      <td>6</td>\n",
       "      <td>0.375</td>\n",
       "      <td>0.31</td>\n",
       "      <td>0.065</td>\n",
       "    </tr>\n",
       "    <tr>\n",
       "      <th>...</th>\n",
       "      <td>...</td>\n",
       "      <td>...</td>\n",
       "      <td>...</td>\n",
       "      <td>...</td>\n",
       "    </tr>\n",
       "    <tr>\n",
       "      <th>249</th>\n",
       "      <td>251</td>\n",
       "      <td>16.540</td>\n",
       "      <td>1.82</td>\n",
       "      <td>14.720</td>\n",
       "    </tr>\n",
       "    <tr>\n",
       "      <th>250</th>\n",
       "      <td>252</td>\n",
       "      <td>16.930</td>\n",
       "      <td>1.82</td>\n",
       "      <td>15.110</td>\n",
       "    </tr>\n",
       "    <tr>\n",
       "      <th>251</th>\n",
       "      <td>253</td>\n",
       "      <td>17.390</td>\n",
       "      <td>1.82</td>\n",
       "      <td>15.570</td>\n",
       "    </tr>\n",
       "    <tr>\n",
       "      <th>252</th>\n",
       "      <td>254</td>\n",
       "      <td>17.570</td>\n",
       "      <td>1.82</td>\n",
       "      <td>15.750</td>\n",
       "    </tr>\n",
       "    <tr>\n",
       "      <th>253</th>\n",
       "      <td>255</td>\n",
       "      <td>17.990</td>\n",
       "      <td>1.82</td>\n",
       "      <td>16.170</td>\n",
       "    </tr>\n",
       "  </tbody>\n",
       "</table>\n",
       "<p>254 rows × 4 columns</p>\n",
       "</div>"
      ],
      "text/plain": [
       "     processes  avg time  cpu latency  effective time\n",
       "0            2     0.155         0.14           0.015\n",
       "1            3     0.275         0.14           0.135\n",
       "2            4     0.175         0.14           0.035\n",
       "3            5     0.315         0.31           0.005\n",
       "4            6     0.375         0.31           0.065\n",
       "..         ...       ...          ...             ...\n",
       "249        251    16.540         1.82          14.720\n",
       "250        252    16.930         1.82          15.110\n",
       "251        253    17.390         1.82          15.570\n",
       "252        254    17.570         1.82          15.750\n",
       "253        255    17.990         1.82          16.170\n",
       "\n",
       "[254 rows x 4 columns]"
      ]
     },
     "execution_count": 15,
     "metadata": {},
     "output_type": "execute_result"
    }
   ],
   "source": [
    "# CPUs latencies \n",
    "\n",
    "ccx = 0.14 # 3\n",
    "ccd = 0.31 # 7 \n",
    "numa_ccd = 0.34 # 15 \n",
    "socket = 0.44 # 63\n",
    "node = 0.66 # 127\n",
    "d_node = 1.82 # 255\n",
    "\n",
    "ccx_l = [ccx] * 3\n",
    "ccd_l = [ccd] * 4 \n",
    "numa_ccd_l = [numa_ccd] * 8\n",
    "socket_l = [socket] * 48 \n",
    "node_l = [node] * 64 \n",
    "d_node_l = [d_node] * 127\n",
    "\n",
    "latency_list = ccx_l + ccd_l + numa_ccd_l + socket_l + node_l + d_node_l\n",
    "\n",
    "binary_df['cpu latency'] = latency_list\n",
    "\n",
    "binary_df['effective time'] = binary_df['avg time'] - binary_df['cpu latency']\n",
    "binary_df"
   ]
  },
  {
   "cell_type": "code",
   "execution_count": 16,
   "metadata": {},
   "outputs": [
    {
     "data": {
      "application/vnd.plotly.v1+json": {
       "config": {
        "plotlyServerURL": "https://plot.ly"
       },
       "data": [
        {
         "hovertemplate": "processes=%{x}<br>avg time=%{y}<extra></extra>",
         "legendgroup": "",
         "line": {
          "color": "#636efa",
          "dash": "solid"
         },
         "marker": {
          "symbol": "circle"
         },
         "mode": "lines",
         "name": "",
         "orientation": "v",
         "showlegend": false,
         "type": "scatter",
         "x": [
          2,
          3,
          4,
          5,
          6,
          7,
          8,
          9,
          10,
          11,
          12,
          13,
          14,
          15,
          16,
          17,
          18,
          19,
          20,
          21,
          22,
          23,
          24,
          25,
          26,
          27,
          28,
          29,
          30,
          31,
          32,
          33,
          34,
          35,
          36,
          37,
          38,
          39,
          40,
          41,
          42,
          43,
          44,
          45,
          46,
          47,
          48,
          49,
          50,
          51,
          52,
          53,
          54,
          55,
          56,
          57,
          58,
          59,
          60,
          61,
          62,
          63,
          64,
          65,
          66,
          67,
          68,
          69,
          70,
          71,
          72,
          73,
          74,
          75,
          76,
          77,
          78,
          79,
          80,
          81,
          82,
          83,
          84,
          85,
          86,
          87,
          88,
          89,
          90,
          91,
          92,
          93,
          94,
          95,
          96,
          97,
          98,
          99,
          100,
          101,
          102,
          103,
          104,
          105,
          106,
          107,
          108,
          109,
          110,
          111,
          112,
          113,
          114,
          115,
          116,
          117,
          118,
          119,
          120,
          121,
          122,
          123,
          124,
          125,
          126,
          127,
          128,
          129,
          130,
          131,
          132,
          133,
          134,
          135,
          136,
          137,
          138,
          139,
          140,
          141,
          142,
          143,
          144,
          145,
          146,
          147,
          148,
          149,
          150,
          151,
          152,
          153,
          154,
          155,
          156,
          157,
          158,
          159,
          160,
          161,
          162,
          163,
          164,
          165,
          166,
          167,
          168,
          169,
          170,
          171,
          172,
          173,
          174,
          175,
          176,
          177,
          178,
          179,
          180,
          181,
          182,
          183,
          184,
          185,
          186,
          187,
          188,
          189,
          190,
          191,
          192,
          193,
          194,
          195,
          196,
          197,
          198,
          199,
          200,
          201,
          202,
          203,
          204,
          205,
          206,
          207,
          208,
          209,
          210,
          211,
          212,
          213,
          214,
          215,
          216,
          217,
          218,
          219,
          220,
          221,
          222,
          223,
          224,
          225,
          226,
          227,
          228,
          229,
          230,
          231,
          232,
          233,
          234,
          235,
          236,
          237,
          238,
          239,
          240,
          241,
          242,
          243,
          244,
          245,
          246,
          247,
          248,
          249,
          250,
          251,
          252,
          253,
          254,
          255
         ],
         "xaxis": "x",
         "y": [
          0.155,
          0.275,
          0.175,
          0.315,
          0.375,
          0.5,
          0.8,
          1.26,
          1.1549999999999998,
          1.1949999999999998,
          1.14,
          1.165,
          1.22,
          1.26,
          1.2,
          1.725,
          1.745,
          1.8,
          1.81,
          1.865,
          1.87,
          1.9,
          1.9249999999999998,
          1.88,
          1.87,
          1.895,
          1.91,
          1.9,
          1.915,
          1.975,
          1.9300000000000002,
          2.57,
          3.255,
          2.7800000000000002,
          2.6550000000000002,
          4.055,
          3.045,
          2.5300000000000002,
          2.56,
          2.615,
          2.54,
          2.5700000000000003,
          2.59,
          2.625,
          2.6399999999999997,
          2.76,
          2.64,
          2.63,
          2.675,
          2.675,
          2.6399999999999997,
          2.67,
          2.665,
          2.67,
          2.63,
          2.69,
          2.67,
          2.635,
          2.64,
          2.7350000000000003,
          2.7199999999999998,
          2.755,
          2.2750000000000004,
          1.9249999999999998,
          2.045,
          2.21,
          2.5700000000000003,
          2.51,
          2.52,
          2.875,
          2.4450000000000003,
          2.375,
          2.465,
          2.735,
          2.525,
          2.67,
          2.645,
          2.8899999999999997,
          2.775,
          2.785,
          2.825,
          3.015,
          2.985,
          2.93,
          3.14,
          2.95,
          3.005,
          3.005,
          3.04,
          3.015,
          2.9699999999999998,
          3.085,
          3.1500000000000004,
          3.215,
          3.325,
          3.295,
          3.325,
          3.3049999999999997,
          3.5300000000000002,
          3.86,
          3.33,
          3.8899999999999997,
          3.41,
          3.83,
          3.4699999999999998,
          3.5599999999999996,
          3.66,
          4.405,
          3.685,
          3.88,
          3.62,
          4.075,
          3.8550000000000004,
          4.27,
          3.975,
          3.8,
          3.91,
          3.895,
          3.815,
          3.99,
          3.955,
          4.4,
          3.935,
          4.045,
          3.795,
          3.645,
          3.745,
          2.5549999999999997,
          2.96,
          2.685,
          2.995,
          2.875,
          2.92,
          3.09,
          4.04,
          3.585,
          4.375,
          6.205,
          3.705,
          3.355,
          3.725,
          3.375,
          3.9399999999999995,
          4.065,
          3.66,
          3.605,
          3.8899999999999997,
          3.565,
          3.76,
          4.22,
          4.875,
          4.495,
          4.6,
          4.405,
          5.755,
          5.055,
          5.125,
          5.6899999999999995,
          6.16,
          5.675,
          6.115,
          6.805,
          8.844999999999999,
          8.955,
          7.42,
          9.445,
          7.3149999999999995,
          8.22,
          7.875,
          9.975,
          7.199999999999999,
          7.22,
          7.18,
          7.425,
          5.945,
          6.08,
          6.075,
          7.1899999999999995,
          7.994999999999999,
          6.6,
          7.415,
          6.975,
          7.65,
          6.84,
          7.959999999999999,
          7.425,
          8.68,
          8.065,
          9.525,
          8.67,
          7.66,
          9.11,
          8.42,
          8.65,
          9.66,
          8.51,
          9.85,
          10.16,
          9.405,
          9.530000000000001,
          10.855,
          9.855,
          10.425,
          10.344999999999999,
          10.215,
          10.45,
          10.795,
          10.59,
          12.035,
          11.024999999999999,
          11.26,
          11.575,
          11.46,
          11.780000000000001,
          11.645,
          11.455,
          11.58,
          12.135000000000002,
          13.165,
          12.725000000000001,
          12.045,
          11.115,
          10.94,
          11.775,
          14.62,
          11.825,
          12.125,
          12.865,
          12.155000000000001,
          12.275,
          12.690000000000001,
          14.135,
          13.11,
          12.719999999999999,
          12.785,
          13.59,
          14.525,
          14.58,
          16.18,
          15.309999999999999,
          16.055,
          15.535,
          14.47,
          15.675,
          18.630000000000003,
          16.325,
          15.02,
          16.37,
          16.375,
          16.54,
          16.93,
          17.39,
          17.57,
          17.990000000000002
         ],
         "yaxis": "y"
        }
       ],
       "layout": {
        "legend": {
         "tracegroupgap": 0
        },
        "template": {
         "data": {
          "bar": [
           {
            "error_x": {
             "color": "#2a3f5f"
            },
            "error_y": {
             "color": "#2a3f5f"
            },
            "marker": {
             "line": {
              "color": "#E5ECF6",
              "width": 0.5
             },
             "pattern": {
              "fillmode": "overlay",
              "size": 10,
              "solidity": 0.2
             }
            },
            "type": "bar"
           }
          ],
          "barpolar": [
           {
            "marker": {
             "line": {
              "color": "#E5ECF6",
              "width": 0.5
             },
             "pattern": {
              "fillmode": "overlay",
              "size": 10,
              "solidity": 0.2
             }
            },
            "type": "barpolar"
           }
          ],
          "carpet": [
           {
            "aaxis": {
             "endlinecolor": "#2a3f5f",
             "gridcolor": "white",
             "linecolor": "white",
             "minorgridcolor": "white",
             "startlinecolor": "#2a3f5f"
            },
            "baxis": {
             "endlinecolor": "#2a3f5f",
             "gridcolor": "white",
             "linecolor": "white",
             "minorgridcolor": "white",
             "startlinecolor": "#2a3f5f"
            },
            "type": "carpet"
           }
          ],
          "choropleth": [
           {
            "colorbar": {
             "outlinewidth": 0,
             "ticks": ""
            },
            "type": "choropleth"
           }
          ],
          "contour": [
           {
            "colorbar": {
             "outlinewidth": 0,
             "ticks": ""
            },
            "colorscale": [
             [
              0,
              "#0d0887"
             ],
             [
              0.1111111111111111,
              "#46039f"
             ],
             [
              0.2222222222222222,
              "#7201a8"
             ],
             [
              0.3333333333333333,
              "#9c179e"
             ],
             [
              0.4444444444444444,
              "#bd3786"
             ],
             [
              0.5555555555555556,
              "#d8576b"
             ],
             [
              0.6666666666666666,
              "#ed7953"
             ],
             [
              0.7777777777777778,
              "#fb9f3a"
             ],
             [
              0.8888888888888888,
              "#fdca26"
             ],
             [
              1,
              "#f0f921"
             ]
            ],
            "type": "contour"
           }
          ],
          "contourcarpet": [
           {
            "colorbar": {
             "outlinewidth": 0,
             "ticks": ""
            },
            "type": "contourcarpet"
           }
          ],
          "heatmap": [
           {
            "colorbar": {
             "outlinewidth": 0,
             "ticks": ""
            },
            "colorscale": [
             [
              0,
              "#0d0887"
             ],
             [
              0.1111111111111111,
              "#46039f"
             ],
             [
              0.2222222222222222,
              "#7201a8"
             ],
             [
              0.3333333333333333,
              "#9c179e"
             ],
             [
              0.4444444444444444,
              "#bd3786"
             ],
             [
              0.5555555555555556,
              "#d8576b"
             ],
             [
              0.6666666666666666,
              "#ed7953"
             ],
             [
              0.7777777777777778,
              "#fb9f3a"
             ],
             [
              0.8888888888888888,
              "#fdca26"
             ],
             [
              1,
              "#f0f921"
             ]
            ],
            "type": "heatmap"
           }
          ],
          "heatmapgl": [
           {
            "colorbar": {
             "outlinewidth": 0,
             "ticks": ""
            },
            "colorscale": [
             [
              0,
              "#0d0887"
             ],
             [
              0.1111111111111111,
              "#46039f"
             ],
             [
              0.2222222222222222,
              "#7201a8"
             ],
             [
              0.3333333333333333,
              "#9c179e"
             ],
             [
              0.4444444444444444,
              "#bd3786"
             ],
             [
              0.5555555555555556,
              "#d8576b"
             ],
             [
              0.6666666666666666,
              "#ed7953"
             ],
             [
              0.7777777777777778,
              "#fb9f3a"
             ],
             [
              0.8888888888888888,
              "#fdca26"
             ],
             [
              1,
              "#f0f921"
             ]
            ],
            "type": "heatmapgl"
           }
          ],
          "histogram": [
           {
            "marker": {
             "pattern": {
              "fillmode": "overlay",
              "size": 10,
              "solidity": 0.2
             }
            },
            "type": "histogram"
           }
          ],
          "histogram2d": [
           {
            "colorbar": {
             "outlinewidth": 0,
             "ticks": ""
            },
            "colorscale": [
             [
              0,
              "#0d0887"
             ],
             [
              0.1111111111111111,
              "#46039f"
             ],
             [
              0.2222222222222222,
              "#7201a8"
             ],
             [
              0.3333333333333333,
              "#9c179e"
             ],
             [
              0.4444444444444444,
              "#bd3786"
             ],
             [
              0.5555555555555556,
              "#d8576b"
             ],
             [
              0.6666666666666666,
              "#ed7953"
             ],
             [
              0.7777777777777778,
              "#fb9f3a"
             ],
             [
              0.8888888888888888,
              "#fdca26"
             ],
             [
              1,
              "#f0f921"
             ]
            ],
            "type": "histogram2d"
           }
          ],
          "histogram2dcontour": [
           {
            "colorbar": {
             "outlinewidth": 0,
             "ticks": ""
            },
            "colorscale": [
             [
              0,
              "#0d0887"
             ],
             [
              0.1111111111111111,
              "#46039f"
             ],
             [
              0.2222222222222222,
              "#7201a8"
             ],
             [
              0.3333333333333333,
              "#9c179e"
             ],
             [
              0.4444444444444444,
              "#bd3786"
             ],
             [
              0.5555555555555556,
              "#d8576b"
             ],
             [
              0.6666666666666666,
              "#ed7953"
             ],
             [
              0.7777777777777778,
              "#fb9f3a"
             ],
             [
              0.8888888888888888,
              "#fdca26"
             ],
             [
              1,
              "#f0f921"
             ]
            ],
            "type": "histogram2dcontour"
           }
          ],
          "mesh3d": [
           {
            "colorbar": {
             "outlinewidth": 0,
             "ticks": ""
            },
            "type": "mesh3d"
           }
          ],
          "parcoords": [
           {
            "line": {
             "colorbar": {
              "outlinewidth": 0,
              "ticks": ""
             }
            },
            "type": "parcoords"
           }
          ],
          "pie": [
           {
            "automargin": true,
            "type": "pie"
           }
          ],
          "scatter": [
           {
            "fillpattern": {
             "fillmode": "overlay",
             "size": 10,
             "solidity": 0.2
            },
            "type": "scatter"
           }
          ],
          "scatter3d": [
           {
            "line": {
             "colorbar": {
              "outlinewidth": 0,
              "ticks": ""
             }
            },
            "marker": {
             "colorbar": {
              "outlinewidth": 0,
              "ticks": ""
             }
            },
            "type": "scatter3d"
           }
          ],
          "scattercarpet": [
           {
            "marker": {
             "colorbar": {
              "outlinewidth": 0,
              "ticks": ""
             }
            },
            "type": "scattercarpet"
           }
          ],
          "scattergeo": [
           {
            "marker": {
             "colorbar": {
              "outlinewidth": 0,
              "ticks": ""
             }
            },
            "type": "scattergeo"
           }
          ],
          "scattergl": [
           {
            "marker": {
             "colorbar": {
              "outlinewidth": 0,
              "ticks": ""
             }
            },
            "type": "scattergl"
           }
          ],
          "scattermapbox": [
           {
            "marker": {
             "colorbar": {
              "outlinewidth": 0,
              "ticks": ""
             }
            },
            "type": "scattermapbox"
           }
          ],
          "scatterpolar": [
           {
            "marker": {
             "colorbar": {
              "outlinewidth": 0,
              "ticks": ""
             }
            },
            "type": "scatterpolar"
           }
          ],
          "scatterpolargl": [
           {
            "marker": {
             "colorbar": {
              "outlinewidth": 0,
              "ticks": ""
             }
            },
            "type": "scatterpolargl"
           }
          ],
          "scatterternary": [
           {
            "marker": {
             "colorbar": {
              "outlinewidth": 0,
              "ticks": ""
             }
            },
            "type": "scatterternary"
           }
          ],
          "surface": [
           {
            "colorbar": {
             "outlinewidth": 0,
             "ticks": ""
            },
            "colorscale": [
             [
              0,
              "#0d0887"
             ],
             [
              0.1111111111111111,
              "#46039f"
             ],
             [
              0.2222222222222222,
              "#7201a8"
             ],
             [
              0.3333333333333333,
              "#9c179e"
             ],
             [
              0.4444444444444444,
              "#bd3786"
             ],
             [
              0.5555555555555556,
              "#d8576b"
             ],
             [
              0.6666666666666666,
              "#ed7953"
             ],
             [
              0.7777777777777778,
              "#fb9f3a"
             ],
             [
              0.8888888888888888,
              "#fdca26"
             ],
             [
              1,
              "#f0f921"
             ]
            ],
            "type": "surface"
           }
          ],
          "table": [
           {
            "cells": {
             "fill": {
              "color": "#EBF0F8"
             },
             "line": {
              "color": "white"
             }
            },
            "header": {
             "fill": {
              "color": "#C8D4E3"
             },
             "line": {
              "color": "white"
             }
            },
            "type": "table"
           }
          ]
         },
         "layout": {
          "annotationdefaults": {
           "arrowcolor": "#2a3f5f",
           "arrowhead": 0,
           "arrowwidth": 1
          },
          "autotypenumbers": "strict",
          "coloraxis": {
           "colorbar": {
            "outlinewidth": 0,
            "ticks": ""
           }
          },
          "colorscale": {
           "diverging": [
            [
             0,
             "#8e0152"
            ],
            [
             0.1,
             "#c51b7d"
            ],
            [
             0.2,
             "#de77ae"
            ],
            [
             0.3,
             "#f1b6da"
            ],
            [
             0.4,
             "#fde0ef"
            ],
            [
             0.5,
             "#f7f7f7"
            ],
            [
             0.6,
             "#e6f5d0"
            ],
            [
             0.7,
             "#b8e186"
            ],
            [
             0.8,
             "#7fbc41"
            ],
            [
             0.9,
             "#4d9221"
            ],
            [
             1,
             "#276419"
            ]
           ],
           "sequential": [
            [
             0,
             "#0d0887"
            ],
            [
             0.1111111111111111,
             "#46039f"
            ],
            [
             0.2222222222222222,
             "#7201a8"
            ],
            [
             0.3333333333333333,
             "#9c179e"
            ],
            [
             0.4444444444444444,
             "#bd3786"
            ],
            [
             0.5555555555555556,
             "#d8576b"
            ],
            [
             0.6666666666666666,
             "#ed7953"
            ],
            [
             0.7777777777777778,
             "#fb9f3a"
            ],
            [
             0.8888888888888888,
             "#fdca26"
            ],
            [
             1,
             "#f0f921"
            ]
           ],
           "sequentialminus": [
            [
             0,
             "#0d0887"
            ],
            [
             0.1111111111111111,
             "#46039f"
            ],
            [
             0.2222222222222222,
             "#7201a8"
            ],
            [
             0.3333333333333333,
             "#9c179e"
            ],
            [
             0.4444444444444444,
             "#bd3786"
            ],
            [
             0.5555555555555556,
             "#d8576b"
            ],
            [
             0.6666666666666666,
             "#ed7953"
            ],
            [
             0.7777777777777778,
             "#fb9f3a"
            ],
            [
             0.8888888888888888,
             "#fdca26"
            ],
            [
             1,
             "#f0f921"
            ]
           ]
          },
          "colorway": [
           "#636efa",
           "#EF553B",
           "#00cc96",
           "#ab63fa",
           "#FFA15A",
           "#19d3f3",
           "#FF6692",
           "#B6E880",
           "#FF97FF",
           "#FECB52"
          ],
          "font": {
           "color": "#2a3f5f"
          },
          "geo": {
           "bgcolor": "white",
           "lakecolor": "white",
           "landcolor": "#E5ECF6",
           "showlakes": true,
           "showland": true,
           "subunitcolor": "white"
          },
          "hoverlabel": {
           "align": "left"
          },
          "hovermode": "closest",
          "mapbox": {
           "style": "light"
          },
          "paper_bgcolor": "white",
          "plot_bgcolor": "#E5ECF6",
          "polar": {
           "angularaxis": {
            "gridcolor": "white",
            "linecolor": "white",
            "ticks": ""
           },
           "bgcolor": "#E5ECF6",
           "radialaxis": {
            "gridcolor": "white",
            "linecolor": "white",
            "ticks": ""
           }
          },
          "scene": {
           "xaxis": {
            "backgroundcolor": "#E5ECF6",
            "gridcolor": "white",
            "gridwidth": 2,
            "linecolor": "white",
            "showbackground": true,
            "ticks": "",
            "zerolinecolor": "white"
           },
           "yaxis": {
            "backgroundcolor": "#E5ECF6",
            "gridcolor": "white",
            "gridwidth": 2,
            "linecolor": "white",
            "showbackground": true,
            "ticks": "",
            "zerolinecolor": "white"
           },
           "zaxis": {
            "backgroundcolor": "#E5ECF6",
            "gridcolor": "white",
            "gridwidth": 2,
            "linecolor": "white",
            "showbackground": true,
            "ticks": "",
            "zerolinecolor": "white"
           }
          },
          "shapedefaults": {
           "line": {
            "color": "#2a3f5f"
           }
          },
          "ternary": {
           "aaxis": {
            "gridcolor": "white",
            "linecolor": "white",
            "ticks": ""
           },
           "baxis": {
            "gridcolor": "white",
            "linecolor": "white",
            "ticks": ""
           },
           "bgcolor": "#E5ECF6",
           "caxis": {
            "gridcolor": "white",
            "linecolor": "white",
            "ticks": ""
           }
          },
          "title": {
           "x": 0.05
          },
          "xaxis": {
           "automargin": true,
           "gridcolor": "white",
           "linecolor": "white",
           "ticks": "",
           "title": {
            "standoff": 15
           },
           "zerolinecolor": "white",
           "zerolinewidth": 2
          },
          "yaxis": {
           "automargin": true,
           "gridcolor": "white",
           "linecolor": "white",
           "ticks": "",
           "title": {
            "standoff": 15
           },
           "zerolinecolor": "white",
           "zerolinewidth": 2
          }
         }
        },
        "title": {
         "text": "Broadcast: Binary Tree"
        },
        "xaxis": {
         "anchor": "y",
         "domain": [
          0,
          1
         ],
         "title": {
          "text": "processes"
         }
        },
        "yaxis": {
         "anchor": "x",
         "domain": [
          0,
          1
         ],
         "title": {
          "text": "avg time"
         }
        }
       }
      }
     },
     "metadata": {},
     "output_type": "display_data"
    }
   ],
   "source": [
    "import plotly.express as px\n",
    "import plotly.graph_objects as go\n",
    "\n",
    "# Plot the execution time \n",
    "\n",
    "fig = px.line(binary_df, x='processes', y='avg time', title=\"Broadcast: Binary Tree\")\n",
    "fig"
   ]
  },
  {
   "cell_type": "code",
   "execution_count": 5,
   "metadata": {},
   "outputs": [
    {
     "name": "stdout",
     "output_type": "stream",
     "text": [
      "Slope of segment 1: 0.011768707482993197\n",
      "Slope of segment 2: 0.13552380952380955\n"
     ]
    },
    {
     "data": {
      "text/html": [
       "<div>\n",
       "<style scoped>\n",
       "    .dataframe tbody tr th:only-of-type {\n",
       "        vertical-align: middle;\n",
       "    }\n",
       "\n",
       "    .dataframe tbody tr th {\n",
       "        vertical-align: top;\n",
       "    }\n",
       "\n",
       "    .dataframe thead th {\n",
       "        text-align: right;\n",
       "    }\n",
       "</style>\n",
       "<table border=\"1\" class=\"dataframe\">\n",
       "  <thead>\n",
       "    <tr style=\"text-align: right;\">\n",
       "      <th></th>\n",
       "      <th>processes</th>\n",
       "      <th>avg time</th>\n",
       "      <th>cpu latency</th>\n",
       "      <th>effective time</th>\n",
       "      <th>overhead</th>\n",
       "    </tr>\n",
       "  </thead>\n",
       "  <tbody>\n",
       "    <tr>\n",
       "      <th>0</th>\n",
       "      <td>2</td>\n",
       "      <td>0.155</td>\n",
       "      <td>0.14</td>\n",
       "      <td>0.015</td>\n",
       "      <td>0.000000</td>\n",
       "    </tr>\n",
       "    <tr>\n",
       "      <th>1</th>\n",
       "      <td>3</td>\n",
       "      <td>0.275</td>\n",
       "      <td>0.14</td>\n",
       "      <td>0.135</td>\n",
       "      <td>1.011769</td>\n",
       "    </tr>\n",
       "    <tr>\n",
       "      <th>2</th>\n",
       "      <td>4</td>\n",
       "      <td>0.175</td>\n",
       "      <td>0.14</td>\n",
       "      <td>0.035</td>\n",
       "      <td>1.011769</td>\n",
       "    </tr>\n",
       "    <tr>\n",
       "      <th>3</th>\n",
       "      <td>5</td>\n",
       "      <td>0.315</td>\n",
       "      <td>0.31</td>\n",
       "      <td>0.005</td>\n",
       "      <td>1.011769</td>\n",
       "    </tr>\n",
       "    <tr>\n",
       "      <th>4</th>\n",
       "      <td>6</td>\n",
       "      <td>0.375</td>\n",
       "      <td>0.31</td>\n",
       "      <td>0.065</td>\n",
       "      <td>1.011769</td>\n",
       "    </tr>\n",
       "    <tr>\n",
       "      <th>...</th>\n",
       "      <td>...</td>\n",
       "      <td>...</td>\n",
       "      <td>...</td>\n",
       "      <td>...</td>\n",
       "      <td>...</td>\n",
       "    </tr>\n",
       "    <tr>\n",
       "      <th>249</th>\n",
       "      <td>251</td>\n",
       "      <td>16.540</td>\n",
       "      <td>1.82</td>\n",
       "      <td>14.720</td>\n",
       "      <td>1.135524</td>\n",
       "    </tr>\n",
       "    <tr>\n",
       "      <th>250</th>\n",
       "      <td>252</td>\n",
       "      <td>16.930</td>\n",
       "      <td>1.82</td>\n",
       "      <td>15.110</td>\n",
       "      <td>1.135524</td>\n",
       "    </tr>\n",
       "    <tr>\n",
       "      <th>251</th>\n",
       "      <td>253</td>\n",
       "      <td>17.390</td>\n",
       "      <td>1.82</td>\n",
       "      <td>15.570</td>\n",
       "      <td>1.135524</td>\n",
       "    </tr>\n",
       "    <tr>\n",
       "      <th>252</th>\n",
       "      <td>254</td>\n",
       "      <td>17.570</td>\n",
       "      <td>1.82</td>\n",
       "      <td>15.750</td>\n",
       "      <td>1.135524</td>\n",
       "    </tr>\n",
       "    <tr>\n",
       "      <th>253</th>\n",
       "      <td>255</td>\n",
       "      <td>17.990</td>\n",
       "      <td>1.82</td>\n",
       "      <td>16.170</td>\n",
       "      <td>1.135524</td>\n",
       "    </tr>\n",
       "  </tbody>\n",
       "</table>\n",
       "<p>254 rows × 5 columns</p>\n",
       "</div>"
      ],
      "text/plain": [
       "     processes  avg time  cpu latency  effective time  overhead\n",
       "0            2     0.155         0.14           0.015  0.000000\n",
       "1            3     0.275         0.14           0.135  1.011769\n",
       "2            4     0.175         0.14           0.035  1.011769\n",
       "3            5     0.315         0.31           0.005  1.011769\n",
       "4            6     0.375         0.31           0.065  1.011769\n",
       "..         ...       ...          ...             ...       ...\n",
       "249        251    16.540         1.82          14.720  1.135524\n",
       "250        252    16.930         1.82          15.110  1.135524\n",
       "251        253    17.390         1.82          15.570  1.135524\n",
       "252        254    17.570         1.82          15.750  1.135524\n",
       "253        255    17.990         1.82          16.170  1.135524\n",
       "\n",
       "[254 rows x 5 columns]"
      ]
     },
     "execution_count": 5,
     "metadata": {},
     "output_type": "execute_result"
    }
   ],
   "source": [
    "# we can see a change in slope of the line a the point processes=150\n",
    "cutpoint = 150 \n",
    "segment1 = binary_df[binary_df['processes'] < 150]\n",
    "segment2 = binary_df[binary_df['processes'] >= 150]\n",
    "\n",
    "# Assumption: given tha the \n",
    "overhead1 = ((segment1['effective time'].iloc[-1] - segment1['effective time'].iloc[0]) / \n",
    "                  (segment1['processes'].iloc[-1] - segment1['processes'].iloc[0]))\n",
    "\n",
    "overhead2 = ((segment2['effective time'].iloc[-1] - segment2['effective time'].iloc[0]) / \n",
    "                  (segment2['processes'].iloc[-1] - segment2['processes'].iloc[0]))\n",
    "\n",
    "print(\"Slope of segment 1:\", overhead1)\n",
    "print(\"Slope of segment 2:\", overhead2)\n",
    "\n",
    "binary_df.loc[(binary_df['processes'] > 2) & (binary_df['processes'] < 150), 'overhead'] = 1 + overhead1\n",
    "binary_df.loc[binary_df['processes']  >= 150, 'overhead'] = 1 + overhead2\n",
    "binary_df.loc[binary_df['processes'] == 2, 'overhead'] = 0 \n",
    "binary_df"
   ]
  },
  {
   "cell_type": "code",
   "execution_count": 6,
   "metadata": {},
   "outputs": [
    {
     "name": "stderr",
     "output_type": "stream",
     "text": [
      "/tmp/ipykernel_2512/3990186433.py:5: RuntimeWarning:\n",
      "\n",
      "divide by zero encountered in scalar divide\n",
      "\n"
     ]
    },
    {
     "data": {
      "text/html": [
       "<div>\n",
       "<style scoped>\n",
       "    .dataframe tbody tr th:only-of-type {\n",
       "        vertical-align: middle;\n",
       "    }\n",
       "\n",
       "    .dataframe tbody tr th {\n",
       "        vertical-align: top;\n",
       "    }\n",
       "\n",
       "    .dataframe thead th {\n",
       "        text-align: right;\n",
       "    }\n",
       "</style>\n",
       "<table border=\"1\" class=\"dataframe\">\n",
       "  <thead>\n",
       "    <tr style=\"text-align: right;\">\n",
       "      <th></th>\n",
       "      <th>processes</th>\n",
       "      <th>avg time</th>\n",
       "      <th>cpu latency</th>\n",
       "      <th>effective time</th>\n",
       "      <th>overhead</th>\n",
       "      <th>height</th>\n",
       "      <th>communication time</th>\n",
       "    </tr>\n",
       "  </thead>\n",
       "  <tbody>\n",
       "    <tr>\n",
       "      <th>1</th>\n",
       "      <td>3</td>\n",
       "      <td>0.275</td>\n",
       "      <td>0.14</td>\n",
       "      <td>0.135</td>\n",
       "      <td>1.011769</td>\n",
       "      <td>2</td>\n",
       "      <td>0.133430</td>\n",
       "    </tr>\n",
       "    <tr>\n",
       "      <th>2</th>\n",
       "      <td>4</td>\n",
       "      <td>0.175</td>\n",
       "      <td>0.14</td>\n",
       "      <td>0.035</td>\n",
       "      <td>1.011769</td>\n",
       "      <td>2</td>\n",
       "      <td>0.034593</td>\n",
       "    </tr>\n",
       "    <tr>\n",
       "      <th>3</th>\n",
       "      <td>5</td>\n",
       "      <td>0.315</td>\n",
       "      <td>0.31</td>\n",
       "      <td>0.005</td>\n",
       "      <td>1.011769</td>\n",
       "      <td>2</td>\n",
       "      <td>0.002471</td>\n",
       "    </tr>\n",
       "    <tr>\n",
       "      <th>4</th>\n",
       "      <td>6</td>\n",
       "      <td>0.375</td>\n",
       "      <td>0.31</td>\n",
       "      <td>0.065</td>\n",
       "      <td>1.011769</td>\n",
       "      <td>2</td>\n",
       "      <td>0.032122</td>\n",
       "    </tr>\n",
       "    <tr>\n",
       "      <th>5</th>\n",
       "      <td>7</td>\n",
       "      <td>0.500</td>\n",
       "      <td>0.31</td>\n",
       "      <td>0.190</td>\n",
       "      <td>1.011769</td>\n",
       "      <td>3</td>\n",
       "      <td>0.093895</td>\n",
       "    </tr>\n",
       "    <tr>\n",
       "      <th>...</th>\n",
       "      <td>...</td>\n",
       "      <td>...</td>\n",
       "      <td>...</td>\n",
       "      <td>...</td>\n",
       "      <td>...</td>\n",
       "      <td>...</td>\n",
       "      <td>...</td>\n",
       "    </tr>\n",
       "    <tr>\n",
       "      <th>249</th>\n",
       "      <td>251</td>\n",
       "      <td>16.540</td>\n",
       "      <td>1.82</td>\n",
       "      <td>14.720</td>\n",
       "      <td>1.135524</td>\n",
       "      <td>7</td>\n",
       "      <td>1.851883</td>\n",
       "    </tr>\n",
       "    <tr>\n",
       "      <th>250</th>\n",
       "      <td>252</td>\n",
       "      <td>16.930</td>\n",
       "      <td>1.82</td>\n",
       "      <td>15.110</td>\n",
       "      <td>1.135524</td>\n",
       "      <td>7</td>\n",
       "      <td>1.900948</td>\n",
       "    </tr>\n",
       "    <tr>\n",
       "      <th>251</th>\n",
       "      <td>253</td>\n",
       "      <td>17.390</td>\n",
       "      <td>1.82</td>\n",
       "      <td>15.570</td>\n",
       "      <td>1.135524</td>\n",
       "      <td>7</td>\n",
       "      <td>1.958819</td>\n",
       "    </tr>\n",
       "    <tr>\n",
       "      <th>252</th>\n",
       "      <td>254</td>\n",
       "      <td>17.570</td>\n",
       "      <td>1.82</td>\n",
       "      <td>15.750</td>\n",
       "      <td>1.135524</td>\n",
       "      <td>7</td>\n",
       "      <td>1.981464</td>\n",
       "    </tr>\n",
       "    <tr>\n",
       "      <th>253</th>\n",
       "      <td>255</td>\n",
       "      <td>17.990</td>\n",
       "      <td>1.82</td>\n",
       "      <td>16.170</td>\n",
       "      <td>1.135524</td>\n",
       "      <td>8</td>\n",
       "      <td>2.034303</td>\n",
       "    </tr>\n",
       "  </tbody>\n",
       "</table>\n",
       "<p>253 rows × 7 columns</p>\n",
       "</div>"
      ],
      "text/plain": [
       "     processes  avg time  cpu latency  effective time  overhead  height  \\\n",
       "1            3     0.275         0.14           0.135  1.011769       2   \n",
       "2            4     0.175         0.14           0.035  1.011769       2   \n",
       "3            5     0.315         0.31           0.005  1.011769       2   \n",
       "4            6     0.375         0.31           0.065  1.011769       2   \n",
       "5            7     0.500         0.31           0.190  1.011769       3   \n",
       "..         ...       ...          ...             ...       ...     ...   \n",
       "249        251    16.540         1.82          14.720  1.135524       7   \n",
       "250        252    16.930         1.82          15.110  1.135524       7   \n",
       "251        253    17.390         1.82          15.570  1.135524       7   \n",
       "252        254    17.570         1.82          15.750  1.135524       7   \n",
       "253        255    17.990         1.82          16.170  1.135524       8   \n",
       "\n",
       "     communication time  \n",
       "1              0.133430  \n",
       "2              0.034593  \n",
       "3              0.002471  \n",
       "4              0.032122  \n",
       "5              0.093895  \n",
       "..                  ...  \n",
       "249            1.851883  \n",
       "250            1.900948  \n",
       "251            1.958819  \n",
       "252            1.981464  \n",
       "253            2.034303  \n",
       "\n",
       "[253 rows x 7 columns]"
      ]
     },
     "execution_count": 6,
     "metadata": {},
     "output_type": "execute_result"
    }
   ],
   "source": [
    "import math\n",
    "# determine the tree height\n",
    "\n",
    "binary_df['height'] = (binary_df['processes'] + 1).apply(lambda x: math.floor(math.log2(x)))\n",
    "binary_df['communication time'] = binary_df.apply(lambda row: (row['effective time']/ row['overhead']) / math.floor(math.log2(row['processes']-1)), axis=1)\n",
    "binary_df = binary_df.drop(binary_df.index[0])\n",
    "binary_df"
   ]
  },
  {
   "cell_type": "code",
   "execution_count": 7,
   "metadata": {},
   "outputs": [
    {
     "data": {
      "application/vnd.plotly.v1+json": {
       "config": {
        "plotlyServerURL": "https://plot.ly"
       },
       "data": [
        {
         "alignmentgroup": "True",
         "hovertemplate": "processes=%{x}<br>communication time=%{y}<extra></extra>",
         "legendgroup": "",
         "marker": {
          "color": "#636efa",
          "pattern": {
           "shape": ""
          }
         },
         "name": "",
         "offsetgroup": "",
         "orientation": "v",
         "showlegend": false,
         "textposition": "auto",
         "type": "bar",
         "x": [
          3,
          4,
          5,
          6,
          7,
          8,
          9,
          10,
          11,
          12,
          13,
          14,
          15,
          16,
          17,
          18,
          19,
          20,
          21,
          22,
          23,
          24,
          25,
          26,
          27,
          28,
          29,
          30,
          31,
          32,
          33,
          34,
          35,
          36,
          37,
          38,
          39,
          40,
          41,
          42,
          43,
          44,
          45,
          46,
          47,
          48,
          49,
          50,
          51,
          52,
          53,
          54,
          55,
          56,
          57,
          58,
          59,
          60,
          61,
          62,
          63,
          64,
          65,
          66,
          67,
          68,
          69,
          70,
          71,
          72,
          73,
          74,
          75,
          76,
          77,
          78,
          79,
          80,
          81,
          82,
          83,
          84,
          85,
          86,
          87,
          88,
          89,
          90,
          91,
          92,
          93,
          94,
          95,
          96,
          97,
          98,
          99,
          100,
          101,
          102,
          103,
          104,
          105,
          106,
          107,
          108,
          109,
          110,
          111,
          112,
          113,
          114,
          115,
          116,
          117,
          118,
          119,
          120,
          121,
          122,
          123,
          124,
          125,
          126,
          127,
          128,
          129,
          130,
          131,
          132,
          133,
          134,
          135,
          136,
          137,
          138,
          139,
          140,
          141,
          142,
          143,
          144,
          145,
          146,
          147,
          148,
          149,
          150,
          151,
          152,
          153,
          154,
          155,
          156,
          157,
          158,
          159,
          160,
          161,
          162,
          163,
          164,
          165,
          166,
          167,
          168,
          169,
          170,
          171,
          172,
          173,
          174,
          175,
          176,
          177,
          178,
          179,
          180,
          181,
          182,
          183,
          184,
          185,
          186,
          187,
          188,
          189,
          190,
          191,
          192,
          193,
          194,
          195,
          196,
          197,
          198,
          199,
          200,
          201,
          202,
          203,
          204,
          205,
          206,
          207,
          208,
          209,
          210,
          211,
          212,
          213,
          214,
          215,
          216,
          217,
          218,
          219,
          220,
          221,
          222,
          223,
          224,
          225,
          226,
          227,
          228,
          229,
          230,
          231,
          232,
          233,
          234,
          235,
          236,
          237,
          238,
          239,
          240,
          241,
          242,
          243,
          244,
          245,
          246,
          247,
          248,
          249,
          250,
          251,
          252,
          253,
          254,
          255
         ],
         "xaxis": "x",
         "y": [
          0.13342970483426342,
          0.034592886438512715,
          0.002470920459893769,
          0.03212196597861897,
          0.09389497747596315,
          0.24215020506958918,
          0.3030995764136354,
          0.26850668997512256,
          0.28168493242788933,
          0.2635648490553351,
          0.27180125058831434,
          0.2899213339608686,
          0.3030995764136354,
          0.2833322127344852,
          0.3175132790963491,
          0.32245512001613663,
          0.3360451825455523,
          0.3385161030054461,
          0.3521061655348618,
          0.3533416257648087,
          0.36075438714449,
          0.36693168829422435,
          0.35581254622470243,
          0.3533416257648087,
          0.3595189269145431,
          0.36322530760438376,
          0.36075438714449,
          0.3644607678343306,
          0.3792862905936933,
          0.3681671485241713,
          0.42104484636589784,
          0.5564512875680763,
          0.46255631009211323,
          0.4378471054931755,
          0.7145901970012773,
          0.5149398238418611,
          0.4131379008942379,
          0.41906810999798294,
          0.4299401600215155,
          0.4151146372621529,
          0.4210448463658979,
          0.42499831910172786,
          0.43191689638943054,
          0.4348820009413029,
          0.4586028373562831,
          0.434882000941303,
          0.43290526457338796,
          0.4418005782290055,
          0.4418005782290055,
          0.4348820009413029,
          0.44081221004504806,
          0.4398238418610905,
          0.44081221004504806,
          0.43290526457338796,
          0.4447656827808781,
          0.44081221004504806,
          0.4338936327573455,
          0.434882000941303,
          0.4536609964364957,
          0.450695891884623,
          0.4576144691723257,
          0.36273112351240505,
          0.20838095878437432,
          0.22814832246352446,
          0.2553284475223559,
          0.3146305385598063,
          0.3047468567202312,
          0.3063941370268271,
          0.36487258791097954,
          0.2940395347273583,
          0.28250857258118733,
          0.29733409534054994,
          0.3418106636186377,
          0.307217777180125,
          0.33110334162576477,
          0.32698514085927516,
          0.3673435083708733,
          0.3483997848450211,
          0.350047065151617,
          0.3566361863780004,
          0.38793451220332137,
          0.38299267128353387,
          0.3739326295972567,
          0.4085255160357695,
          0.3772271902104484,
          0.3862872318967255,
          0.3862872318967255,
          0.39205271296981103,
          0.38793451220332137,
          0.38052175082364004,
          0.3994654743494923,
          0.41017279634236536,
          0.42088011833523825,
          0.4390002017077926,
          0.434058360788005,
          0.4390002017077926,
          0.4357056410946008,
          0.4727694479930074,
          0.5271296981106702,
          0.4398238418610905,
          0.5320715390304577,
          0.4530020843138573,
          0.5221878571908828,
          0.4628857661534323,
          0.47771128891279485,
          0.4941840919787534,
          0.6169064748201438,
          0.49830229274524296,
          0.530424258723862,
          0.48759497075236996,
          0.562546224702481,
          0.5263060579573724,
          0.5946681906810999,
          0.5460734216365225,
          0.5172460162710951,
          0.5353660996436495,
          0.5328951791837557,
          0.519716936730989,
          0.5485443420964163,
          0.5427788610233307,
          0.616082834666846,
          0.5394843004101392,
          0.5576043837826934,
          0.5164223761177973,
          0.4917131715188596,
          0.5081859745848181,
          0.10377865931553817,
          0.1609628185302225,
          0.12213406844617762,
          0.16590465945001007,
          0.1489612048678814,
          0.15531500033617962,
          0.1793182276608619,
          0.3134539097693807,
          0.24920997781214277,
          0.36075438714448993,
          0.6191420695219525,
          0.26615343239427147,
          0.21673502319639612,
          0.26897734149129293,
          0.21955893229341755,
          0.2993343642842734,
          0.3169837961406575,
          0.25979963692597324,
          0.25203388690916423,
          0.2922745915417198,
          0.24638606871512134,
          0.2440660907489725,
          0.301937431854399,
          0.38434118929799543,
          0.3365344292543822,
          0.34974419189801215,
          0.3252117755598423,
          0.4950515809779417,
          0.4069864966870753,
          0.41579300511616196,
          0.48687410886521837,
          0.5460035226033716,
          0.48498699991612837,
          0.5403421957561017,
          0.6271492074142413,
          0.8837960244904803,
          0.8976348234504739,
          0.704520674326931,
          0.9592803824540803,
          0.691310911683301,
          0.8051664849450642,
          0.7617629791159942,
          1.0259582319885934,
          0.6768430764069444,
          0.6793592216723977,
          0.6743269311414911,
          0.7051497106432943,
          0.5189549609997484,
          0.5359389415415583,
          0.535309905225195,
          0.6755850037742178,
          0.7768598507087141,
          0.6013587184433448,
          0.7038916380105678,
          0.6485364421705945,
          0.7334563448796443,
          0.6315524616287845,
          0.7724565964941708,
          0.7051497106432943,
          0.8630378260504905,
          0.7856663591378007,
          0.9693449635158935,
          0.8617797534177639,
          0.734714417512371,
          0.917134949257737,
          0.8303279375995973,
          0.8592636081523105,
          0.9863289440577035,
          0.8416505912941373,
          1.01023232407951,
          1.0492325756940366,
          0.9542480919231735,
          0.9699739998322571,
          1.1366686236685397,
          1.0108613603958736,
          1.0825715004612932,
          1.0725069193994796,
          1.0561519751740334,
          1.08571668204311,
          1.1291201878721797,
          1.103329698901283,
          1.2851211943302858,
          1.1580558584248928,
          1.1876205652939693,
          1.2272498532248595,
          1.2127820179485027,
          1.253040342195756,
          1.236056361653946,
          1.2121529816321395,
          1.2278788895412227,
          1.2977019206575526,
          1.4272834018283986,
          1.3719282059884257,
          1.2863792669630125,
          1.169378512119433,
          1.1473622410467161,
          1.2524113058793929,
          1.610332969890128,
          1.258701669043026,
          1.2964438480248257,
          1.3895412228465989,
          1.300218065923006,
          1.3153149375157258,
          1.3675249517738823,
          1.549316447202885,
          1.420364002348402,
          1.371299169672062,
          1.3794766417847857,
          1.4807514887192819,
          1.598381279879225,
          1.6053006793592215,
          1.8065923005954876,
          1.6971399815482677,
          1.7908663926864041,
          1.7254466157846178,
          1.5914618803992282,
          1.743059632642791,
          2.11482009561352,
          1.824834353770024,
          1.6606558751991947,
          1.8304956806172943,
          1.8311247169336575,
          1.8518829153736474,
          1.9009477480499872,
          1.9588190891554138,
          1.9814643965444938,
          2.034303447119014
         ],
         "yaxis": "y"
        }
       ],
       "layout": {
        "barmode": "relative",
        "legend": {
         "tracegroupgap": 0
        },
        "template": {
         "data": {
          "bar": [
           {
            "error_x": {
             "color": "#2a3f5f"
            },
            "error_y": {
             "color": "#2a3f5f"
            },
            "marker": {
             "line": {
              "color": "#E5ECF6",
              "width": 0.5
             },
             "pattern": {
              "fillmode": "overlay",
              "size": 10,
              "solidity": 0.2
             }
            },
            "type": "bar"
           }
          ],
          "barpolar": [
           {
            "marker": {
             "line": {
              "color": "#E5ECF6",
              "width": 0.5
             },
             "pattern": {
              "fillmode": "overlay",
              "size": 10,
              "solidity": 0.2
             }
            },
            "type": "barpolar"
           }
          ],
          "carpet": [
           {
            "aaxis": {
             "endlinecolor": "#2a3f5f",
             "gridcolor": "white",
             "linecolor": "white",
             "minorgridcolor": "white",
             "startlinecolor": "#2a3f5f"
            },
            "baxis": {
             "endlinecolor": "#2a3f5f",
             "gridcolor": "white",
             "linecolor": "white",
             "minorgridcolor": "white",
             "startlinecolor": "#2a3f5f"
            },
            "type": "carpet"
           }
          ],
          "choropleth": [
           {
            "colorbar": {
             "outlinewidth": 0,
             "ticks": ""
            },
            "type": "choropleth"
           }
          ],
          "contour": [
           {
            "colorbar": {
             "outlinewidth": 0,
             "ticks": ""
            },
            "colorscale": [
             [
              0,
              "#0d0887"
             ],
             [
              0.1111111111111111,
              "#46039f"
             ],
             [
              0.2222222222222222,
              "#7201a8"
             ],
             [
              0.3333333333333333,
              "#9c179e"
             ],
             [
              0.4444444444444444,
              "#bd3786"
             ],
             [
              0.5555555555555556,
              "#d8576b"
             ],
             [
              0.6666666666666666,
              "#ed7953"
             ],
             [
              0.7777777777777778,
              "#fb9f3a"
             ],
             [
              0.8888888888888888,
              "#fdca26"
             ],
             [
              1,
              "#f0f921"
             ]
            ],
            "type": "contour"
           }
          ],
          "contourcarpet": [
           {
            "colorbar": {
             "outlinewidth": 0,
             "ticks": ""
            },
            "type": "contourcarpet"
           }
          ],
          "heatmap": [
           {
            "colorbar": {
             "outlinewidth": 0,
             "ticks": ""
            },
            "colorscale": [
             [
              0,
              "#0d0887"
             ],
             [
              0.1111111111111111,
              "#46039f"
             ],
             [
              0.2222222222222222,
              "#7201a8"
             ],
             [
              0.3333333333333333,
              "#9c179e"
             ],
             [
              0.4444444444444444,
              "#bd3786"
             ],
             [
              0.5555555555555556,
              "#d8576b"
             ],
             [
              0.6666666666666666,
              "#ed7953"
             ],
             [
              0.7777777777777778,
              "#fb9f3a"
             ],
             [
              0.8888888888888888,
              "#fdca26"
             ],
             [
              1,
              "#f0f921"
             ]
            ],
            "type": "heatmap"
           }
          ],
          "heatmapgl": [
           {
            "colorbar": {
             "outlinewidth": 0,
             "ticks": ""
            },
            "colorscale": [
             [
              0,
              "#0d0887"
             ],
             [
              0.1111111111111111,
              "#46039f"
             ],
             [
              0.2222222222222222,
              "#7201a8"
             ],
             [
              0.3333333333333333,
              "#9c179e"
             ],
             [
              0.4444444444444444,
              "#bd3786"
             ],
             [
              0.5555555555555556,
              "#d8576b"
             ],
             [
              0.6666666666666666,
              "#ed7953"
             ],
             [
              0.7777777777777778,
              "#fb9f3a"
             ],
             [
              0.8888888888888888,
              "#fdca26"
             ],
             [
              1,
              "#f0f921"
             ]
            ],
            "type": "heatmapgl"
           }
          ],
          "histogram": [
           {
            "marker": {
             "pattern": {
              "fillmode": "overlay",
              "size": 10,
              "solidity": 0.2
             }
            },
            "type": "histogram"
           }
          ],
          "histogram2d": [
           {
            "colorbar": {
             "outlinewidth": 0,
             "ticks": ""
            },
            "colorscale": [
             [
              0,
              "#0d0887"
             ],
             [
              0.1111111111111111,
              "#46039f"
             ],
             [
              0.2222222222222222,
              "#7201a8"
             ],
             [
              0.3333333333333333,
              "#9c179e"
             ],
             [
              0.4444444444444444,
              "#bd3786"
             ],
             [
              0.5555555555555556,
              "#d8576b"
             ],
             [
              0.6666666666666666,
              "#ed7953"
             ],
             [
              0.7777777777777778,
              "#fb9f3a"
             ],
             [
              0.8888888888888888,
              "#fdca26"
             ],
             [
              1,
              "#f0f921"
             ]
            ],
            "type": "histogram2d"
           }
          ],
          "histogram2dcontour": [
           {
            "colorbar": {
             "outlinewidth": 0,
             "ticks": ""
            },
            "colorscale": [
             [
              0,
              "#0d0887"
             ],
             [
              0.1111111111111111,
              "#46039f"
             ],
             [
              0.2222222222222222,
              "#7201a8"
             ],
             [
              0.3333333333333333,
              "#9c179e"
             ],
             [
              0.4444444444444444,
              "#bd3786"
             ],
             [
              0.5555555555555556,
              "#d8576b"
             ],
             [
              0.6666666666666666,
              "#ed7953"
             ],
             [
              0.7777777777777778,
              "#fb9f3a"
             ],
             [
              0.8888888888888888,
              "#fdca26"
             ],
             [
              1,
              "#f0f921"
             ]
            ],
            "type": "histogram2dcontour"
           }
          ],
          "mesh3d": [
           {
            "colorbar": {
             "outlinewidth": 0,
             "ticks": ""
            },
            "type": "mesh3d"
           }
          ],
          "parcoords": [
           {
            "line": {
             "colorbar": {
              "outlinewidth": 0,
              "ticks": ""
             }
            },
            "type": "parcoords"
           }
          ],
          "pie": [
           {
            "automargin": true,
            "type": "pie"
           }
          ],
          "scatter": [
           {
            "fillpattern": {
             "fillmode": "overlay",
             "size": 10,
             "solidity": 0.2
            },
            "type": "scatter"
           }
          ],
          "scatter3d": [
           {
            "line": {
             "colorbar": {
              "outlinewidth": 0,
              "ticks": ""
             }
            },
            "marker": {
             "colorbar": {
              "outlinewidth": 0,
              "ticks": ""
             }
            },
            "type": "scatter3d"
           }
          ],
          "scattercarpet": [
           {
            "marker": {
             "colorbar": {
              "outlinewidth": 0,
              "ticks": ""
             }
            },
            "type": "scattercarpet"
           }
          ],
          "scattergeo": [
           {
            "marker": {
             "colorbar": {
              "outlinewidth": 0,
              "ticks": ""
             }
            },
            "type": "scattergeo"
           }
          ],
          "scattergl": [
           {
            "marker": {
             "colorbar": {
              "outlinewidth": 0,
              "ticks": ""
             }
            },
            "type": "scattergl"
           }
          ],
          "scattermapbox": [
           {
            "marker": {
             "colorbar": {
              "outlinewidth": 0,
              "ticks": ""
             }
            },
            "type": "scattermapbox"
           }
          ],
          "scatterpolar": [
           {
            "marker": {
             "colorbar": {
              "outlinewidth": 0,
              "ticks": ""
             }
            },
            "type": "scatterpolar"
           }
          ],
          "scatterpolargl": [
           {
            "marker": {
             "colorbar": {
              "outlinewidth": 0,
              "ticks": ""
             }
            },
            "type": "scatterpolargl"
           }
          ],
          "scatterternary": [
           {
            "marker": {
             "colorbar": {
              "outlinewidth": 0,
              "ticks": ""
             }
            },
            "type": "scatterternary"
           }
          ],
          "surface": [
           {
            "colorbar": {
             "outlinewidth": 0,
             "ticks": ""
            },
            "colorscale": [
             [
              0,
              "#0d0887"
             ],
             [
              0.1111111111111111,
              "#46039f"
             ],
             [
              0.2222222222222222,
              "#7201a8"
             ],
             [
              0.3333333333333333,
              "#9c179e"
             ],
             [
              0.4444444444444444,
              "#bd3786"
             ],
             [
              0.5555555555555556,
              "#d8576b"
             ],
             [
              0.6666666666666666,
              "#ed7953"
             ],
             [
              0.7777777777777778,
              "#fb9f3a"
             ],
             [
              0.8888888888888888,
              "#fdca26"
             ],
             [
              1,
              "#f0f921"
             ]
            ],
            "type": "surface"
           }
          ],
          "table": [
           {
            "cells": {
             "fill": {
              "color": "#EBF0F8"
             },
             "line": {
              "color": "white"
             }
            },
            "header": {
             "fill": {
              "color": "#C8D4E3"
             },
             "line": {
              "color": "white"
             }
            },
            "type": "table"
           }
          ]
         },
         "layout": {
          "annotationdefaults": {
           "arrowcolor": "#2a3f5f",
           "arrowhead": 0,
           "arrowwidth": 1
          },
          "autotypenumbers": "strict",
          "coloraxis": {
           "colorbar": {
            "outlinewidth": 0,
            "ticks": ""
           }
          },
          "colorscale": {
           "diverging": [
            [
             0,
             "#8e0152"
            ],
            [
             0.1,
             "#c51b7d"
            ],
            [
             0.2,
             "#de77ae"
            ],
            [
             0.3,
             "#f1b6da"
            ],
            [
             0.4,
             "#fde0ef"
            ],
            [
             0.5,
             "#f7f7f7"
            ],
            [
             0.6,
             "#e6f5d0"
            ],
            [
             0.7,
             "#b8e186"
            ],
            [
             0.8,
             "#7fbc41"
            ],
            [
             0.9,
             "#4d9221"
            ],
            [
             1,
             "#276419"
            ]
           ],
           "sequential": [
            [
             0,
             "#0d0887"
            ],
            [
             0.1111111111111111,
             "#46039f"
            ],
            [
             0.2222222222222222,
             "#7201a8"
            ],
            [
             0.3333333333333333,
             "#9c179e"
            ],
            [
             0.4444444444444444,
             "#bd3786"
            ],
            [
             0.5555555555555556,
             "#d8576b"
            ],
            [
             0.6666666666666666,
             "#ed7953"
            ],
            [
             0.7777777777777778,
             "#fb9f3a"
            ],
            [
             0.8888888888888888,
             "#fdca26"
            ],
            [
             1,
             "#f0f921"
            ]
           ],
           "sequentialminus": [
            [
             0,
             "#0d0887"
            ],
            [
             0.1111111111111111,
             "#46039f"
            ],
            [
             0.2222222222222222,
             "#7201a8"
            ],
            [
             0.3333333333333333,
             "#9c179e"
            ],
            [
             0.4444444444444444,
             "#bd3786"
            ],
            [
             0.5555555555555556,
             "#d8576b"
            ],
            [
             0.6666666666666666,
             "#ed7953"
            ],
            [
             0.7777777777777778,
             "#fb9f3a"
            ],
            [
             0.8888888888888888,
             "#fdca26"
            ],
            [
             1,
             "#f0f921"
            ]
           ]
          },
          "colorway": [
           "#636efa",
           "#EF553B",
           "#00cc96",
           "#ab63fa",
           "#FFA15A",
           "#19d3f3",
           "#FF6692",
           "#B6E880",
           "#FF97FF",
           "#FECB52"
          ],
          "font": {
           "color": "#2a3f5f"
          },
          "geo": {
           "bgcolor": "white",
           "lakecolor": "white",
           "landcolor": "#E5ECF6",
           "showlakes": true,
           "showland": true,
           "subunitcolor": "white"
          },
          "hoverlabel": {
           "align": "left"
          },
          "hovermode": "closest",
          "mapbox": {
           "style": "light"
          },
          "paper_bgcolor": "white",
          "plot_bgcolor": "#E5ECF6",
          "polar": {
           "angularaxis": {
            "gridcolor": "white",
            "linecolor": "white",
            "ticks": ""
           },
           "bgcolor": "#E5ECF6",
           "radialaxis": {
            "gridcolor": "white",
            "linecolor": "white",
            "ticks": ""
           }
          },
          "scene": {
           "xaxis": {
            "backgroundcolor": "#E5ECF6",
            "gridcolor": "white",
            "gridwidth": 2,
            "linecolor": "white",
            "showbackground": true,
            "ticks": "",
            "zerolinecolor": "white"
           },
           "yaxis": {
            "backgroundcolor": "#E5ECF6",
            "gridcolor": "white",
            "gridwidth": 2,
            "linecolor": "white",
            "showbackground": true,
            "ticks": "",
            "zerolinecolor": "white"
           },
           "zaxis": {
            "backgroundcolor": "#E5ECF6",
            "gridcolor": "white",
            "gridwidth": 2,
            "linecolor": "white",
            "showbackground": true,
            "ticks": "",
            "zerolinecolor": "white"
           }
          },
          "shapedefaults": {
           "line": {
            "color": "#2a3f5f"
           }
          },
          "ternary": {
           "aaxis": {
            "gridcolor": "white",
            "linecolor": "white",
            "ticks": ""
           },
           "baxis": {
            "gridcolor": "white",
            "linecolor": "white",
            "ticks": ""
           },
           "bgcolor": "#E5ECF6",
           "caxis": {
            "gridcolor": "white",
            "linecolor": "white",
            "ticks": ""
           }
          },
          "title": {
           "x": 0.05
          },
          "xaxis": {
           "automargin": true,
           "gridcolor": "white",
           "linecolor": "white",
           "ticks": "",
           "title": {
            "standoff": 15
           },
           "zerolinecolor": "white",
           "zerolinewidth": 2
          },
          "yaxis": {
           "automargin": true,
           "gridcolor": "white",
           "linecolor": "white",
           "ticks": "",
           "title": {
            "standoff": 15
           },
           "zerolinecolor": "white",
           "zerolinewidth": 2
          }
         }
        },
        "title": {
         "text": "pt2pt communication time"
        },
        "xaxis": {
         "anchor": "y",
         "domain": [
          0,
          1
         ],
         "title": {
          "text": "processes"
         }
        },
        "yaxis": {
         "anchor": "x",
         "domain": [
          0,
          1
         ],
         "title": {
          "text": "communication time"
         }
        }
       }
      }
     },
     "metadata": {},
     "output_type": "display_data"
    }
   ],
   "source": [
    "\n",
    "fig = px.bar(binary_df, x='processes', y='communication time', title='pt2pt communication time')\n",
    "fig.show()"
   ]
  },
  {
   "cell_type": "markdown",
   "metadata": {},
   "source": [
    "## Model and Estimation"
   ]
  },
  {
   "cell_type": "markdown",
   "metadata": {},
   "source": [
    "# LogP"
   ]
  },
  {
   "cell_type": "code",
   "execution_count": 8,
   "metadata": {},
   "outputs": [
    {
     "data": {
      "text/html": [
       "<div>\n",
       "<style scoped>\n",
       "    .dataframe tbody tr th:only-of-type {\n",
       "        vertical-align: middle;\n",
       "    }\n",
       "\n",
       "    .dataframe tbody tr th {\n",
       "        vertical-align: top;\n",
       "    }\n",
       "\n",
       "    .dataframe thead th {\n",
       "        text-align: right;\n",
       "    }\n",
       "</style>\n",
       "<table border=\"1\" class=\"dataframe\">\n",
       "  <thead>\n",
       "    <tr style=\"text-align: right;\">\n",
       "      <th></th>\n",
       "      <th>processes</th>\n",
       "      <th>avg time</th>\n",
       "      <th>cpu latency</th>\n",
       "      <th>effective time</th>\n",
       "      <th>overhead</th>\n",
       "      <th>height</th>\n",
       "      <th>communication time</th>\n",
       "      <th>LogP</th>\n",
       "    </tr>\n",
       "  </thead>\n",
       "  <tbody>\n",
       "    <tr>\n",
       "      <th>1</th>\n",
       "      <td>3</td>\n",
       "      <td>0.275</td>\n",
       "      <td>0.14</td>\n",
       "      <td>0.135</td>\n",
       "      <td>1.011769</td>\n",
       "      <td>2</td>\n",
       "      <td>0.133430</td>\n",
       "      <td>0.141648</td>\n",
       "    </tr>\n",
       "    <tr>\n",
       "      <th>2</th>\n",
       "      <td>4</td>\n",
       "      <td>0.175</td>\n",
       "      <td>0.14</td>\n",
       "      <td>0.035</td>\n",
       "      <td>1.011769</td>\n",
       "      <td>2</td>\n",
       "      <td>0.034593</td>\n",
       "      <td>0.283295</td>\n",
       "    </tr>\n",
       "    <tr>\n",
       "      <th>3</th>\n",
       "      <td>5</td>\n",
       "      <td>0.315</td>\n",
       "      <td>0.31</td>\n",
       "      <td>0.005</td>\n",
       "      <td>1.011769</td>\n",
       "      <td>2</td>\n",
       "      <td>0.002471</td>\n",
       "      <td>0.627297</td>\n",
       "    </tr>\n",
       "    <tr>\n",
       "      <th>4</th>\n",
       "      <td>6</td>\n",
       "      <td>0.375</td>\n",
       "      <td>0.31</td>\n",
       "      <td>0.065</td>\n",
       "      <td>1.011769</td>\n",
       "      <td>2</td>\n",
       "      <td>0.032122</td>\n",
       "      <td>0.627297</td>\n",
       "    </tr>\n",
       "    <tr>\n",
       "      <th>5</th>\n",
       "      <td>7</td>\n",
       "      <td>0.500</td>\n",
       "      <td>0.31</td>\n",
       "      <td>0.190</td>\n",
       "      <td>1.011769</td>\n",
       "      <td>3</td>\n",
       "      <td>0.093895</td>\n",
       "      <td>0.627297</td>\n",
       "    </tr>\n",
       "    <tr>\n",
       "      <th>...</th>\n",
       "      <td>...</td>\n",
       "      <td>...</td>\n",
       "      <td>...</td>\n",
       "      <td>...</td>\n",
       "      <td>...</td>\n",
       "      <td>...</td>\n",
       "      <td>...</td>\n",
       "      <td>...</td>\n",
       "    </tr>\n",
       "    <tr>\n",
       "      <th>249</th>\n",
       "      <td>251</td>\n",
       "      <td>16.540</td>\n",
       "      <td>1.82</td>\n",
       "      <td>14.720</td>\n",
       "      <td>1.135524</td>\n",
       "      <td>7</td>\n",
       "      <td>1.851883</td>\n",
       "      <td>14.466573</td>\n",
       "    </tr>\n",
       "    <tr>\n",
       "      <th>250</th>\n",
       "      <td>252</td>\n",
       "      <td>16.930</td>\n",
       "      <td>1.82</td>\n",
       "      <td>15.110</td>\n",
       "      <td>1.135524</td>\n",
       "      <td>7</td>\n",
       "      <td>1.900948</td>\n",
       "      <td>14.466573</td>\n",
       "    </tr>\n",
       "    <tr>\n",
       "      <th>251</th>\n",
       "      <td>253</td>\n",
       "      <td>17.390</td>\n",
       "      <td>1.82</td>\n",
       "      <td>15.570</td>\n",
       "      <td>1.135524</td>\n",
       "      <td>7</td>\n",
       "      <td>1.958819</td>\n",
       "      <td>14.466573</td>\n",
       "    </tr>\n",
       "    <tr>\n",
       "      <th>252</th>\n",
       "      <td>254</td>\n",
       "      <td>17.570</td>\n",
       "      <td>1.82</td>\n",
       "      <td>15.750</td>\n",
       "      <td>1.135524</td>\n",
       "      <td>7</td>\n",
       "      <td>1.981464</td>\n",
       "      <td>14.466573</td>\n",
       "    </tr>\n",
       "    <tr>\n",
       "      <th>253</th>\n",
       "      <td>255</td>\n",
       "      <td>17.990</td>\n",
       "      <td>1.82</td>\n",
       "      <td>16.170</td>\n",
       "      <td>1.135524</td>\n",
       "      <td>8</td>\n",
       "      <td>2.034303</td>\n",
       "      <td>14.466573</td>\n",
       "    </tr>\n",
       "  </tbody>\n",
       "</table>\n",
       "<p>253 rows × 8 columns</p>\n",
       "</div>"
      ],
      "text/plain": [
       "     processes  avg time  cpu latency  effective time  overhead  height  \\\n",
       "1            3     0.275         0.14           0.135  1.011769       2   \n",
       "2            4     0.175         0.14           0.035  1.011769       2   \n",
       "3            5     0.315         0.31           0.005  1.011769       2   \n",
       "4            6     0.375         0.31           0.065  1.011769       2   \n",
       "5            7     0.500         0.31           0.190  1.011769       3   \n",
       "..         ...       ...          ...             ...       ...     ...   \n",
       "249        251    16.540         1.82          14.720  1.135524       7   \n",
       "250        252    16.930         1.82          15.110  1.135524       7   \n",
       "251        253    17.390         1.82          15.570  1.135524       7   \n",
       "252        254    17.570         1.82          15.750  1.135524       7   \n",
       "253        255    17.990         1.82          16.170  1.135524       8   \n",
       "\n",
       "     communication time       LogP  \n",
       "1              0.133430   0.141648  \n",
       "2              0.034593   0.283295  \n",
       "3              0.002471   0.627297  \n",
       "4              0.032122   0.627297  \n",
       "5              0.093895   0.627297  \n",
       "..                  ...        ...  \n",
       "249            1.851883  14.466573  \n",
       "250            1.900948  14.466573  \n",
       "251            1.958819  14.466573  \n",
       "252            1.981464  14.466573  \n",
       "253            2.034303  14.466573  \n",
       "\n",
       "[253 rows x 8 columns]"
      ]
     },
     "execution_count": 8,
     "metadata": {},
     "output_type": "execute_result"
    }
   ],
   "source": [
    "binary_df['LogP'] = binary_df.apply(lambda row: (math.ceil(math.log2(row['processes'] + 1) -1)) * (row['cpu latency'] * row['overhead']), axis=1)\n",
    "binary_df"
   ]
  },
  {
   "cell_type": "code",
   "execution_count": 9,
   "metadata": {},
   "outputs": [
    {
     "name": "stderr",
     "output_type": "stream",
     "text": [
      "/home/ziyangfu/Code/rec_system/rec/lib/python3.10/site-packages/plotly/graph_objs/_deprecations.py:378: DeprecationWarning:\n",
      "\n",
      "plotly.graph_objs.Line is deprecated.\n",
      "Please replace it with one of the following more specific types\n",
      "  - plotly.graph_objs.scatter.Line\n",
      "  - plotly.graph_objs.layout.shape.Line\n",
      "  - etc.\n",
      "\n",
      "\n"
     ]
    },
    {
     "data": {
      "application/vnd.plotly.v1+json": {
       "config": {
        "plotlyServerURL": "https://plot.ly"
       },
       "data": [
        {
         "hovertemplate": "processes=%{x}<br>avg time=%{y}<extra></extra>",
         "legendgroup": "",
         "line": {
          "color": "#636efa",
          "dash": "solid"
         },
         "marker": {
          "symbol": "circle"
         },
         "mode": "lines",
         "name": "",
         "orientation": "v",
         "showlegend": false,
         "type": "scatter",
         "x": [
          3,
          4,
          5,
          6,
          7,
          8,
          9,
          10,
          11,
          12,
          13,
          14,
          15,
          16,
          17,
          18,
          19,
          20,
          21,
          22,
          23,
          24,
          25,
          26,
          27,
          28,
          29,
          30,
          31,
          32,
          33,
          34,
          35,
          36,
          37,
          38,
          39,
          40,
          41,
          42,
          43,
          44,
          45,
          46,
          47,
          48,
          49,
          50,
          51,
          52,
          53,
          54,
          55,
          56,
          57,
          58,
          59,
          60,
          61,
          62,
          63,
          64,
          65,
          66,
          67,
          68,
          69,
          70,
          71,
          72,
          73,
          74,
          75,
          76,
          77,
          78,
          79,
          80,
          81,
          82,
          83,
          84,
          85,
          86,
          87,
          88,
          89,
          90,
          91,
          92,
          93,
          94,
          95,
          96,
          97,
          98,
          99,
          100,
          101,
          102,
          103,
          104,
          105,
          106,
          107,
          108,
          109,
          110,
          111,
          112,
          113,
          114,
          115,
          116,
          117,
          118,
          119,
          120,
          121,
          122,
          123,
          124,
          125,
          126,
          127,
          128,
          129,
          130,
          131,
          132,
          133,
          134,
          135,
          136,
          137,
          138,
          139,
          140,
          141,
          142,
          143,
          144,
          145,
          146,
          147,
          148,
          149,
          150,
          151,
          152,
          153,
          154,
          155,
          156,
          157,
          158,
          159,
          160,
          161,
          162,
          163,
          164,
          165,
          166,
          167,
          168,
          169,
          170,
          171,
          172,
          173,
          174,
          175,
          176,
          177,
          178,
          179,
          180,
          181,
          182,
          183,
          184,
          185,
          186,
          187,
          188,
          189,
          190,
          191,
          192,
          193,
          194,
          195,
          196,
          197,
          198,
          199,
          200,
          201,
          202,
          203,
          204,
          205,
          206,
          207,
          208,
          209,
          210,
          211,
          212,
          213,
          214,
          215,
          216,
          217,
          218,
          219,
          220,
          221,
          222,
          223,
          224,
          225,
          226,
          227,
          228,
          229,
          230,
          231,
          232,
          233,
          234,
          235,
          236,
          237,
          238,
          239,
          240,
          241,
          242,
          243,
          244,
          245,
          246,
          247,
          248,
          249,
          250,
          251,
          252,
          253,
          254,
          255
         ],
         "xaxis": "x",
         "y": [
          0.275,
          0.175,
          0.315,
          0.375,
          0.5,
          0.8,
          1.26,
          1.1549999999999998,
          1.1949999999999998,
          1.14,
          1.165,
          1.22,
          1.26,
          1.2,
          1.725,
          1.745,
          1.8,
          1.81,
          1.865,
          1.87,
          1.9,
          1.9249999999999998,
          1.88,
          1.87,
          1.895,
          1.91,
          1.9,
          1.915,
          1.975,
          1.9300000000000002,
          2.57,
          3.255,
          2.7800000000000002,
          2.6550000000000002,
          4.055,
          3.045,
          2.5300000000000002,
          2.56,
          2.615,
          2.54,
          2.5700000000000003,
          2.59,
          2.625,
          2.6399999999999997,
          2.76,
          2.64,
          2.63,
          2.675,
          2.675,
          2.6399999999999997,
          2.67,
          2.665,
          2.67,
          2.63,
          2.69,
          2.67,
          2.635,
          2.64,
          2.7350000000000003,
          2.7199999999999998,
          2.755,
          2.2750000000000004,
          1.9249999999999998,
          2.045,
          2.21,
          2.5700000000000003,
          2.51,
          2.52,
          2.875,
          2.4450000000000003,
          2.375,
          2.465,
          2.735,
          2.525,
          2.67,
          2.645,
          2.8899999999999997,
          2.775,
          2.785,
          2.825,
          3.015,
          2.985,
          2.93,
          3.14,
          2.95,
          3.005,
          3.005,
          3.04,
          3.015,
          2.9699999999999998,
          3.085,
          3.1500000000000004,
          3.215,
          3.325,
          3.295,
          3.325,
          3.3049999999999997,
          3.5300000000000002,
          3.86,
          3.33,
          3.8899999999999997,
          3.41,
          3.83,
          3.4699999999999998,
          3.5599999999999996,
          3.66,
          4.405,
          3.685,
          3.88,
          3.62,
          4.075,
          3.8550000000000004,
          4.27,
          3.975,
          3.8,
          3.91,
          3.895,
          3.815,
          3.99,
          3.955,
          4.4,
          3.935,
          4.045,
          3.795,
          3.645,
          3.745,
          2.5549999999999997,
          2.96,
          2.685,
          2.995,
          2.875,
          2.92,
          3.09,
          4.04,
          3.585,
          4.375,
          6.205,
          3.705,
          3.355,
          3.725,
          3.375,
          3.9399999999999995,
          4.065,
          3.66,
          3.605,
          3.8899999999999997,
          3.565,
          3.76,
          4.22,
          4.875,
          4.495,
          4.6,
          4.405,
          5.755,
          5.055,
          5.125,
          5.6899999999999995,
          6.16,
          5.675,
          6.115,
          6.805,
          8.844999999999999,
          8.955,
          7.42,
          9.445,
          7.3149999999999995,
          8.22,
          7.875,
          9.975,
          7.199999999999999,
          7.22,
          7.18,
          7.425,
          5.945,
          6.08,
          6.075,
          7.1899999999999995,
          7.994999999999999,
          6.6,
          7.415,
          6.975,
          7.65,
          6.84,
          7.959999999999999,
          7.425,
          8.68,
          8.065,
          9.525,
          8.67,
          7.66,
          9.11,
          8.42,
          8.65,
          9.66,
          8.51,
          9.85,
          10.16,
          9.405,
          9.530000000000001,
          10.855,
          9.855,
          10.425,
          10.344999999999999,
          10.215,
          10.45,
          10.795,
          10.59,
          12.035,
          11.024999999999999,
          11.26,
          11.575,
          11.46,
          11.780000000000001,
          11.645,
          11.455,
          11.58,
          12.135000000000002,
          13.165,
          12.725000000000001,
          12.045,
          11.115,
          10.94,
          11.775,
          14.62,
          11.825,
          12.125,
          12.865,
          12.155000000000001,
          12.275,
          12.690000000000001,
          14.135,
          13.11,
          12.719999999999999,
          12.785,
          13.59,
          14.525,
          14.58,
          16.18,
          15.309999999999999,
          16.055,
          15.535,
          14.47,
          15.675,
          18.630000000000003,
          16.325,
          15.02,
          16.37,
          16.375,
          16.54,
          16.93,
          17.39,
          17.57,
          17.990000000000002
         ],
         "yaxis": "y"
        },
        {
         "name": "logP",
         "type": "scatter",
         "x": [
          3,
          4,
          5,
          6,
          7,
          8,
          9,
          10,
          11,
          12,
          13,
          14,
          15,
          16,
          17,
          18,
          19,
          20,
          21,
          22,
          23,
          24,
          25,
          26,
          27,
          28,
          29,
          30,
          31,
          32,
          33,
          34,
          35,
          36,
          37,
          38,
          39,
          40,
          41,
          42,
          43,
          44,
          45,
          46,
          47,
          48,
          49,
          50,
          51,
          52,
          53,
          54,
          55,
          56,
          57,
          58,
          59,
          60,
          61,
          62,
          63,
          64,
          65,
          66,
          67,
          68,
          69,
          70,
          71,
          72,
          73,
          74,
          75,
          76,
          77,
          78,
          79,
          80,
          81,
          82,
          83,
          84,
          85,
          86,
          87,
          88,
          89,
          90,
          91,
          92,
          93,
          94,
          95,
          96,
          97,
          98,
          99,
          100,
          101,
          102,
          103,
          104,
          105,
          106,
          107,
          108,
          109,
          110,
          111,
          112,
          113,
          114,
          115,
          116,
          117,
          118,
          119,
          120,
          121,
          122,
          123,
          124,
          125,
          126,
          127,
          128,
          129,
          130,
          131,
          132,
          133,
          134,
          135,
          136,
          137,
          138,
          139,
          140,
          141,
          142,
          143,
          144,
          145,
          146,
          147,
          148,
          149,
          150,
          151,
          152,
          153,
          154,
          155,
          156,
          157,
          158,
          159,
          160,
          161,
          162,
          163,
          164,
          165,
          166,
          167,
          168,
          169,
          170,
          171,
          172,
          173,
          174,
          175,
          176,
          177,
          178,
          179,
          180,
          181,
          182,
          183,
          184,
          185,
          186,
          187,
          188,
          189,
          190,
          191,
          192,
          193,
          194,
          195,
          196,
          197,
          198,
          199,
          200,
          201,
          202,
          203,
          204,
          205,
          206,
          207,
          208,
          209,
          210,
          211,
          212,
          213,
          214,
          215,
          216,
          217,
          218,
          219,
          220,
          221,
          222,
          223,
          224,
          225,
          226,
          227,
          228,
          229,
          230,
          231,
          232,
          233,
          234,
          235,
          236,
          237,
          238,
          239,
          240,
          241,
          242,
          243,
          244,
          245,
          246,
          247,
          248,
          249,
          250,
          251,
          252,
          253,
          254,
          255
         ],
         "y": [
          0.14164761904761908,
          0.28329523809523816,
          0.6272965986394559,
          0.6272965986394559,
          0.6272965986394559,
          0.9409448979591838,
          1.0320040816326532,
          1.0320040816326532,
          1.0320040816326532,
          1.0320040816326532,
          1.0320040816326532,
          1.0320040816326532,
          1.0320040816326532,
          1.376005442176871,
          1.7807129251700682,
          1.7807129251700682,
          1.7807129251700682,
          1.7807129251700682,
          1.7807129251700682,
          1.7807129251700682,
          1.7807129251700682,
          1.7807129251700682,
          1.7807129251700682,
          1.7807129251700682,
          1.7807129251700682,
          1.7807129251700682,
          1.7807129251700682,
          1.7807129251700682,
          1.7807129251700682,
          2.2258911564625854,
          2.2258911564625854,
          2.2258911564625854,
          2.2258911564625854,
          2.2258911564625854,
          2.2258911564625854,
          2.2258911564625854,
          2.2258911564625854,
          2.2258911564625854,
          2.2258911564625854,
          2.2258911564625854,
          2.2258911564625854,
          2.2258911564625854,
          2.2258911564625854,
          2.2258911564625854,
          2.2258911564625854,
          2.2258911564625854,
          2.2258911564625854,
          2.2258911564625854,
          2.2258911564625854,
          2.2258911564625854,
          2.2258911564625854,
          2.2258911564625854,
          2.2258911564625854,
          2.2258911564625854,
          2.2258911564625854,
          2.2258911564625854,
          2.2258911564625854,
          2.2258911564625854,
          2.2258911564625854,
          2.2258911564625854,
          2.2258911564625854,
          2.6710693877551024,
          4.006604081632654,
          4.006604081632654,
          4.006604081632654,
          4.006604081632654,
          4.006604081632654,
          4.006604081632654,
          4.006604081632654,
          4.006604081632654,
          4.006604081632654,
          4.006604081632654,
          4.006604081632654,
          4.006604081632654,
          4.006604081632654,
          4.006604081632654,
          4.006604081632654,
          4.006604081632654,
          4.006604081632654,
          4.006604081632654,
          4.006604081632654,
          4.006604081632654,
          4.006604081632654,
          4.006604081632654,
          4.006604081632654,
          4.006604081632654,
          4.006604081632654,
          4.006604081632654,
          4.006604081632654,
          4.006604081632654,
          4.006604081632654,
          4.006604081632654,
          4.006604081632654,
          4.006604081632654,
          4.006604081632654,
          4.006604081632654,
          4.006604081632654,
          4.006604081632654,
          4.006604081632654,
          4.006604081632654,
          4.006604081632654,
          4.006604081632654,
          4.006604081632654,
          4.006604081632654,
          4.006604081632654,
          4.006604081632654,
          4.006604081632654,
          4.006604081632654,
          4.006604081632654,
          4.006604081632654,
          4.006604081632654,
          4.006604081632654,
          4.006604081632654,
          4.006604081632654,
          4.006604081632654,
          4.006604081632654,
          4.006604081632654,
          4.006604081632654,
          4.006604081632654,
          4.006604081632654,
          4.006604081632654,
          4.006604081632654,
          4.006604081632654,
          4.006604081632654,
          4.006604081632654,
          4.674371428571429,
          12.889933333333335,
          12.889933333333335,
          12.889933333333335,
          12.889933333333335,
          12.889933333333335,
          12.889933333333335,
          12.889933333333335,
          12.889933333333335,
          12.889933333333335,
          12.889933333333335,
          12.889933333333335,
          12.889933333333335,
          12.889933333333335,
          12.889933333333335,
          12.889933333333335,
          12.889933333333335,
          12.889933333333335,
          12.889933333333335,
          12.889933333333335,
          12.889933333333335,
          12.889933333333335,
          14.466573333333335,
          14.466573333333335,
          14.466573333333335,
          14.466573333333335,
          14.466573333333335,
          14.466573333333335,
          14.466573333333335,
          14.466573333333335,
          14.466573333333335,
          14.466573333333335,
          14.466573333333335,
          14.466573333333335,
          14.466573333333335,
          14.466573333333335,
          14.466573333333335,
          14.466573333333335,
          14.466573333333335,
          14.466573333333335,
          14.466573333333335,
          14.466573333333335,
          14.466573333333335,
          14.466573333333335,
          14.466573333333335,
          14.466573333333335,
          14.466573333333335,
          14.466573333333335,
          14.466573333333335,
          14.466573333333335,
          14.466573333333335,
          14.466573333333335,
          14.466573333333335,
          14.466573333333335,
          14.466573333333335,
          14.466573333333335,
          14.466573333333335,
          14.466573333333335,
          14.466573333333335,
          14.466573333333335,
          14.466573333333335,
          14.466573333333335,
          14.466573333333335,
          14.466573333333335,
          14.466573333333335,
          14.466573333333335,
          14.466573333333335,
          14.466573333333335,
          14.466573333333335,
          14.466573333333335,
          14.466573333333335,
          14.466573333333335,
          14.466573333333335,
          14.466573333333335,
          14.466573333333335,
          14.466573333333335,
          14.466573333333335,
          14.466573333333335,
          14.466573333333335,
          14.466573333333335,
          14.466573333333335,
          14.466573333333335,
          14.466573333333335,
          14.466573333333335,
          14.466573333333335,
          14.466573333333335,
          14.466573333333335,
          14.466573333333335,
          14.466573333333335,
          14.466573333333335,
          14.466573333333335,
          14.466573333333335,
          14.466573333333335,
          14.466573333333335,
          14.466573333333335,
          14.466573333333335,
          14.466573333333335,
          14.466573333333335,
          14.466573333333335,
          14.466573333333335,
          14.466573333333335,
          14.466573333333335,
          14.466573333333335,
          14.466573333333335,
          14.466573333333335,
          14.466573333333335,
          14.466573333333335,
          14.466573333333335,
          14.466573333333335,
          14.466573333333335,
          14.466573333333335,
          14.466573333333335,
          14.466573333333335,
          14.466573333333335,
          14.466573333333335,
          14.466573333333335,
          14.466573333333335,
          14.466573333333335,
          14.466573333333335,
          14.466573333333335,
          14.466573333333335,
          14.466573333333335,
          14.466573333333335,
          14.466573333333335,
          14.466573333333335,
          14.466573333333335,
          14.466573333333335,
          14.466573333333335
         ]
        }
       ],
       "layout": {
        "annotations": [
         {
          "showarrow": false,
          "text": "Process 64",
          "x": 64,
          "xanchor": "left",
          "xref": "x",
          "y": 1,
          "yanchor": "top",
          "yref": "y domain"
         },
         {
          "showarrow": false,
          "text": "Process 128",
          "x": 128,
          "xanchor": "left",
          "xref": "x",
          "y": 1,
          "yanchor": "top",
          "yref": "y domain"
         }
        ],
        "legend": {
         "tracegroupgap": 0
        },
        "shapes": [
         {
          "line": {
           "color": "red",
           "dash": "dash"
          },
          "type": "line",
          "x0": 64,
          "x1": 64,
          "xref": "x",
          "y0": 0,
          "y1": 1,
          "yref": "y domain"
         },
         {
          "line": {
           "color": "blue",
           "dash": "dash"
          },
          "type": "line",
          "x0": 128,
          "x1": 128,
          "xref": "x",
          "y0": 0,
          "y1": 1,
          "yref": "y domain"
         }
        ],
        "template": {
         "data": {
          "bar": [
           {
            "error_x": {
             "color": "#2a3f5f"
            },
            "error_y": {
             "color": "#2a3f5f"
            },
            "marker": {
             "line": {
              "color": "#E5ECF6",
              "width": 0.5
             },
             "pattern": {
              "fillmode": "overlay",
              "size": 10,
              "solidity": 0.2
             }
            },
            "type": "bar"
           }
          ],
          "barpolar": [
           {
            "marker": {
             "line": {
              "color": "#E5ECF6",
              "width": 0.5
             },
             "pattern": {
              "fillmode": "overlay",
              "size": 10,
              "solidity": 0.2
             }
            },
            "type": "barpolar"
           }
          ],
          "carpet": [
           {
            "aaxis": {
             "endlinecolor": "#2a3f5f",
             "gridcolor": "white",
             "linecolor": "white",
             "minorgridcolor": "white",
             "startlinecolor": "#2a3f5f"
            },
            "baxis": {
             "endlinecolor": "#2a3f5f",
             "gridcolor": "white",
             "linecolor": "white",
             "minorgridcolor": "white",
             "startlinecolor": "#2a3f5f"
            },
            "type": "carpet"
           }
          ],
          "choropleth": [
           {
            "colorbar": {
             "outlinewidth": 0,
             "ticks": ""
            },
            "type": "choropleth"
           }
          ],
          "contour": [
           {
            "colorbar": {
             "outlinewidth": 0,
             "ticks": ""
            },
            "colorscale": [
             [
              0,
              "#0d0887"
             ],
             [
              0.1111111111111111,
              "#46039f"
             ],
             [
              0.2222222222222222,
              "#7201a8"
             ],
             [
              0.3333333333333333,
              "#9c179e"
             ],
             [
              0.4444444444444444,
              "#bd3786"
             ],
             [
              0.5555555555555556,
              "#d8576b"
             ],
             [
              0.6666666666666666,
              "#ed7953"
             ],
             [
              0.7777777777777778,
              "#fb9f3a"
             ],
             [
              0.8888888888888888,
              "#fdca26"
             ],
             [
              1,
              "#f0f921"
             ]
            ],
            "type": "contour"
           }
          ],
          "contourcarpet": [
           {
            "colorbar": {
             "outlinewidth": 0,
             "ticks": ""
            },
            "type": "contourcarpet"
           }
          ],
          "heatmap": [
           {
            "colorbar": {
             "outlinewidth": 0,
             "ticks": ""
            },
            "colorscale": [
             [
              0,
              "#0d0887"
             ],
             [
              0.1111111111111111,
              "#46039f"
             ],
             [
              0.2222222222222222,
              "#7201a8"
             ],
             [
              0.3333333333333333,
              "#9c179e"
             ],
             [
              0.4444444444444444,
              "#bd3786"
             ],
             [
              0.5555555555555556,
              "#d8576b"
             ],
             [
              0.6666666666666666,
              "#ed7953"
             ],
             [
              0.7777777777777778,
              "#fb9f3a"
             ],
             [
              0.8888888888888888,
              "#fdca26"
             ],
             [
              1,
              "#f0f921"
             ]
            ],
            "type": "heatmap"
           }
          ],
          "heatmapgl": [
           {
            "colorbar": {
             "outlinewidth": 0,
             "ticks": ""
            },
            "colorscale": [
             [
              0,
              "#0d0887"
             ],
             [
              0.1111111111111111,
              "#46039f"
             ],
             [
              0.2222222222222222,
              "#7201a8"
             ],
             [
              0.3333333333333333,
              "#9c179e"
             ],
             [
              0.4444444444444444,
              "#bd3786"
             ],
             [
              0.5555555555555556,
              "#d8576b"
             ],
             [
              0.6666666666666666,
              "#ed7953"
             ],
             [
              0.7777777777777778,
              "#fb9f3a"
             ],
             [
              0.8888888888888888,
              "#fdca26"
             ],
             [
              1,
              "#f0f921"
             ]
            ],
            "type": "heatmapgl"
           }
          ],
          "histogram": [
           {
            "marker": {
             "pattern": {
              "fillmode": "overlay",
              "size": 10,
              "solidity": 0.2
             }
            },
            "type": "histogram"
           }
          ],
          "histogram2d": [
           {
            "colorbar": {
             "outlinewidth": 0,
             "ticks": ""
            },
            "colorscale": [
             [
              0,
              "#0d0887"
             ],
             [
              0.1111111111111111,
              "#46039f"
             ],
             [
              0.2222222222222222,
              "#7201a8"
             ],
             [
              0.3333333333333333,
              "#9c179e"
             ],
             [
              0.4444444444444444,
              "#bd3786"
             ],
             [
              0.5555555555555556,
              "#d8576b"
             ],
             [
              0.6666666666666666,
              "#ed7953"
             ],
             [
              0.7777777777777778,
              "#fb9f3a"
             ],
             [
              0.8888888888888888,
              "#fdca26"
             ],
             [
              1,
              "#f0f921"
             ]
            ],
            "type": "histogram2d"
           }
          ],
          "histogram2dcontour": [
           {
            "colorbar": {
             "outlinewidth": 0,
             "ticks": ""
            },
            "colorscale": [
             [
              0,
              "#0d0887"
             ],
             [
              0.1111111111111111,
              "#46039f"
             ],
             [
              0.2222222222222222,
              "#7201a8"
             ],
             [
              0.3333333333333333,
              "#9c179e"
             ],
             [
              0.4444444444444444,
              "#bd3786"
             ],
             [
              0.5555555555555556,
              "#d8576b"
             ],
             [
              0.6666666666666666,
              "#ed7953"
             ],
             [
              0.7777777777777778,
              "#fb9f3a"
             ],
             [
              0.8888888888888888,
              "#fdca26"
             ],
             [
              1,
              "#f0f921"
             ]
            ],
            "type": "histogram2dcontour"
           }
          ],
          "mesh3d": [
           {
            "colorbar": {
             "outlinewidth": 0,
             "ticks": ""
            },
            "type": "mesh3d"
           }
          ],
          "parcoords": [
           {
            "line": {
             "colorbar": {
              "outlinewidth": 0,
              "ticks": ""
             }
            },
            "type": "parcoords"
           }
          ],
          "pie": [
           {
            "automargin": true,
            "type": "pie"
           }
          ],
          "scatter": [
           {
            "fillpattern": {
             "fillmode": "overlay",
             "size": 10,
             "solidity": 0.2
            },
            "type": "scatter"
           }
          ],
          "scatter3d": [
           {
            "line": {
             "colorbar": {
              "outlinewidth": 0,
              "ticks": ""
             }
            },
            "marker": {
             "colorbar": {
              "outlinewidth": 0,
              "ticks": ""
             }
            },
            "type": "scatter3d"
           }
          ],
          "scattercarpet": [
           {
            "marker": {
             "colorbar": {
              "outlinewidth": 0,
              "ticks": ""
             }
            },
            "type": "scattercarpet"
           }
          ],
          "scattergeo": [
           {
            "marker": {
             "colorbar": {
              "outlinewidth": 0,
              "ticks": ""
             }
            },
            "type": "scattergeo"
           }
          ],
          "scattergl": [
           {
            "marker": {
             "colorbar": {
              "outlinewidth": 0,
              "ticks": ""
             }
            },
            "type": "scattergl"
           }
          ],
          "scattermapbox": [
           {
            "marker": {
             "colorbar": {
              "outlinewidth": 0,
              "ticks": ""
             }
            },
            "type": "scattermapbox"
           }
          ],
          "scatterpolar": [
           {
            "marker": {
             "colorbar": {
              "outlinewidth": 0,
              "ticks": ""
             }
            },
            "type": "scatterpolar"
           }
          ],
          "scatterpolargl": [
           {
            "marker": {
             "colorbar": {
              "outlinewidth": 0,
              "ticks": ""
             }
            },
            "type": "scatterpolargl"
           }
          ],
          "scatterternary": [
           {
            "marker": {
             "colorbar": {
              "outlinewidth": 0,
              "ticks": ""
             }
            },
            "type": "scatterternary"
           }
          ],
          "surface": [
           {
            "colorbar": {
             "outlinewidth": 0,
             "ticks": ""
            },
            "colorscale": [
             [
              0,
              "#0d0887"
             ],
             [
              0.1111111111111111,
              "#46039f"
             ],
             [
              0.2222222222222222,
              "#7201a8"
             ],
             [
              0.3333333333333333,
              "#9c179e"
             ],
             [
              0.4444444444444444,
              "#bd3786"
             ],
             [
              0.5555555555555556,
              "#d8576b"
             ],
             [
              0.6666666666666666,
              "#ed7953"
             ],
             [
              0.7777777777777778,
              "#fb9f3a"
             ],
             [
              0.8888888888888888,
              "#fdca26"
             ],
             [
              1,
              "#f0f921"
             ]
            ],
            "type": "surface"
           }
          ],
          "table": [
           {
            "cells": {
             "fill": {
              "color": "#EBF0F8"
             },
             "line": {
              "color": "white"
             }
            },
            "header": {
             "fill": {
              "color": "#C8D4E3"
             },
             "line": {
              "color": "white"
             }
            },
            "type": "table"
           }
          ]
         },
         "layout": {
          "annotationdefaults": {
           "arrowcolor": "#2a3f5f",
           "arrowhead": 0,
           "arrowwidth": 1
          },
          "autotypenumbers": "strict",
          "coloraxis": {
           "colorbar": {
            "outlinewidth": 0,
            "ticks": ""
           }
          },
          "colorscale": {
           "diverging": [
            [
             0,
             "#8e0152"
            ],
            [
             0.1,
             "#c51b7d"
            ],
            [
             0.2,
             "#de77ae"
            ],
            [
             0.3,
             "#f1b6da"
            ],
            [
             0.4,
             "#fde0ef"
            ],
            [
             0.5,
             "#f7f7f7"
            ],
            [
             0.6,
             "#e6f5d0"
            ],
            [
             0.7,
             "#b8e186"
            ],
            [
             0.8,
             "#7fbc41"
            ],
            [
             0.9,
             "#4d9221"
            ],
            [
             1,
             "#276419"
            ]
           ],
           "sequential": [
            [
             0,
             "#0d0887"
            ],
            [
             0.1111111111111111,
             "#46039f"
            ],
            [
             0.2222222222222222,
             "#7201a8"
            ],
            [
             0.3333333333333333,
             "#9c179e"
            ],
            [
             0.4444444444444444,
             "#bd3786"
            ],
            [
             0.5555555555555556,
             "#d8576b"
            ],
            [
             0.6666666666666666,
             "#ed7953"
            ],
            [
             0.7777777777777778,
             "#fb9f3a"
            ],
            [
             0.8888888888888888,
             "#fdca26"
            ],
            [
             1,
             "#f0f921"
            ]
           ],
           "sequentialminus": [
            [
             0,
             "#0d0887"
            ],
            [
             0.1111111111111111,
             "#46039f"
            ],
            [
             0.2222222222222222,
             "#7201a8"
            ],
            [
             0.3333333333333333,
             "#9c179e"
            ],
            [
             0.4444444444444444,
             "#bd3786"
            ],
            [
             0.5555555555555556,
             "#d8576b"
            ],
            [
             0.6666666666666666,
             "#ed7953"
            ],
            [
             0.7777777777777778,
             "#fb9f3a"
            ],
            [
             0.8888888888888888,
             "#fdca26"
            ],
            [
             1,
             "#f0f921"
            ]
           ]
          },
          "colorway": [
           "#636efa",
           "#EF553B",
           "#00cc96",
           "#ab63fa",
           "#FFA15A",
           "#19d3f3",
           "#FF6692",
           "#B6E880",
           "#FF97FF",
           "#FECB52"
          ],
          "font": {
           "color": "#2a3f5f"
          },
          "geo": {
           "bgcolor": "white",
           "lakecolor": "white",
           "landcolor": "#E5ECF6",
           "showlakes": true,
           "showland": true,
           "subunitcolor": "white"
          },
          "hoverlabel": {
           "align": "left"
          },
          "hovermode": "closest",
          "mapbox": {
           "style": "light"
          },
          "paper_bgcolor": "white",
          "plot_bgcolor": "#E5ECF6",
          "polar": {
           "angularaxis": {
            "gridcolor": "white",
            "linecolor": "white",
            "ticks": ""
           },
           "bgcolor": "#E5ECF6",
           "radialaxis": {
            "gridcolor": "white",
            "linecolor": "white",
            "ticks": ""
           }
          },
          "scene": {
           "xaxis": {
            "backgroundcolor": "#E5ECF6",
            "gridcolor": "white",
            "gridwidth": 2,
            "linecolor": "white",
            "showbackground": true,
            "ticks": "",
            "zerolinecolor": "white"
           },
           "yaxis": {
            "backgroundcolor": "#E5ECF6",
            "gridcolor": "white",
            "gridwidth": 2,
            "linecolor": "white",
            "showbackground": true,
            "ticks": "",
            "zerolinecolor": "white"
           },
           "zaxis": {
            "backgroundcolor": "#E5ECF6",
            "gridcolor": "white",
            "gridwidth": 2,
            "linecolor": "white",
            "showbackground": true,
            "ticks": "",
            "zerolinecolor": "white"
           }
          },
          "shapedefaults": {
           "line": {
            "color": "#2a3f5f"
           }
          },
          "ternary": {
           "aaxis": {
            "gridcolor": "white",
            "linecolor": "white",
            "ticks": ""
           },
           "baxis": {
            "gridcolor": "white",
            "linecolor": "white",
            "ticks": ""
           },
           "bgcolor": "#E5ECF6",
           "caxis": {
            "gridcolor": "white",
            "linecolor": "white",
            "ticks": ""
           }
          },
          "title": {
           "x": 0.05
          },
          "xaxis": {
           "automargin": true,
           "gridcolor": "white",
           "linecolor": "white",
           "ticks": "",
           "title": {
            "standoff": 15
           },
           "zerolinecolor": "white",
           "zerolinewidth": 2
          },
          "yaxis": {
           "automargin": true,
           "gridcolor": "white",
           "linecolor": "white",
           "ticks": "",
           "title": {
            "standoff": 15
           },
           "zerolinecolor": "white",
           "zerolinewidth": 2
          }
         }
        },
        "title": {
         "text": "Broadcast: Binary"
        },
        "xaxis": {
         "anchor": "y",
         "domain": [
          0,
          1
         ],
         "title": {
          "text": "processes"
         }
        },
        "yaxis": {
         "anchor": "x",
         "domain": [
          0,
          1
         ],
         "title": {
          "text": "avg time"
         }
        }
       }
      }
     },
     "metadata": {},
     "output_type": "display_data"
    }
   ],
   "source": [
    "fig = px.line(binary_df, x='processes', y='avg time', title=\"Broadcast: Binary\")\n",
    "t = go.Line(x=binary_df[\"processes\"], y=binary_df['LogP'], name=\"logP\")\n",
    "fig.add_trace(t)\n",
    "\n",
    "\n",
    "fig.add_vline(x=64, line_dash=\"dash\", line_color=\"red\", annotation_text=\"Process 64\")\n",
    "fig.add_vline(x=128, line_dash=\"dash\", line_color=\"blue\", annotation_text=\"Process 128\")\n",
    "fig"
   ]
  }
 ],
 "metadata": {
  "kernelspec": {
   "display_name": "rec",
   "language": "python",
   "name": "python3"
  },
  "language_info": {
   "codemirror_mode": {
    "name": "ipython",
    "version": 3
   },
   "file_extension": ".py",
   "mimetype": "text/x-python",
   "name": "python",
   "nbconvert_exporter": "python",
   "pygments_lexer": "ipython3",
   "version": "3.10.12"
  }
 },
 "nbformat": 4,
 "nbformat_minor": 2
}
